{
 "cells": [
  {
   "cell_type": "markdown",
   "id": "c47f4f49-90ce-4010-be71-70269d120fec",
   "metadata": {},
   "source": [
    "## Constructor:"
   ]
  },
  {
   "cell_type": "code",
   "execution_count": null,
   "id": "80a86952-bdd7-4d9f-8b80-ce5dd49bf111",
   "metadata": {},
   "outputs": [],
   "source": []
  },
  {
   "cell_type": "markdown",
   "id": "c91cd278-a27e-4e73-bc77-049d1e9783ba",
   "metadata": {},
   "source": [
    "1. What is a constructor in Python? Explain its purpose and usage."
   ]
  },
  {
   "cell_type": "markdown",
   "id": "9b8f22c5-063d-4676-804d-9734d67a5d82",
   "metadata": {},
   "source": [
    "A constructor is a special method in Python that is called when an object is created. The purpose of a constructor is to initialize the attributes of the object. In Python, the constructor is defined using the __init__() method. When an object is created, the __init__() method is automatically called and it initializes the attributes of the object "
   ]
  },
  {
   "cell_type": "code",
   "execution_count": null,
   "id": "a3a38ff4-78f1-425d-a37e-63b8fe0aaf71",
   "metadata": {},
   "outputs": [],
   "source": []
  },
  {
   "cell_type": "markdown",
   "id": "6b734f7d-36fc-486c-bf36-c4ec68d52275",
   "metadata": {},
   "source": [
    "2. Differentiate between a parameterless constructor and a parameterized constructor in Python."
   ]
  },
  {
   "cell_type": "markdown",
   "id": "2d21dd04-f2be-46d2-9c71-330fe323e11b",
   "metadata": {},
   "source": [
    "There are two types of constructors in Python: default constructor and parameterized constructor. A default constructor is a simple constructor that does not accept any arguments. Its definition has only one argument which is a reference to the instance being constructed. A parameterized constructor is a constructor with parameters. The parameterized constructor takes its first argument as a reference to the instance being constructed known as self and the rest of the arguments are provided by the programmer"
   ]
  },
  {
   "cell_type": "code",
   "execution_count": null,
   "id": "a83c719f-009c-4f91-b6fd-bc2733a92afa",
   "metadata": {},
   "outputs": [],
   "source": []
  },
  {
   "cell_type": "markdown",
   "id": "37eca44d-86dc-40ed-a780-9de4ae3437ef",
   "metadata": {},
   "source": [
    "3. How do you define a constructor in a Python class? Provide an example."
   ]
  },
  {
   "cell_type": "code",
   "execution_count": null,
   "id": "890b3d24-1ed2-4f74-a040-bc7041cbf8d8",
   "metadata": {},
   "outputs": [],
   "source": []
  },
  {
   "cell_type": "code",
   "execution_count": 1,
   "id": "93b46c7d-d96c-4c6a-a6d8-8ee361a7db38",
   "metadata": {},
   "outputs": [],
   "source": [
    "class Student:\n",
    "    def __init__(self,name,section,rollno):\n",
    "        self.my_name=name\n",
    "        self.my_section=section\n",
    "        self.my_rollno=rollno"
   ]
  },
  {
   "cell_type": "code",
   "execution_count": 2,
   "id": "53bc8c24-e37a-4d9b-8f4c-b33bc27a4d87",
   "metadata": {},
   "outputs": [],
   "source": [
    "stu=Student(\"Ritik\",\"b\",19)"
   ]
  },
  {
   "cell_type": "code",
   "execution_count": 7,
   "id": "8a53affe-cf7c-40d4-a1d1-a491850a33e8",
   "metadata": {},
   "outputs": [
    {
     "data": {
      "text/plain": [
       "'Ritik'"
      ]
     },
     "execution_count": 7,
     "metadata": {},
     "output_type": "execute_result"
    }
   ],
   "source": [
    "stu.my_name"
   ]
  },
  {
   "cell_type": "markdown",
   "id": "f7174f96-62d7-4078-8214-ef7b13c6a59b",
   "metadata": {},
   "source": [
    "OR"
   ]
  },
  {
   "cell_type": "code",
   "execution_count": 6,
   "id": "84036289-4148-4de0-8fac-8f9f65f17c3a",
   "metadata": {},
   "outputs": [
    {
     "name": "stdout",
     "output_type": "stream",
     "text": [
      "Toyota\n",
      "Corolla\n",
      "2022\n"
     ]
    }
   ],
   "source": [
    "class Car:\n",
    "    def __init__(self, make, model, year):\n",
    "        self.make = make\n",
    "        self.model = model\n",
    "        self.year = year\n",
    "\n",
    "my_car = Car(\"Toyota\", \"Corolla\", 2022)\n",
    "\n",
    "print(my_car.make)  # Output: Toyota\n",
    "print(my_car.model)  # Output: Corolla\n",
    "print(my_car.year)  # Output: 2022\n"
   ]
  },
  {
   "cell_type": "code",
   "execution_count": null,
   "id": "023f6b22-b9aa-4926-8895-500ab79b1122",
   "metadata": {},
   "outputs": [],
   "source": []
  },
  {
   "cell_type": "markdown",
   "id": "378471a7-130a-43e2-861c-0bca748eb2ae",
   "metadata": {},
   "source": [
    "4. Explain the `__init__` method in Python and its role in constructors."
   ]
  },
  {
   "cell_type": "markdown",
   "id": "bc5497db-ebe6-4e88-887c-d250b49b835d",
   "metadata": {},
   "source": [
    "The __init__ method in Python is a special method that is used to initialize an object of a class. It is called when an object of the class is created. The __init__ method is used to set the initial values of the instance variables of the object."
   ]
  },
  {
   "cell_type": "code",
   "execution_count": null,
   "id": "f6a2a5c6-9ee3-47ab-9397-031d2667c9c9",
   "metadata": {},
   "outputs": [],
   "source": []
  },
  {
   "cell_type": "markdown",
   "id": "d27bd2e8-9c29-4123-a2ef-946fd90e1594",
   "metadata": {},
   "source": [
    "5. In a class named `Person`, create a constructor that initializes the `name` and `age` attributes. Provide an \n",
    "example of creating an object of this class."
   ]
  },
  {
   "cell_type": "code",
   "execution_count": 11,
   "id": "a931ef3f-395a-4f87-8d7b-a11c7d1b76fc",
   "metadata": {},
   "outputs": [],
   "source": [
    "class Person:\n",
    "    def __init__(self,name,age):\n",
    "        self.my_name=name\n",
    "        self.my_age=age"
   ]
  },
  {
   "cell_type": "code",
   "execution_count": 12,
   "id": "a244bbcb-ebea-46ed-9cf3-1a06d07501ae",
   "metadata": {},
   "outputs": [],
   "source": [
    "per=Person(\"Ritik\",22)"
   ]
  },
  {
   "cell_type": "code",
   "execution_count": 13,
   "id": "30d4013f-8b43-4766-a7f4-5fa23166f97e",
   "metadata": {},
   "outputs": [
    {
     "data": {
      "text/plain": [
       "22"
      ]
     },
     "execution_count": 13,
     "metadata": {},
     "output_type": "execute_result"
    }
   ],
   "source": [
    "per.my_age"
   ]
  },
  {
   "cell_type": "code",
   "execution_count": 14,
   "id": "f120e631-21a1-4ef5-a5ee-ca2a111a5ac4",
   "metadata": {},
   "outputs": [
    {
     "data": {
      "text/plain": [
       "'Ritik'"
      ]
     },
     "execution_count": 14,
     "metadata": {},
     "output_type": "execute_result"
    }
   ],
   "source": [
    "per.my_name"
   ]
  },
  {
   "cell_type": "code",
   "execution_count": null,
   "id": "f9bbbafb-4097-46ce-a75a-82a430fbe110",
   "metadata": {},
   "outputs": [],
   "source": []
  },
  {
   "cell_type": "markdown",
   "id": "0f0a6411-e847-4dfb-bb71-b1f90a1f5a10",
   "metadata": {},
   "source": [
    "6. How can you call a constructor explicitly in Python? Give an example."
   ]
  },
  {
   "cell_type": "code",
   "execution_count": null,
   "id": "abf38335-fc44-4c07-8d5b-c71dfe7a5479",
   "metadata": {},
   "outputs": [],
   "source": [
    "class Car:\n",
    "    def __init__(self, make, model, year):\n",
    "        self.make = make\n",
    "        self.model = model\n",
    "        self.year = year\n",
    "\n",
    "my_car = Car(\"Toyota\", \"Corolla\", 2022)\n",
    "\n",
    "# Call the constructor explicitly\n",
    "my_car.__init__(\"Honda\", \"Civic\", 2023)\n",
    "\n",
    "print(my_car.make)  # Output: Honda\n",
    "print(my_car.model)  # Output: Civic\n",
    "print(my_car.year)  # Output: 2023\n"
   ]
  },
  {
   "cell_type": "code",
   "execution_count": 1,
   "id": "bbf9626b-0ca0-46fb-968e-d12ce129dfe8",
   "metadata": {},
   "outputs": [],
   "source": [
    "#or"
   ]
  },
  {
   "cell_type": "code",
   "execution_count": 15,
   "id": "46ad4876-ce19-4d91-abe9-037399b0dc87",
   "metadata": {},
   "outputs": [],
   "source": [
    "class bike:\n",
    "    def __init__(self,name,model):\n",
    "        self.name=name\n",
    "        self.model=model"
   ]
  },
  {
   "cell_type": "code",
   "execution_count": 18,
   "id": "ed6b250a-ab83-4940-bfc5-11e888164b42",
   "metadata": {},
   "outputs": [],
   "source": [
    "my_bike = bike(\"splendor\",\"Honda\")"
   ]
  },
  {
   "cell_type": "code",
   "execution_count": 19,
   "id": "36c74fb5-61ec-4d49-bb36-9b87ebac53bc",
   "metadata": {},
   "outputs": [],
   "source": [
    "my_bike.__init__(\"ktm\",\"duke\")"
   ]
  },
  {
   "cell_type": "code",
   "execution_count": 20,
   "id": "34034111-b408-4d25-96de-46658390a882",
   "metadata": {},
   "outputs": [
    {
     "data": {
      "text/plain": [
       "'duke'"
      ]
     },
     "execution_count": 20,
     "metadata": {},
     "output_type": "execute_result"
    }
   ],
   "source": [
    "my_bike.model"
   ]
  },
  {
   "cell_type": "code",
   "execution_count": null,
   "id": "e33c800c-fae2-48a7-9b24-f3733e5ebbc8",
   "metadata": {},
   "outputs": [],
   "source": []
  },
  {
   "cell_type": "markdown",
   "id": "789d940c-228f-4251-a1e9-41683f4a3288",
   "metadata": {},
   "source": [
    "7. What is the significance of the `self` parameter in Python constructors? Explain with an example."
   ]
  },
  {
   "cell_type": "markdown",
   "id": "88cc40ed-4167-4487-96e3-5ff8701f5097",
   "metadata": {},
   "source": [
    "In Python, the self parameter in a constructor refers to the instance of the class that is being created. It is used to access the instance variables and methods of the class"
   ]
  },
  {
   "cell_type": "code",
   "execution_count": 22,
   "id": "cabc2bcf-5679-47e4-b730-ce83db3e1482",
   "metadata": {},
   "outputs": [],
   "source": [
    "class Person:\n",
    "    def __init__(self,name,age):\n",
    "        self.my_name=name\n",
    "        self.my_age=age"
   ]
  },
  {
   "cell_type": "code",
   "execution_count": 24,
   "id": "e05c19f3-3bd6-4e56-8f23-a5e0ae5a38ef",
   "metadata": {},
   "outputs": [],
   "source": [
    "p=Person(\"virat\",25)"
   ]
  },
  {
   "cell_type": "code",
   "execution_count": 25,
   "id": "94be1384-497a-4caa-8c75-00a15281ca39",
   "metadata": {},
   "outputs": [
    {
     "data": {
      "text/plain": [
       "25"
      ]
     },
     "execution_count": 25,
     "metadata": {},
     "output_type": "execute_result"
    }
   ],
   "source": [
    "p.my_age"
   ]
  },
  {
   "cell_type": "code",
   "execution_count": 26,
   "id": "c999babc-f0a6-43d9-9048-d7765ec095c7",
   "metadata": {},
   "outputs": [
    {
     "data": {
      "text/plain": [
       "'virat'"
      ]
     },
     "execution_count": 26,
     "metadata": {},
     "output_type": "execute_result"
    }
   ],
   "source": [
    "p.my_name"
   ]
  },
  {
   "cell_type": "code",
   "execution_count": null,
   "id": "da2dd547-c94a-4c72-9d75-2e7b627873d4",
   "metadata": {},
   "outputs": [],
   "source": []
  },
  {
   "cell_type": "markdown",
   "id": "79eedca5-4bc3-461d-b7ec-9c0bb625fdc3",
   "metadata": {},
   "source": [
    "8. Discuss the concept of default constructors in Python. When are they used?"
   ]
  },
  {
   "cell_type": "markdown",
   "id": "be2a7701-af0b-4d2a-9c87-126b292261c5",
   "metadata": {},
   "source": [
    "In Python, a default constructor is a constructor that doesn’t accept any arguments. It is a simple constructor that initializes the instance variables of a class with default values. The default constructor is automatically called when an object of the class is created."
   ]
  },
  {
   "cell_type": "code",
   "execution_count": 29,
   "id": "e5134233-7813-462f-b43e-5d6a883e718d",
   "metadata": {},
   "outputs": [
    {
     "data": {
      "text/plain": [
       "15"
      ]
     },
     "execution_count": 29,
     "metadata": {},
     "output_type": "execute_result"
    }
   ],
   "source": [
    "class MyClass:\n",
    "    def __init__(self):\n",
    "        self.my_variable = 15\n",
    "\n",
    "my_object = MyClass()\n",
    "my_object.my_variable"
   ]
  },
  {
   "cell_type": "code",
   "execution_count": null,
   "id": "b350d8df-aea0-4d25-95aa-30de70e6c096",
   "metadata": {},
   "outputs": [],
   "source": []
  },
  {
   "cell_type": "markdown",
   "id": "22822b0a-528e-4bea-9e44-f5532db603d8",
   "metadata": {},
   "source": [
    "9. Create a Python class called `Rectangle` with a constructor that initializes the `width` and `height` \n",
    "attributes. Provide a method to calculate the area of the rectangle."
   ]
  },
  {
   "cell_type": "code",
   "execution_count": 13,
   "id": "5c01a9a1-99f2-4d5f-b443-bdfda2444d00",
   "metadata": {},
   "outputs": [],
   "source": [
    "class Rectangle:\n",
    "    def __init__(self,width,height):\n",
    "        self.width=width\n",
    "        self.height=height\n",
    "\n",
    "    def area(self):\n",
    "        rectangle_area=self.width * self.height\n",
    "        return rectangle_area"
   ]
  },
  {
   "cell_type": "code",
   "execution_count": 14,
   "id": "9e051724-e5d8-48e3-84d4-60537a26d016",
   "metadata": {},
   "outputs": [],
   "source": [
    "rec=Rectangle(2,5)"
   ]
  },
  {
   "cell_type": "code",
   "execution_count": 15,
   "id": "2badba27-a0d6-4776-8a90-8f9de9891c30",
   "metadata": {},
   "outputs": [
    {
     "data": {
      "text/plain": [
       "10"
      ]
     },
     "execution_count": 15,
     "metadata": {},
     "output_type": "execute_result"
    }
   ],
   "source": [
    "rec.area()"
   ]
  },
  {
   "cell_type": "code",
   "execution_count": 16,
   "id": "0e81de23-d7ae-424f-ab97-bdc4eca6cf93",
   "metadata": {},
   "outputs": [
    {
     "data": {
      "text/plain": [
       "5"
      ]
     },
     "execution_count": 16,
     "metadata": {},
     "output_type": "execute_result"
    }
   ],
   "source": [
    "rec.height"
   ]
  },
  {
   "cell_type": "code",
   "execution_count": 17,
   "id": "21019aa9-a591-411c-a1ae-0af7825563e0",
   "metadata": {},
   "outputs": [
    {
     "data": {
      "text/plain": [
       "2"
      ]
     },
     "execution_count": 17,
     "metadata": {},
     "output_type": "execute_result"
    }
   ],
   "source": [
    "rec.width"
   ]
  },
  {
   "cell_type": "code",
   "execution_count": null,
   "id": "aaf9eb99-9207-4156-b960-ecfd8ce0169b",
   "metadata": {},
   "outputs": [],
   "source": []
  },
  {
   "cell_type": "markdown",
   "id": "21e3fcc2-7d98-4ebf-a9f5-f94c0c854768",
   "metadata": {},
   "source": [
    "10. How can you have multiple constructors in a Python class? Explain with an example."
   ]
  },
  {
   "cell_type": "markdown",
   "id": "e2c67f58-abc7-42cf-aa25-0979da6d04fb",
   "metadata": {},
   "source": [
    "1. Using Keyword Arguments with Optional Defaults:"
   ]
  },
  {
   "cell_type": "code",
   "execution_count": 19,
   "id": "a37da632-4ede-45cb-a214-4180ce4c53bd",
   "metadata": {},
   "outputs": [],
   "source": [
    "class Point:\n",
    "  def __init__(self, x=0, y=0):\n",
    "    self.x = x\n",
    "    self.y = y\n",
    "\n",
    "# Multiple ways to create Point objects:\n",
    "point1 = Point(x=1, y=2)\n",
    "point2 = Point(y=3)\n",
    "point3 = Point()  # uses default values (0, 0)"
   ]
  },
  {
   "cell_type": "markdown",
   "id": "a590a5cb-10ee-4fde-8af6-39192ee8f8d9",
   "metadata": {},
   "source": [
    "\n",
    " 2.Using Class Methods (@classmethod):"
   ]
  },
  {
   "cell_type": "code",
   "execution_count": 22,
   "id": "957a6eb1-1efc-49dc-ba3b-adf71fc51e3b",
   "metadata": {},
   "outputs": [],
   "source": [
    "import math\n",
    "class Square:\n",
    "  @classmethod\n",
    "  def from_side(cls, side):\n",
    "    return cls(width=side, height=side)\n",
    "\n",
    "  @classmethod\n",
    "  def from_area(cls, area):\n",
    "    side = math.sqrt(area)\n",
    "    return cls(width=side, height=side)\n",
    "\n",
    "  def __init__(self, width, height):\n",
    "    self.width = width\n",
    "    self.height = height\n",
    "\n",
    "# Multiple ways to create Square objects:\n",
    "square1 = Square.from_side(5)\n",
    "square2 = Square.from_area(25)"
   ]
  },
  {
   "cell_type": "code",
   "execution_count": null,
   "id": "6f6f1850-f23e-42b3-a8f8-1aa1a69ce64a",
   "metadata": {},
   "outputs": [],
   "source": []
  },
  {
   "cell_type": "markdown",
   "id": "f17b0473-67bd-4946-ae60-dd49bc2076fb",
   "metadata": {},
   "source": [
    "11. What is method overloading, and how is it related to constructors in Python?"
   ]
  },
  {
   "cell_type": "markdown",
   "id": "3538ff03",
   "metadata": {},
   "source": [
    "Python doesn't directly have method overloading, but you can simulate it for parameter flexibility:\n",
    "\n",
    "Default values: Assign None to parameters and check for them inside the method.\n",
    "*args and **kwargs: Use these to accept varying numbers of positional and keyword arguments.\n",
    "These workarounds aren't as robust as true overloading and can reduce code readability.\n",
    "\n",
    "Constructors (__init__) can't be overloaded, but they can also use default values, *args, and **kwargs for some flexibility."
   ]
  },
  {
   "cell_type": "code",
   "execution_count": null,
   "id": "5851b0b7-2f6c-40f6-9114-6aea871b27a8",
   "metadata": {},
   "outputs": [],
   "source": []
  },
  {
   "cell_type": "markdown",
   "id": "e30f598d-734b-408d-bb52-c39f7a64c7c9",
   "metadata": {},
   "source": [
    "12. Explain the use of the `super()` function in Python constructors. Provide an example."
   ]
  },
  {
   "cell_type": "markdown",
   "id": "cdf48629-e5fd-478a-b27b-50be8eda11c2",
   "metadata": {},
   "source": [
    "The super() function in Python is used to call a method from a parent class. It is often used in constructors to call the constructor of the parent class and initialize the inherited attributes "
   ]
  },
  {
   "cell_type": "code",
   "execution_count": null,
   "id": "abe60b62-325d-49cc-ab50-380c6ce80980",
   "metadata": {},
   "outputs": [],
   "source": [
    "class Parent:\n",
    "    def __init__(self, name):\n",
    "        self.name = name\n",
    "\n",
    "class Child(Parent):\n",
    "    def __init__(self, name, age):\n",
    "        super().__init__(name)\n",
    "        self.age = age\n",
    "\n",
    "child = Child(\"John\", 5)\n",
    "print(f\"The child's name is {child.name} and age is {child.age}.\")\n"
   ]
  },
  {
   "cell_type": "code",
   "execution_count": null,
   "id": "8190c729-1c90-42da-8cc1-4d2892d0d8c0",
   "metadata": {},
   "outputs": [],
   "source": []
  },
  {
   "cell_type": "markdown",
   "id": "3dae48c6-5ea9-40f9-abba-a2ca1b9a251a",
   "metadata": {},
   "source": [
    "13. Create a class called `Book` with a constructor that initializes the `title`, `author`, and `published_year` \n",
    "attributes. Provide a method to display book details."
   ]
  },
  {
   "cell_type": "code",
   "execution_count": 1,
   "id": "a43c222f-32d1-431f-a30d-ef6ed81549cc",
   "metadata": {},
   "outputs": [],
   "source": [
    "class Book:\n",
    "    def __init__(self,title,author,published_year):\n",
    "        self.title=title\n",
    "        self.author=author\n",
    "        self.published_year=published_year"
   ]
  },
  {
   "cell_type": "code",
   "execution_count": 3,
   "id": "4423d679-818b-4162-adb5-772d7c9738ca",
   "metadata": {},
   "outputs": [],
   "source": [
    "store=Book(\"dark night\",\"unknown\",2021)"
   ]
  },
  {
   "cell_type": "code",
   "execution_count": 4,
   "id": "26fd277e-ddec-4acb-8ca0-9ebde7ceb9b8",
   "metadata": {},
   "outputs": [
    {
     "data": {
      "text/plain": [
       "'unknown'"
      ]
     },
     "execution_count": 4,
     "metadata": {},
     "output_type": "execute_result"
    }
   ],
   "source": [
    "store.author"
   ]
  },
  {
   "cell_type": "code",
   "execution_count": 5,
   "id": "29a0ad96-54bd-4a58-8fed-8798a4ae3040",
   "metadata": {},
   "outputs": [
    {
     "data": {
      "text/plain": [
       "'dark night'"
      ]
     },
     "execution_count": 5,
     "metadata": {},
     "output_type": "execute_result"
    }
   ],
   "source": [
    "store.title"
   ]
  },
  {
   "cell_type": "code",
   "execution_count": 6,
   "id": "660f4270-307d-407d-838d-e3f2d06d3a99",
   "metadata": {},
   "outputs": [
    {
     "data": {
      "text/plain": [
       "2021"
      ]
     },
     "execution_count": 6,
     "metadata": {},
     "output_type": "execute_result"
    }
   ],
   "source": [
    "store.published_year"
   ]
  },
  {
   "cell_type": "code",
   "execution_count": null,
   "id": "b0b9b247-4e74-42e4-b682-f6b38ce0124d",
   "metadata": {},
   "outputs": [],
   "source": []
  },
  {
   "cell_type": "markdown",
   "id": "e7f0e88e-2ab3-4eef-b5ba-5177503c6769",
   "metadata": {},
   "source": [
    "14. Discuss the differences between constructors and regular methods in Python classes."
   ]
  },
  {
   "cell_type": "markdown",
   "id": "96665855-0a45-4662-ba2f-1dcfbde5c776",
   "metadata": {},
   "source": [
    "The main difference between constructors and regular methods is that constructors are called implicitly when an object is created, while regular methods are called explicitly by the user .\n",
    "\n",
    "Another difference is that constructors cannot be called directly, they are called automatically when an object is created using the new keyword . Regular methods, on the other hand, can be called directly by the user ."
   ]
  },
  {
   "cell_type": "code",
   "execution_count": null,
   "id": "17248676-cb98-4a2b-82f5-8ff1e38e7847",
   "metadata": {},
   "outputs": [],
   "source": []
  },
  {
   "cell_type": "markdown",
   "id": "4185fb72-a003-4318-8dd1-7d5064069e1d",
   "metadata": {},
   "source": [
    "15. Explain the role of the `self` parameter in instance variable initialization within a constructor."
   ]
  },
  {
   "cell_type": "markdown",
   "id": "29139452-d905-4e22-9d50-d959af05f946",
   "metadata": {},
   "source": [
    "In Python, the self parameter is used to refer to the instance of the class. It is a reference to the object that is being created and is passed as the first parameter to the constructor method __init__. The self parameter is used to access the instance variables of the class and initialize them .\n",
    "\n",
    "When a new object is created, the __init__ method is called automatically and the self parameter is passed implicitly. The self parameter is used to initialize the instance variables of the object. For example, consider the following class:"
   ]
  },
  {
   "cell_type": "code",
   "execution_count": null,
   "id": "6b7e2c0b-3c4c-4800-a098-65f956d308bf",
   "metadata": {},
   "outputs": [],
   "source": []
  },
  {
   "cell_type": "markdown",
   "id": "c706059a-b99e-4f38-aa72-1f78b98dfe03",
   "metadata": {},
   "source": [
    "16. How do you prevent a class from having multiple instances by using constructors in Python? Provide an \n",
    "example."
   ]
  },
  {
   "cell_type": "code",
   "execution_count": 1,
   "id": "57b57543-4f05-42b2-bc26-e2abdadde154",
   "metadata": {},
   "outputs": [
    {
     "name": "stdout",
     "output_type": "stream",
     "text": [
      "True\n"
     ]
    }
   ],
   "source": [
    "class Singleton:\n",
    "    __instance = None\n",
    "\n",
    "    def __new__(cls):\n",
    "        if cls.__instance is None:\n",
    "            cls.__instance = super().__new__(cls)\n",
    "        return cls.__instance\n",
    "\n",
    "s1 = Singleton()\n",
    "s2 = Singleton()\n",
    "\n",
    "print(s1 == s2)"
   ]
  },
  {
   "cell_type": "code",
   "execution_count": null,
   "id": "c261896f-8678-4710-9acd-fed77137d7f7",
   "metadata": {},
   "outputs": [],
   "source": []
  },
  {
   "cell_type": "markdown",
   "id": "d650ed3a-9045-46bf-aafe-a8600486920d",
   "metadata": {},
   "source": [
    "17. Create a Python class called `Student` with a constructor that takes a list of subjects as a parameter and \n",
    "initializes the `subjects` attribute."
   ]
  },
  {
   "cell_type": "code",
   "execution_count": 3,
   "id": "e97f74a4-e0e3-4189-960d-7e726f698b4c",
   "metadata": {},
   "outputs": [],
   "source": [
    "class Student:\n",
    "    def __init__(self,sub1,sub2,sub3):\n",
    "        self.sub1=sub1\n",
    "        self.sub2=sub2\n",
    "        self.sub3=sub3"
   ]
  },
  {
   "cell_type": "code",
   "execution_count": 5,
   "id": "f564a8b3-7162-4c59-94c9-60b107482d71",
   "metadata": {},
   "outputs": [],
   "source": [
    "ritik=Student(62,56,76)"
   ]
  },
  {
   "cell_type": "code",
   "execution_count": 6,
   "id": "7b06b80f-7124-4f70-ab86-6b9c50b868d4",
   "metadata": {},
   "outputs": [
    {
     "data": {
      "text/plain": [
       "62"
      ]
     },
     "execution_count": 6,
     "metadata": {},
     "output_type": "execute_result"
    }
   ],
   "source": [
    "ritik.sub1"
   ]
  },
  {
   "cell_type": "code",
   "execution_count": 7,
   "id": "e3c1543a-f4be-4ef4-acf0-493875fdb683",
   "metadata": {},
   "outputs": [
    {
     "data": {
      "text/plain": [
       "56"
      ]
     },
     "execution_count": 7,
     "metadata": {},
     "output_type": "execute_result"
    }
   ],
   "source": [
    "ritik.sub2"
   ]
  },
  {
   "cell_type": "code",
   "execution_count": 8,
   "id": "275077c8-ac68-46e6-8793-2dfcd611fa7e",
   "metadata": {},
   "outputs": [
    {
     "data": {
      "text/plain": [
       "76"
      ]
     },
     "execution_count": 8,
     "metadata": {},
     "output_type": "execute_result"
    }
   ],
   "source": [
    "ritik.sub3"
   ]
  },
  {
   "cell_type": "code",
   "execution_count": null,
   "id": "15c88bd1-9b64-4242-ac36-b1e4ced3d480",
   "metadata": {},
   "outputs": [],
   "source": []
  },
  {
   "cell_type": "markdown",
   "id": "f2dc0f8d-e184-4195-852e-a344b26e432f",
   "metadata": {},
   "source": [
    "18. What is the purpose of the `__del__` method in Python classes, and how does it relate to constructors?"
   ]
  },
  {
   "cell_type": "markdown",
   "id": "6536a02b-75ad-4a0c-9c0f-895e714b0f92",
   "metadata": {},
   "source": [
    "The __del__ method in Python is a special method that is called when an object is about to be destroyed by the garbage collector. It is sometimes referred to as a destructor . The purpose of the __del__ method is to perform any cleanup actions that may be necessary before the object is destroyed. For example, if an object has acquired some resources during its lifetime, such as a file handle or a network connection, the __del__ method can be used to release those resources before the object is destroyed .\n",
    "\n",
    "The __del__ method is related to constructors in that it is called after the object has been created and initialized by the constructor. The constructor is responsible for initializing the object’s attributes and setting up any other state that is necessary for the object to function correctly. The __del__ method is called when the object is no longer needed and is about to be destroyed. It is responsible for cleaning up any state that was set up by the constructor ."
   ]
  },
  {
   "cell_type": "code",
   "execution_count": 9,
   "id": "c77c989c-630a-4edd-b8d2-34f03ad7112e",
   "metadata": {},
   "outputs": [
    {
     "name": "stdout",
     "output_type": "stream",
     "text": [
      "Creating object...\n",
      "Destroying object...\n"
     ]
    }
   ],
   "source": [
    "class MyClass:\n",
    "    def __init__(self):\n",
    "        print(\"Creating object...\")\n",
    "        self.file = open(\"example.txt\", \"w\")\n",
    "\n",
    "    def __del__(self):\n",
    "        print(\"Destroying object...\")\n",
    "        self.file.close()\n",
    "\n",
    "obj = MyClass()\n",
    "del obj\n"
   ]
  },
  {
   "cell_type": "code",
   "execution_count": null,
   "id": "ee2ff22a-e7f7-4f1b-be9f-612fc988f9be",
   "metadata": {},
   "outputs": [],
   "source": []
  },
  {
   "cell_type": "markdown",
   "id": "1850b123-62ab-4e78-99cd-485a77fc631c",
   "metadata": {},
   "source": [
    "19. Explain the use of constructor chaining in Python. Provide a practical example."
   ]
  },
  {
   "cell_type": "markdown",
   "id": "7cc058fa-d5ee-4f12-8c80-57e0d2669702",
   "metadata": {},
   "source": [
    "Constructor chaining in Python is a technique that allows a subclass to call the constructor of its parent class. This is useful when we want to reuse the code of the parent class’s constructor in the child class’s constructor. In Python, we can use the super() function to call the parent class’s constructor."
   ]
  },
  {
   "cell_type": "code",
   "execution_count": 10,
   "id": "42f60217-dd41-4b8a-8740-ea8b08f7013b",
   "metadata": {},
   "outputs": [
    {
     "name": "stdout",
     "output_type": "stream",
     "text": [
      "Alice\n",
      "25\n"
     ]
    }
   ],
   "source": [
    "class Parent:\n",
    "    def __init__(self, name):\n",
    "        self.name = name\n",
    "\n",
    "class Child(Parent):\n",
    "    def __init__(self, name, age):\n",
    "        super().__init__(name)\n",
    "        self.age = age\n",
    "\n",
    "c = Child(\"Alice\", 25)\n",
    "print(c.name) \n",
    "print(c.age)   "
   ]
  },
  {
   "cell_type": "code",
   "execution_count": null,
   "id": "1acc5be4-7f30-4d7b-a234-2e6a1b4c43ca",
   "metadata": {},
   "outputs": [],
   "source": []
  },
  {
   "cell_type": "markdown",
   "id": "192e6478-1979-4ad6-b253-469f4a21d2e4",
   "metadata": {},
   "source": [
    "20. Create a Python class called `Car` with a default constructor that initializes the `make` and `model` \n",
    "attributes. Provide a method to display car information."
   ]
  },
  {
   "cell_type": "code",
   "execution_count": 11,
   "id": "062d086c-03a9-47f5-9db7-5c82ec03d306",
   "metadata": {},
   "outputs": [],
   "source": [
    "class Car:\n",
    "    def __init__(self,make,model):\n",
    "        self.make=make\n",
    "        self.model=model"
   ]
  },
  {
   "cell_type": "code",
   "execution_count": 12,
   "id": "08da3855-b28a-4059-85be-94c600159252",
   "metadata": {},
   "outputs": [],
   "source": [
    "vijay=Car(\"Hyandai\",\"Verna\")"
   ]
  },
  {
   "cell_type": "code",
   "execution_count": 13,
   "id": "ec4c2ef5-3aec-4c4f-88a2-19ef4b95a1da",
   "metadata": {},
   "outputs": [
    {
     "data": {
      "text/plain": [
       "'Hyandai'"
      ]
     },
     "execution_count": 13,
     "metadata": {},
     "output_type": "execute_result"
    }
   ],
   "source": [
    "vijay.make"
   ]
  },
  {
   "cell_type": "code",
   "execution_count": 14,
   "id": "63546d10-daaf-4c15-9ae0-5f9f98a95476",
   "metadata": {},
   "outputs": [
    {
     "data": {
      "text/plain": [
       "'Verna'"
      ]
     },
     "execution_count": 14,
     "metadata": {},
     "output_type": "execute_result"
    }
   ],
   "source": [
    "vijay.model"
   ]
  },
  {
   "cell_type": "code",
   "execution_count": null,
   "id": "5fe8ac36-419f-40b1-9b6f-ef9af05d63a6",
   "metadata": {},
   "outputs": [],
   "source": []
  },
  {
   "cell_type": "markdown",
   "id": "09e2d6d5-8775-43a7-9a85-de006eb10c3d",
   "metadata": {},
   "source": [
    "## Inheritance:"
   ]
  },
  {
   "cell_type": "code",
   "execution_count": null,
   "id": "b4f12005-0d80-42e6-8d60-af62613260e8",
   "metadata": {},
   "outputs": [],
   "source": []
  },
  {
   "cell_type": "markdown",
   "id": "cd846d52-74da-4dd9-8be6-0f13435ffba0",
   "metadata": {},
   "source": [
    "1. What is inheritance in Python? Explain its significance in object-oriented programming."
   ]
  },
  {
   "cell_type": "markdown",
   "id": "ab36ad0e-8c56-4115-9321-ee58f5910747",
   "metadata": {},
   "source": [
    "Inheritance is a fundamental concept in object-oriented programming (OOP) that allows a new class to be based on an existing class. The new class, called the child class, inherits the properties and methods of the existing class, called the parent class. The child class can then add its own properties and methods or override the inherited ones .\n",
    "\n",
    "In Python, inheritance is implemented using the syntax class ChildClass(ParentClass):. The ChildClass is the new class that is being created, and the ParentClass is the existing class that the ChildClass is inheriting from. The ChildClass can access the properties and methods of the ParentClass using the super() function .\n",
    "\n",
    "The significance of inheritance in OOP is that it allows us to create a hierarchy of classes that share a set of properties and methods. This makes the code more modular, easier to reuse, and easier to maintain. Inheritance also allows us to represent real-world relationships between objects more accurately. For example, a Car class can inherit from a Vehicle class, which can inherit from a Transportation class. This creates a hierarchy of classes that accurately represents the relationship between cars, vehicles, and transportation in the real world .\n",
    "\n",
    "In summary, inheritance is a powerful concept in OOP that allows us to create a hierarchy of classes that share a set of properties and methods. It makes the code more modular, easier to reuse, and easier to maintain. It also allows us to represent real-world relationships between objects more accurately."
   ]
  },
  {
   "cell_type": "code",
   "execution_count": null,
   "id": "95958c04-841e-4576-92bc-7c65a5150ba3",
   "metadata": {},
   "outputs": [],
   "source": []
  },
  {
   "cell_type": "markdown",
   "id": "a03b8394-871f-4edf-bf6c-42898a6da129",
   "metadata": {},
   "source": [
    "2. Differentiate between single inheritance and multiple inheritance in Python. Provide examples for each."
   ]
  },
  {
   "cell_type": "markdown",
   "id": "47703b26-5f9f-4a14-a524-62a4c96c9b46",
   "metadata": {},
   "source": [
    "Single Inheritance:"
   ]
  },
  {
   "cell_type": "code",
   "execution_count": 54,
   "id": "1c0b54ff-cb27-48f3-b453-6f87e9168ca1",
   "metadata": {},
   "outputs": [],
   "source": [
    "class Father:\n",
    "    def father_name(self,name):\n",
    "        self.name=name\n",
    "        return name\n",
    "\n",
    "class Son(Father):\n",
    "    def son_name(self,name):\n",
    "        self.name=name\n",
    "        return name"
   ]
  },
  {
   "cell_type": "code",
   "execution_count": 55,
   "id": "d289a043-5574-4069-b4de-9f7bf00e4a5d",
   "metadata": {},
   "outputs": [],
   "source": [
    "f=Father()"
   ]
  },
  {
   "cell_type": "code",
   "execution_count": 61,
   "id": "853920b6-0a26-46c3-8034-e7495569d918",
   "metadata": {},
   "outputs": [
    {
     "data": {
      "text/plain": [
       "'Bhuvnesh'"
      ]
     },
     "execution_count": 61,
     "metadata": {},
     "output_type": "execute_result"
    }
   ],
   "source": [
    "f.name"
   ]
  },
  {
   "cell_type": "code",
   "execution_count": 56,
   "id": "78e2a343-a6ef-4205-b0e5-34e5e26fab3c",
   "metadata": {},
   "outputs": [
    {
     "data": {
      "text/plain": [
       "'Bhuvnesh'"
      ]
     },
     "execution_count": 56,
     "metadata": {},
     "output_type": "execute_result"
    }
   ],
   "source": [
    "f.father_name(\"Bhuvnesh\")"
   ]
  },
  {
   "cell_type": "code",
   "execution_count": 57,
   "id": "f587cf0a-7422-4f28-8572-366bb4c3f983",
   "metadata": {},
   "outputs": [],
   "source": [
    "s=Son()"
   ]
  },
  {
   "cell_type": "code",
   "execution_count": 58,
   "id": "e290b4bc-7ba5-4b1d-ae9a-5010b1d1ed8c",
   "metadata": {},
   "outputs": [
    {
     "data": {
      "text/plain": [
       "'Ritik'"
      ]
     },
     "execution_count": 58,
     "metadata": {},
     "output_type": "execute_result"
    }
   ],
   "source": [
    "s.son_name(\"Ritik\")"
   ]
  },
  {
   "cell_type": "code",
   "execution_count": 62,
   "id": "db09385f-2403-41c7-9bdf-d22c258daee2",
   "metadata": {},
   "outputs": [
    {
     "data": {
      "text/plain": [
       "' bv'"
      ]
     },
     "execution_count": 62,
     "metadata": {},
     "output_type": "execute_result"
    }
   ],
   "source": [
    "s.father_name(\" bv\")"
   ]
  },
  {
   "cell_type": "code",
   "execution_count": 63,
   "id": "52859c57-848b-47d3-b925-8ba0c60b2903",
   "metadata": {},
   "outputs": [
    {
     "data": {
      "text/plain": [
       "' bv'"
      ]
     },
     "execution_count": 63,
     "metadata": {},
     "output_type": "execute_result"
    }
   ],
   "source": [
    "s.name"
   ]
  },
  {
   "cell_type": "code",
   "execution_count": 64,
   "id": "e3eee20d-8666-435a-b71e-d9f8e70ee77b",
   "metadata": {},
   "outputs": [
    {
     "data": {
      "text/plain": [
       "'rv'"
      ]
     },
     "execution_count": 64,
     "metadata": {},
     "output_type": "execute_result"
    }
   ],
   "source": [
    "s.son_name(\"rv\")"
   ]
  },
  {
   "cell_type": "code",
   "execution_count": 65,
   "id": "8341c520-0b26-4e22-929f-6541b704656c",
   "metadata": {},
   "outputs": [
    {
     "data": {
      "text/plain": [
       "'rv'"
      ]
     },
     "execution_count": 65,
     "metadata": {},
     "output_type": "execute_result"
    }
   ],
   "source": [
    "s.name"
   ]
  },
  {
   "cell_type": "code",
   "execution_count": null,
   "id": "33613269-3bc7-4481-8f6b-e1d62b3f4a21",
   "metadata": {},
   "outputs": [],
   "source": []
  },
  {
   "cell_type": "markdown",
   "id": "21967131-57bd-42d6-8daf-dc54dd6df139",
   "metadata": {},
   "source": [
    "Multiple Inheritance:"
   ]
  },
  {
   "cell_type": "code",
   "execution_count": 72,
   "id": "f2db7f6f-f4cb-492a-b088-5d7f257b68a4",
   "metadata": {},
   "outputs": [],
   "source": [
    "class Student:\n",
    "    def student_func(self,stu_name):\n",
    "        self.stu_name=stu_name\n",
    "\n",
    "class Teacher(Student):\n",
    "    def teacher_func(self,teach_name):\n",
    "        self.teach_name=teach_name\n",
    "\n",
    "class Principle(Teacher):\n",
    "    def princ_func(self,prin_name):\n",
    "        self.prin_name=prin_name"
   ]
  },
  {
   "cell_type": "code",
   "execution_count": 73,
   "id": "1c4351cd-40ce-438a-a4f5-9350ff9cd729",
   "metadata": {},
   "outputs": [],
   "source": [
    "rahul=Student()"
   ]
  },
  {
   "cell_type": "code",
   "execution_count": 74,
   "id": "b94a15d5-fdc4-4932-b0b8-df060899a5fb",
   "metadata": {},
   "outputs": [],
   "source": [
    "rahul.student_func(\"Rahul\")"
   ]
  },
  {
   "cell_type": "code",
   "execution_count": 75,
   "id": "1b4c65fe-9898-4dfb-8b48-17a75b9ad6df",
   "metadata": {},
   "outputs": [
    {
     "data": {
      "text/plain": [
       "'Rahul'"
      ]
     },
     "execution_count": 75,
     "metadata": {},
     "output_type": "execute_result"
    }
   ],
   "source": [
    "rahul.stu_name"
   ]
  },
  {
   "cell_type": "code",
   "execution_count": 76,
   "id": "08a233d1-0606-4c8c-9ff2-13b184853d9e",
   "metadata": {},
   "outputs": [],
   "source": [
    "shami=Teacher()"
   ]
  },
  {
   "cell_type": "code",
   "execution_count": 77,
   "id": "9a4e54a6-9f44-41d2-8e1c-d4b062779b75",
   "metadata": {},
   "outputs": [],
   "source": [
    "shami.teacher_func(\"teacher Shahi\")"
   ]
  },
  {
   "cell_type": "code",
   "execution_count": 79,
   "id": "60128e51-36ec-4724-98d4-594a0bc2e956",
   "metadata": {},
   "outputs": [
    {
     "data": {
      "text/plain": [
       "'teacher Shahi'"
      ]
     },
     "execution_count": 79,
     "metadata": {},
     "output_type": "execute_result"
    }
   ],
   "source": [
    "shami.teach_name"
   ]
  },
  {
   "cell_type": "code",
   "execution_count": 80,
   "id": "e6e6b544-38df-471a-8d3b-db3961b958c4",
   "metadata": {},
   "outputs": [],
   "source": [
    "shami.student_func(\"!_student\")"
   ]
  },
  {
   "cell_type": "code",
   "execution_count": 81,
   "id": "f893d08b-eb8f-485f-bd41-ce01370bc4f5",
   "metadata": {},
   "outputs": [
    {
     "data": {
      "text/plain": [
       "'!_student'"
      ]
     },
     "execution_count": 81,
     "metadata": {},
     "output_type": "execute_result"
    }
   ],
   "source": [
    "shami.stu_name"
   ]
  },
  {
   "cell_type": "code",
   "execution_count": 82,
   "id": "5cbb5d1c-9dc4-43ff-a571-0bb29c3d669d",
   "metadata": {},
   "outputs": [],
   "source": [
    "alex_prin=Principle()"
   ]
  },
  {
   "cell_type": "code",
   "execution_count": 83,
   "id": "503f5df4-fa3c-4bfd-a7cc-702443743c21",
   "metadata": {},
   "outputs": [],
   "source": [
    "alex_prin.princ_func(\"Alex\")"
   ]
  },
  {
   "cell_type": "code",
   "execution_count": 84,
   "id": "84f2dafb-8814-440c-a84b-6a5660eb5ec5",
   "metadata": {},
   "outputs": [
    {
     "data": {
      "text/plain": [
       "'Alex'"
      ]
     },
     "execution_count": 84,
     "metadata": {},
     "output_type": "execute_result"
    }
   ],
   "source": [
    "alex_prin.prin_name"
   ]
  },
  {
   "cell_type": "code",
   "execution_count": 85,
   "id": "65d0210b-dadb-418b-b1a5-4ed4eda8453a",
   "metadata": {},
   "outputs": [],
   "source": [
    "alex_prin.teacher_func(\"principal_teacher\")"
   ]
  },
  {
   "cell_type": "code",
   "execution_count": 86,
   "id": "25dc49b7-ca2a-45b2-bfcd-c63ec3b329cc",
   "metadata": {},
   "outputs": [
    {
     "data": {
      "text/plain": [
       "'principal_teacher'"
      ]
     },
     "execution_count": 86,
     "metadata": {},
     "output_type": "execute_result"
    }
   ],
   "source": [
    "alex_prin.teach_name"
   ]
  },
  {
   "cell_type": "code",
   "execution_count": 87,
   "id": "c61b695f-370c-490e-83e4-4568bfddd82b",
   "metadata": {},
   "outputs": [],
   "source": [
    "alex_prin.student_func(\"principal_student\")"
   ]
  },
  {
   "cell_type": "code",
   "execution_count": 88,
   "id": "b41f6e7f-a435-46ff-a309-66cef4ebcade",
   "metadata": {},
   "outputs": [
    {
     "data": {
      "text/plain": [
       "'principal_student'"
      ]
     },
     "execution_count": 88,
     "metadata": {},
     "output_type": "execute_result"
    }
   ],
   "source": [
    "alex_prin.stu_name"
   ]
  },
  {
   "cell_type": "code",
   "execution_count": null,
   "id": "a8a1ca5c-6a52-4254-a6da-8a426d1e870d",
   "metadata": {},
   "outputs": [],
   "source": []
  },
  {
   "cell_type": "markdown",
   "id": "56e15ab7-2cf3-402b-b5d5-57ee51674bd2",
   "metadata": {},
   "source": [
    "3. Create a Python class called `Vehicle` with attributes `color` and `speed`. Then, create a child class called \n",
    "`Car` that inherits from `Vehicle` and adds a `brand` attribute. Provide an example of creating a `Car` object."
   ]
  },
  {
   "cell_type": "code",
   "execution_count": 89,
   "id": "13b9d2bb-6391-42ea-b695-8a9e9a378606",
   "metadata": {},
   "outputs": [],
   "source": [
    "class Vehicle:\n",
    "    def __init__(self,color,speed):\n",
    "        self.color=color\n",
    "        self.speed=speed\n",
    "\n",
    "class Car(Vehicle):\n",
    "    def car_func(self,brand):\n",
    "        self.brand=brand"
   ]
  },
  {
   "cell_type": "code",
   "execution_count": 91,
   "id": "a8436d9d-d8d8-4810-a498-c6c7ffce8177",
   "metadata": {},
   "outputs": [],
   "source": [
    "car=Vehicle(\"Red\",200)"
   ]
  },
  {
   "cell_type": "code",
   "execution_count": 92,
   "id": "ac456528-4148-46d2-a5fa-b6a4c157b34c",
   "metadata": {},
   "outputs": [
    {
     "data": {
      "text/plain": [
       "'Red'"
      ]
     },
     "execution_count": 92,
     "metadata": {},
     "output_type": "execute_result"
    }
   ],
   "source": [
    "car.color"
   ]
  },
  {
   "cell_type": "code",
   "execution_count": 93,
   "id": "c40a5b11-246e-4069-8ddb-f66f9512f215",
   "metadata": {},
   "outputs": [
    {
     "data": {
      "text/plain": [
       "200"
      ]
     },
     "execution_count": 93,
     "metadata": {},
     "output_type": "execute_result"
    }
   ],
   "source": [
    "car.speed"
   ]
  },
  {
   "cell_type": "code",
   "execution_count": 95,
   "id": "4d36d316-9dba-4e34-8f21-e6a5990a4697",
   "metadata": {},
   "outputs": [],
   "source": [
    "car_obj=Car(\"Black\",250)"
   ]
  },
  {
   "cell_type": "code",
   "execution_count": 96,
   "id": "3e6f7708-dbd8-4fc0-829b-307c14e15bac",
   "metadata": {},
   "outputs": [],
   "source": [
    "car_obj.car_func(\"hyundai\")"
   ]
  },
  {
   "cell_type": "code",
   "execution_count": 97,
   "id": "dccc385a-f7a1-441d-88ab-fd6cb211751e",
   "metadata": {},
   "outputs": [
    {
     "data": {
      "text/plain": [
       "'hyundai'"
      ]
     },
     "execution_count": 97,
     "metadata": {},
     "output_type": "execute_result"
    }
   ],
   "source": [
    "car_obj.brand"
   ]
  },
  {
   "cell_type": "code",
   "execution_count": 98,
   "id": "b375c23f-fc07-417d-a422-0f041655b1b5",
   "metadata": {},
   "outputs": [
    {
     "data": {
      "text/plain": [
       "'Black'"
      ]
     },
     "execution_count": 98,
     "metadata": {},
     "output_type": "execute_result"
    }
   ],
   "source": [
    "car_obj.color"
   ]
  },
  {
   "cell_type": "code",
   "execution_count": 99,
   "id": "1908bc5c-e02d-445c-854f-28ddb2f7397a",
   "metadata": {},
   "outputs": [
    {
     "data": {
      "text/plain": [
       "250"
      ]
     },
     "execution_count": 99,
     "metadata": {},
     "output_type": "execute_result"
    }
   ],
   "source": [
    "car_obj.speed"
   ]
  },
  {
   "cell_type": "code",
   "execution_count": null,
   "id": "93fba8f2-fd6b-496d-a9f0-1a6b2e24068a",
   "metadata": {},
   "outputs": [],
   "source": []
  },
  {
   "cell_type": "markdown",
   "id": "de39381d-5a7c-407d-b4e2-596a6c533b00",
   "metadata": {},
   "source": [
    "4. Explain the concept of method overriding in inheritance. Provide a practical example."
   ]
  },
  {
   "cell_type": "code",
   "execution_count": 1,
   "id": "fe98d317-5d0a-428b-b44c-3cafc2fd1f2d",
   "metadata": {},
   "outputs": [],
   "source": [
    "class pwskills:\n",
    "    def student(self):\n",
    "        pass\n",
    "\n",
    "class datascience(pwskills):\n",
    "    def student(self):\n",
    "        print(\"This will me a details about data science\")\n",
    "\n",
    "class bigdata(pwskills):\n",
    "    def student(self):\n",
    "        print(\"This will give a details about big data\")"
   ]
  },
  {
   "cell_type": "code",
   "execution_count": 2,
   "id": "e92cffa1-daf9-42a9-936f-420f423a4111",
   "metadata": {},
   "outputs": [],
   "source": [
    "yash=datascience()\n",
    "farhana=bigdata()"
   ]
  },
  {
   "cell_type": "code",
   "execution_count": 3,
   "id": "41bfeff7-5ef8-4b05-8071-e34187ddae07",
   "metadata": {},
   "outputs": [
    {
     "name": "stdout",
     "output_type": "stream",
     "text": [
      "This will give a details about big data\n",
      "This will me a details about data science\n"
     ]
    }
   ],
   "source": [
    "farhana.student()\n",
    "yash.student()"
   ]
  },
  {
   "cell_type": "code",
   "execution_count": null,
   "id": "2fdc2109-643c-44e0-956a-c4502c903985",
   "metadata": {},
   "outputs": [],
   "source": []
  },
  {
   "cell_type": "markdown",
   "id": "557c4fa8-fbaa-45d5-a4ac-b0a8cca493a0",
   "metadata": {},
   "source": [
    "5. How can you access the methods and attributes of a parent class from a child class in Python? Give an \n",
    "example."
   ]
  },
  {
   "cell_type": "markdown",
   "id": "553fc51c-5666-4c76-a208-3d0793cb4335",
   "metadata": {},
   "source": [
    "With the help of inheritance we can access the methods and attributes from the parent class. Because child class inherite the parent class methods in it ."
   ]
  },
  {
   "cell_type": "code",
   "execution_count": 5,
   "id": "0556adbd-45da-450e-940b-ef7e6c9d8dd4",
   "metadata": {},
   "outputs": [],
   "source": [
    "class Vehicle:\n",
    "    def __init__(self,color,speed):\n",
    "        self.color=color\n",
    "        self.speed=speed\n",
    "\n",
    "class Car(Vehicle):\n",
    "    def car_func(self,brand):\n",
    "        self.brand=brand"
   ]
  },
  {
   "cell_type": "code",
   "execution_count": 7,
   "id": "09fa47a4-dffa-4d13-9a53-9adabb889cc3",
   "metadata": {},
   "outputs": [],
   "source": [
    "c=Car(\"black\",250)"
   ]
  },
  {
   "cell_type": "code",
   "execution_count": 8,
   "id": "7be922b1-4e5f-4556-a748-387ea0ec06b6",
   "metadata": {},
   "outputs": [
    {
     "data": {
      "text/plain": [
       "'black'"
      ]
     },
     "execution_count": 8,
     "metadata": {},
     "output_type": "execute_result"
    }
   ],
   "source": [
    "c.color"
   ]
  },
  {
   "cell_type": "code",
   "execution_count": 9,
   "id": "eabf9ab0-e8ee-4e9e-9b91-9b69d944f299",
   "metadata": {},
   "outputs": [
    {
     "data": {
      "text/plain": [
       "250"
      ]
     },
     "execution_count": 9,
     "metadata": {},
     "output_type": "execute_result"
    }
   ],
   "source": [
    "c.speed"
   ]
  },
  {
   "cell_type": "code",
   "execution_count": 10,
   "id": "2b152797-2915-441b-989c-5c6002ae6150",
   "metadata": {},
   "outputs": [],
   "source": [
    "c.car_func(\"BMW\")"
   ]
  },
  {
   "cell_type": "code",
   "execution_count": 11,
   "id": "8a6e8b58-767d-4313-8820-b5898962c2c3",
   "metadata": {},
   "outputs": [
    {
     "data": {
      "text/plain": [
       "'BMW'"
      ]
     },
     "execution_count": 11,
     "metadata": {},
     "output_type": "execute_result"
    }
   ],
   "source": [
    "c.brand"
   ]
  },
  {
   "cell_type": "code",
   "execution_count": null,
   "id": "ae5b4aaa-71a4-4a38-a9ee-0576d8076b0d",
   "metadata": {},
   "outputs": [],
   "source": []
  },
  {
   "cell_type": "markdown",
   "id": "5bf275bb-f31a-4261-81ae-4dd90d47bb06",
   "metadata": {},
   "source": [
    "6. Discuss the use of the `super()` function in Python inheritance. When and why is it used? Provide an \n",
    "example."
   ]
  },
  {
   "cell_type": "markdown",
   "id": "9df00cc9-9d42-4726-a18a-5fdfbce439e3",
   "metadata": {},
   "source": [
    "super() is a built-in Python function that provides access to methods of a parent class from a subclass that inherits from it. It is used to call the overridden methods of the parent class in the subclass.\n",
    "\n",
    "The super() function is used when we want to call a method from a parent class in a subclass that has overridden that method. This is useful when we want to extend the functionality of the parent class without having to rewrite the entire method."
   ]
  },
  {
   "cell_type": "code",
   "execution_count": 19,
   "id": "fe6738a0-d554-4f8a-ba8d-82aaaf103e7c",
   "metadata": {},
   "outputs": [],
   "source": [
    "class Parent:\n",
    "    def __init__(self, name):\n",
    "        self.name = name\n",
    "\n",
    "    def get_name(self):\n",
    "        return self.name\n",
    "\n",
    "class Child(Parent):\n",
    "    def __init__(self, name, age):\n",
    "        super().__init__(name)\n",
    "        self.age = age\n",
    "\n",
    "    def get_age(self):\n",
    "        return self.age\n",
    "\n",
    "child = Child(\"Sachin\", 10)"
   ]
  },
  {
   "cell_type": "code",
   "execution_count": 20,
   "id": "3708dbb4-01e2-4837-96b7-bfd2fdc062d5",
   "metadata": {},
   "outputs": [],
   "source": [
    "p=Parent(\"Ritik\")"
   ]
  },
  {
   "cell_type": "code",
   "execution_count": 21,
   "id": "6e4a6093-8431-4c5a-95be-215c745ca2a5",
   "metadata": {},
   "outputs": [
    {
     "data": {
      "text/plain": [
       "'Sachin'"
      ]
     },
     "execution_count": 21,
     "metadata": {},
     "output_type": "execute_result"
    }
   ],
   "source": [
    "child.get_name()"
   ]
  },
  {
   "cell_type": "code",
   "execution_count": 22,
   "id": "2217b5b3-84cc-4b0c-81b9-a1461a74e6b7",
   "metadata": {},
   "outputs": [
    {
     "data": {
      "text/plain": [
       "'Ritik'"
      ]
     },
     "execution_count": 22,
     "metadata": {},
     "output_type": "execute_result"
    }
   ],
   "source": [
    "p.get_name()"
   ]
  },
  {
   "cell_type": "code",
   "execution_count": 23,
   "id": "bd66fe05-1427-4826-b383-86d1f8197a98",
   "metadata": {},
   "outputs": [
    {
     "data": {
      "text/plain": [
       "10"
      ]
     },
     "execution_count": 23,
     "metadata": {},
     "output_type": "execute_result"
    }
   ],
   "source": [
    "child.get_age()"
   ]
  },
  {
   "cell_type": "code",
   "execution_count": null,
   "id": "f2b962f9-320f-4d3b-8a91-2458ee598a45",
   "metadata": {},
   "outputs": [],
   "source": []
  },
  {
   "cell_type": "markdown",
   "id": "424d4dfe-372c-4f7e-a8e3-b4ffa917e093",
   "metadata": {},
   "source": [
    "7. Create a Python class called `Animal` with a method `speak()`. Then, create child classes `Dog` and `Cat` that inherit from `Animal` and override the `speak()` method. Provide an example of using these classes."
   ]
  },
  {
   "cell_type": "code",
   "execution_count": 24,
   "id": "3e53cdca-4dc2-4177-abb0-e0afb2db29d6",
   "metadata": {},
   "outputs": [],
   "source": [
    "class Animal:\n",
    "    def speak(self):\n",
    "        pass\n",
    "\n",
    "class Dog(Animal):\n",
    "    def speak(self):\n",
    "        print(\"Dog voice\")\n",
    "\n",
    "class Cat(Animal):\n",
    "    def speak(self):\n",
    "        print(\"Cat voice\")"
   ]
  },
  {
   "cell_type": "code",
   "execution_count": 25,
   "id": "e0cbc8c6-24f7-4d5e-8a3a-e09b1a9e9afe",
   "metadata": {},
   "outputs": [],
   "source": [
    "dog=Dog()\n",
    "cat=Cat()"
   ]
  },
  {
   "cell_type": "code",
   "execution_count": 26,
   "id": "4034fb2f-094d-4b89-9ef8-243b5e379d61",
   "metadata": {},
   "outputs": [
    {
     "name": "stdout",
     "output_type": "stream",
     "text": [
      "Cat voice\n"
     ]
    }
   ],
   "source": [
    "cat.speak()"
   ]
  },
  {
   "cell_type": "code",
   "execution_count": 28,
   "id": "0ac53f09-b640-44df-a542-7df69d1b0224",
   "metadata": {},
   "outputs": [
    {
     "name": "stdout",
     "output_type": "stream",
     "text": [
      "Dog voice\n"
     ]
    }
   ],
   "source": [
    "dog.speak()"
   ]
  },
  {
   "cell_type": "code",
   "execution_count": null,
   "id": "eee991f1-10a6-44aa-88d8-a5c63340e5b4",
   "metadata": {},
   "outputs": [],
   "source": []
  },
  {
   "cell_type": "markdown",
   "id": "13fc6258-ce7a-4b5b-9537-ec97018256fb",
   "metadata": {},
   "source": [
    "8. Explain the role of the `isinstance()` function in Python and how it relates to inheritance."
   ]
  },
  {
   "cell_type": "markdown",
   "id": "743c2f15-e4b1-4730-b420-b31e7f8eebe5",
   "metadata": {},
   "source": [
    "isinstance() is a built-in Python function that returns True if an object is an instance of a specified class or a subclass of that class, and False otherwise .\n",
    "\n",
    "In Python, inheritance is a way to create a new class that is a modified version of an existing class. The new class is called the subclass, and the existing class is called the parent class. The subclass inherits all the attributes and methods of the parent class, and can also override or add new attributes and methods .\n",
    "\n",
    "The isinstance() function is used to check if an object is an instance of a particular class or a subclass of that class. It takes inheritance into account and can match against several classes by passing a tuple of classes as classinfo ."
   ]
  },
  {
   "cell_type": "code",
   "execution_count": 30,
   "id": "4389bf0a-f3a7-4473-a294-4116c711628c",
   "metadata": {},
   "outputs": [
    {
     "name": "stdout",
     "output_type": "stream",
     "text": [
      "True\n",
      "True\n",
      "False\n"
     ]
    }
   ],
   "source": [
    "class Animal:\n",
    "    pass\n",
    "\n",
    "class Dog(Animal):\n",
    "    pass\n",
    "\n",
    "class Bird:\n",
    "    pass\n",
    "dog = Dog()\n",
    "\n",
    "print(isinstance(dog, Dog)) # Output: True\n",
    "print(isinstance(dog, Animal)) # Output: True\n",
    "print(isinstance(dog, Bird))"
   ]
  },
  {
   "cell_type": "code",
   "execution_count": null,
   "id": "cebe9d83-15c0-4a17-9182-dc9a7687d978",
   "metadata": {},
   "outputs": [],
   "source": []
  },
  {
   "cell_type": "markdown",
   "id": "027576df-7d11-4dcc-93b5-56dadbc919d8",
   "metadata": {},
   "source": [
    "9. What is the purpose of the `issubclass()` function in Python? Provide an example."
   ]
  },
  {
   "cell_type": "markdown",
   "id": "5f7d0762-86cc-448f-8e2b-ef8f3b6c967f",
   "metadata": {},
   "source": [
    "issubclass() is a built-in Python function that returns True if a class is a subclass of another class, or if it is the same class as the second argument, and False otherwise .\n",
    "\n",
    "In Python, inheritance is a way to create a new class that is a modified version of an existing class. The new class is called the subclass, and the existing class is called the parent class. The subclass inherits all the attributes and methods of the parent class, and can also override or add new attributes and methods .\n",
    "\n",
    "The issubclass() function is used to check if a class is a subclass of another class. It takes inheritance into account and can match against several classes by passing a tuple of classes as classinfo .\n"
   ]
  },
  {
   "cell_type": "code",
   "execution_count": 32,
   "id": "19c10da7-f0f1-4c92-973a-da2522ef1e4b",
   "metadata": {},
   "outputs": [
    {
     "name": "stdout",
     "output_type": "stream",
     "text": [
      "True\n",
      "True\n",
      "True\n",
      "False\n"
     ]
    }
   ],
   "source": [
    "class Animal:\n",
    "    pass\n",
    "\n",
    "class Dog(Animal):\n",
    "    pass\n",
    "\n",
    "class German_shephard(Dog):\n",
    "    pass\n",
    "\n",
    "class Bird:\n",
    "    pass\n",
    "\n",
    "print(issubclass(Dog, Animal))\n",
    "print(issubclass(German_shephard, Animal))\n",
    "print(issubclass(German_shephard, Dog))\n",
    "print(issubclass(Bird, Animal))"
   ]
  },
  {
   "cell_type": "code",
   "execution_count": null,
   "id": "10d3238f-19bb-482f-8282-e784e8d1cfd8",
   "metadata": {},
   "outputs": [],
   "source": []
  },
  {
   "cell_type": "markdown",
   "id": "b89adc6e-0c6f-4269-bbf6-eb6612a7b835",
   "metadata": {},
   "source": [
    "10. Discuss the concept of constructor inheritance in Python. How are constructors inherited in child classes?"
   ]
  },
  {
   "cell_type": "markdown",
   "id": "585d04bf-74c5-4a49-add2-ef89220f1b16",
   "metadata": {},
   "source": [
    "In Python, constructors are inherited by child classes just like any other method. When a subclass is created, it automatically inherits all the methods, including the constructor, from its parent class .\n",
    "\n",
    "If a subclass does not define its own constructor, it will use the constructor of its parent class. If a subclass does define its own constructor, it can call the constructor of its parent class using the super() function ."
   ]
  },
  {
   "cell_type": "code",
   "execution_count": null,
   "id": "3c4555e2-0ef3-4d90-9c09-39c448e945a1",
   "metadata": {},
   "outputs": [],
   "source": []
  },
  {
   "cell_type": "markdown",
   "id": "ccd19eca-a935-4231-8a03-88599f920140",
   "metadata": {},
   "source": [
    "11. Create a Python class called `Shape` with a method `area()` that calculates the area of a shape. Then, create child classes `Circle` and `Rectangle` that inherit from `Shape` and implement the `area()` method \n",
    "accordingly. Provide an example."
   ]
  },
  {
   "cell_type": "code",
   "execution_count": 13,
   "id": "2dfa21cf-8496-4de9-901c-6ab174c17249",
   "metadata": {},
   "outputs": [],
   "source": [
    "class Shape:\n",
    "\n",
    "    def area(self):\n",
    "        pass\n",
    "\n",
    "class Circle:\n",
    "    def __init__(self, radius):\n",
    "        self.radius=radius\n",
    "\n",
    "    def area(self):\n",
    "        return 3.14*self.radius*self.radius\n",
    "\n",
    "class Rectangle:\n",
    "    def __init__(self, length, breadth):\n",
    "        self.length=length\n",
    "        self.breadth=breadth\n",
    "\n",
    "    def area(self):\n",
    "        return self.length * self.breadth"
   ]
  },
  {
   "cell_type": "code",
   "execution_count": 14,
   "id": "19d5e533-5775-44ea-8259-b1ac241367e2",
   "metadata": {},
   "outputs": [
    {
     "name": "stdout",
     "output_type": "stream",
     "text": [
      "The area of the circle is 78.5\n",
      "The area of the rectangle is 200\n"
     ]
    }
   ],
   "source": [
    "circle = Circle(5)\n",
    "print(f\"The area of the circle is {circle.area()}\")\n",
    "\n",
    "rectangle = Rectangle(10, 20)\n",
    "print(f\"The area of the rectangle is {rectangle.area()}\")\n"
   ]
  },
  {
   "cell_type": "code",
   "execution_count": null,
   "id": "72997c95-4999-4fd9-82fa-d300e94cebd3",
   "metadata": {},
   "outputs": [],
   "source": []
  },
  {
   "cell_type": "markdown",
   "id": "f359c93b-01f7-4d82-ab4b-30631f2129f1",
   "metadata": {},
   "source": [
    "12. Explain the use of abstract base classes (ABCs) in Python and how they relate to inheritance. Provide an \n",
    "example using the `abc` module."
   ]
  },
  {
   "cell_type": "markdown",
   "id": "5a1f7456-f965-4dda-9c5d-cc2171aa39e4",
   "metadata": {},
   "source": [
    "Abstract Base Classes (ABCs) are classes that are designed to be inherited from, but never instantiated. They are used to define a blueprint for other classes to follow, ensuring that they implement certain methods or properties. ABCs are useful when you want to create a hierarchy of classes that share some common functionality, but you don’t want to specify the implementation details of that functionality in the base class.\n",
    "\n",
    "In Python, ABCs are implemented using the abc module. This module provides the ABC class that can be used as a base class for creating abstract classes. The abc module also provides the ABCMeta metaclass, which is used to define abstract classes. Every abstract class must use ABCMeta metaclass."
   ]
  },
  {
   "cell_type": "code",
   "execution_count": 3,
   "id": "5a91992d-6a32-43f6-9e3d-f8b1b846585c",
   "metadata": {},
   "outputs": [
    {
     "name": "stdout",
     "output_type": "stream",
     "text": [
      "MyClass implementation of my_abstract_method\n"
     ]
    }
   ],
   "source": [
    "import abc\n",
    "\n",
    "class MyAbstractClass(metaclass=abc.ABCMeta):\n",
    "    @abc.abstractmethod\n",
    "    def my_abstract_method(self):\n",
    "        pass\n",
    "\n",
    "class MyClass(MyAbstractClass):\n",
    "    def my_abstract_method(self):\n",
    "        print(\"MyClass implementation of my_abstract_method\")\n",
    "\n",
    "my_object = MyClass()\n",
    "my_object.my_abstract_method()\n"
   ]
  },
  {
   "cell_type": "code",
   "execution_count": null,
   "id": "9317842b-dd39-4afa-978e-d8c80dda1e05",
   "metadata": {},
   "outputs": [],
   "source": []
  },
  {
   "cell_type": "markdown",
   "id": "89544540-ac63-44fa-b646-e6505914b6f7",
   "metadata": {},
   "source": [
    "13. How can you prevent a child class from modifying certain attributes or methods inherited from a parent \n",
    "class in Python?"
   ]
  },
  {
   "cell_type": "markdown",
   "id": "75d6e36d-924c-4cc5-a974-2c1a91cc53d5",
   "metadata": {},
   "source": [
    "In Python, you can prevent a child class from modifying certain attributes or methods inherited from a parent class by using encapsulation. Encapsulation is the practice of hiding the implementation details of an object from the outside world and restricting access to its internal state.\n",
    "\n",
    "To implement encapsulation in Python, you can make the attributes or methods you want to protect private by prefixing their names with two underscores (__). This makes them inaccessible from outside the class. However, they can still be accessed and modified from within the class.\n",
    "\n",
    "To prevent a child class from modifying certain attributes or methods inherited from a parent class, you can make them private and provide public methods to access or modify them. These methods can be inherited by the child class, but the private attributes or methods themselves cannot be accessed or modified directly."
   ]
  },
  {
   "cell_type": "code",
   "execution_count": null,
   "id": "45747f3d-d379-4464-ab73-7e85037a6687",
   "metadata": {},
   "outputs": [],
   "source": []
  },
  {
   "cell_type": "markdown",
   "id": "f6aafab1-0381-4a74-acb6-a981a237310e",
   "metadata": {},
   "source": [
    "14. Create a Python class called `Employee` with attributes `name` and `salary`. Then, create a child class \n",
    "`Manager` that inherits from `Employee` and adds an attribute `department`. Provide an example."
   ]
  },
  {
   "cell_type": "code",
   "execution_count": 11,
   "id": "80dd06ec-1772-4ecb-b4a4-aa19b93ae921",
   "metadata": {},
   "outputs": [],
   "source": [
    "class Employee:\n",
    "    def __init__(self, name, salary):\n",
    "        self.name=name\n",
    "        self.salary=salary\n",
    "\n",
    "    def get_salary(self):\n",
    "        return self.salary\n",
    "\n",
    "    def get_name(self):\n",
    "        return self.name\n",
    "\n",
    "class Manager(Employee):\n",
    "    def __init__(self,department):\n",
    "        self.department = department\n",
    "\n",
    "    def get_department(self):\n",
    "        return self.department"
   ]
  },
  {
   "cell_type": "code",
   "execution_count": 12,
   "id": "ca5a0d7a-926c-4f26-820b-f9c589c6eae2",
   "metadata": {},
   "outputs": [],
   "source": [
    "ritik = Employee(\"Ritik\", 20000)"
   ]
  },
  {
   "cell_type": "code",
   "execution_count": 13,
   "id": "d6ccf62a-78fd-4e92-9a55-25421af0794e",
   "metadata": {},
   "outputs": [],
   "source": [
    "m =Manager(\"cs\")"
   ]
  },
  {
   "cell_type": "code",
   "execution_count": 15,
   "id": "86cd8ac4-11a7-4646-8702-1aa7139f91a4",
   "metadata": {},
   "outputs": [
    {
     "data": {
      "text/plain": [
       "'cs'"
      ]
     },
     "execution_count": 15,
     "metadata": {},
     "output_type": "execute_result"
    }
   ],
   "source": [
    "m.get_department()"
   ]
  },
  {
   "cell_type": "code",
   "execution_count": null,
   "id": "afd2f7af-1089-4ede-962d-3a8860313dd6",
   "metadata": {},
   "outputs": [],
   "source": []
  },
  {
   "cell_type": "markdown",
   "id": "2ed00437-7c0b-41ef-81f1-351fd42062dd",
   "metadata": {},
   "source": [
    "15. Discuss the concept of method overloading in Python inheritance. How does it differ from method overriding?"
   ]
  },
  {
   "cell_type": "markdown",
   "id": "ab18ee2e-e353-4e6b-b862-2db0588f39c2",
   "metadata": {},
   "source": [
    "In Python, method overloading is the practice of defining multiple methods with the same name but different parameters in the same class. However, Python does not support method overloading in the traditional sense, as it does not allow multiple methods with the same name and different parameter types. Instead, the latest defined method with the same name is used.\n",
    "\n",
    "Method overriding, on the other hand, is the practice of redefining a method in a child class that was already defined in the parent class. When a method is called on an object of the child class, the child class’s implementation of the method is used instead of the parent class’s implementation."
   ]
  },
  {
   "cell_type": "markdown",
   "id": "f6edc22e-4d06-4257-872b-5484d5fbb4db",
   "metadata": {},
   "source": [
    " method overloading in Python:"
   ]
  },
  {
   "cell_type": "code",
   "execution_count": 22,
   "id": "02f026a4-f419-4627-a72c-ff6d02e73309",
   "metadata": {},
   "outputs": [],
   "source": [
    "class MyClass:\n",
    "    def my_method(self, arg1):\n",
    "        print(\"Method with one argument\")\n",
    "\n",
    "    def my_method(self, arg1, arg2):\n",
    "        print(\"Method with two arguments\")\n"
   ]
  },
  {
   "cell_type": "markdown",
   "id": "2a2a5997-e683-46df-882d-a5cfec24fa35",
   "metadata": {},
   "source": [
    "method overriding in Python:"
   ]
  },
  {
   "cell_type": "code",
   "execution_count": 18,
   "id": "b45eb5f0-9949-4580-87d0-6a7d438b749a",
   "metadata": {},
   "outputs": [
    {
     "name": "stdout",
     "output_type": "stream",
     "text": [
      "Child's method\n"
     ]
    }
   ],
   "source": [
    "class Parent:\n",
    "    def my_method(self):\n",
    "        print(\"Parent's method\")\n",
    "\n",
    "class Child(Parent):\n",
    "    def my_method(self):\n",
    "        print(\"Child's method\")\n",
    "\n",
    "obj = Child()\n",
    "obj.my_method() # Output: Child's method\n"
   ]
  },
  {
   "cell_type": "code",
   "execution_count": null,
   "id": "92394acd-6e82-4cae-b180-9c85761173c6",
   "metadata": {},
   "outputs": [],
   "source": []
  },
  {
   "cell_type": "markdown",
   "id": "4066d0b9-6a34-4e8d-ad2b-2005a32414e1",
   "metadata": {},
   "source": [
    "16. Explain the purpose of the `__init__()` method in Python inheritance and how it is utilized in child classe"
   ]
  },
  {
   "cell_type": "markdown",
   "id": "0c3c9eb2-992b-4c6b-bb6e-2eba6bf62a81",
   "metadata": {},
   "source": [
    "The __init__() method in Python is a special method that is called when an object is created from a class. It is used to initialize the attributes of the object and perform any other setup that is required. The __init__() method is also known as a constructor.\n",
    "\n",
    "In Python inheritance, the __init__() method is utilized in child classes to initialize the attributes of the child class and the parent class. When a child class is created, the __init__() method of the child class is called first. The child class can then call the __init__() method of the parent class using the super() function. This ensures that the attributes of the parent class are also initialized."
   ]
  },
  {
   "cell_type": "code",
   "execution_count": 23,
   "id": "9975bf2b-c0fc-4654-967e-d9f47f9b38f4",
   "metadata": {},
   "outputs": [],
   "source": [
    "class Parent:\n",
    "    def __init__(self, name):\n",
    "        self.name = name\n",
    "\n",
    "class Child(Parent):\n",
    "    def __init__(self, name, age):\n",
    "        super().__init__(name)\n",
    "        self.age = age\n"
   ]
  },
  {
   "cell_type": "markdown",
   "id": "0bfab5f0-8f94-458d-9133-c286eda9bac6",
   "metadata": {},
   "source": [
    "17. Create a Python class called `Bird` with a method `fly()`. Then, create child classes `Eagle` and `Sparrow` that inherit from `Bird` and implement the `fly()` method differently. Provide an example of using these \n",
    "classes ."
   ]
  },
  {
   "cell_type": "code",
   "execution_count": 26,
   "id": "5f4a7925-827c-48fa-b1ae-bdc02bd537ff",
   "metadata": {},
   "outputs": [],
   "source": [
    "class Birds:\n",
    "    def fly(self):\n",
    "        print(\"Birds fly in the sky\")\n",
    "\n",
    "class Eagle(Birds):\n",
    "    def fly(self):\n",
    "        print(\"Eagle fly top of the sky\")\n",
    "\n",
    "class Sparrow(Birds):\n",
    "    def fly(self):\n",
    "        print(\"Sparrow fly near tree\")"
   ]
  },
  {
   "cell_type": "code",
   "execution_count": 28,
   "id": "418d126f-7812-49db-af59-62cecb1eafbb",
   "metadata": {},
   "outputs": [],
   "source": [
    "b=Birds()\n",
    "e=Eagle()\n",
    "s=Sparrow()"
   ]
  },
  {
   "cell_type": "code",
   "execution_count": 29,
   "id": "584c2036-8eae-48b1-a8b1-bb3ad0680d64",
   "metadata": {},
   "outputs": [
    {
     "name": "stdout",
     "output_type": "stream",
     "text": [
      "Eagle fly top of the sky\n"
     ]
    }
   ],
   "source": [
    "e.fly()"
   ]
  },
  {
   "cell_type": "code",
   "execution_count": 30,
   "id": "5710d59c-fb3d-44ba-8b40-962b9449abbe",
   "metadata": {},
   "outputs": [
    {
     "name": "stdout",
     "output_type": "stream",
     "text": [
      "Sparrow fly near tree\n"
     ]
    }
   ],
   "source": [
    "s.fly()"
   ]
  },
  {
   "cell_type": "code",
   "execution_count": 31,
   "id": "8ec9ba36-a2fd-4c8e-8387-e55895b1af77",
   "metadata": {},
   "outputs": [
    {
     "name": "stdout",
     "output_type": "stream",
     "text": [
      "Birds fly in the sky\n"
     ]
    }
   ],
   "source": [
    "b.fly()"
   ]
  },
  {
   "cell_type": "code",
   "execution_count": null,
   "id": "a4ca2e04-6189-437b-a18c-3ba1fb9f288a",
   "metadata": {},
   "outputs": [],
   "source": []
  },
  {
   "cell_type": "markdown",
   "id": "ba057b75-adad-45bd-bfff-070186fc7b76",
   "metadata": {},
   "source": [
    "18. What is the \"diamond problem\" in multiple inheritance, and how does Python address it?"
   ]
  },
  {
   "cell_type": "markdown",
   "id": "b1007de7-98d3-4b04-b393-5bfa90a2ac31",
   "metadata": {},
   "source": [
    "The “diamond problem” is an issue that arises in multiple inheritance when a subclass inherits from two or more classes that have a common base class. This creates a diamond-shaped inheritance hierarchy, where the common base class is represented by the vertex of the diamond, and the two or more classes that inherit from it are represented by the two branches of the diamond.\n",
    "\n",
    "The diamond problem occurs when the two or more classes that inherit from the common base class define a method with the same name. This creates an ambiguity as to which method should be used by the subclass that inherits from both classes.\n",
    "\n",
    "Python addresses the diamond problem by using a method resolution order (MRO) to determine the order in which methods are searched for and executed. The MRO is a linear ordering of the inheritance hierarchy that ensures that each method is executed only once, and in the correct order.\n",
    "\n",
    "In Python, the MRO is determined using the C3 linearization algorithm, which is a depth-first, left-to-right traversal of the inheritance hierarchy. The algorithm ensures that each class is visited only once, and that the order of the classes in the MRO respects the order in which they appear in the inheritance hierarchy."
   ]
  },
  {
   "cell_type": "code",
   "execution_count": null,
   "id": "2d980dee-4dbf-4d5c-a8d8-ef7353375cfa",
   "metadata": {},
   "outputs": [],
   "source": []
  },
  {
   "cell_type": "markdown",
   "id": "35ab40f9-0a95-4d79-a7d4-ea3e3e6ef9c4",
   "metadata": {},
   "source": [
    "19. Discuss the concept of \"is-a\" and \"has-a\" relationships in inheritance, and provide examples of each ."
   ]
  },
  {
   "cell_type": "raw",
   "id": "77884b83",
   "metadata": {},
   "source": [
    "IS-A Relationship (Inheritance):\n",
    "The IS-A relationship is a fundamental concept in object-oriented programming (OOP) and is based on inheritance.\n",
    "It signifies that one class “is a” specific type of another class.\n",
    "Inheritance allows a child class (or subclass) to inherit properties and methods from a parent class (or superclass).\n",
    "Examples:\n",
    "Apple is a Fruit (class inheritance).\n",
    "Car is a Vehicle (class inheritance)."
   ]
  },
  {
   "cell_type": "code",
   "execution_count": 2,
   "id": "f529c569-301a-409c-9621-9631b97dffaa",
   "metadata": {},
   "outputs": [
    {
     "name": "stdout",
     "output_type": "stream",
     "text": [
      "Child Class object created...\n",
      "Parent Class Method called...\n",
      "Child Class Method called...\n"
     ]
    }
   ],
   "source": [
    "class Parent:\n",
    "    def m1(self):\n",
    "        print('Parent Class Method called...')\n",
    "\n",
    "class Child(Parent):\n",
    "    def __init__(self):\n",
    "        print('Child Class object created...')\n",
    "\n",
    "    def m2(self):\n",
    "        print('Child Class Method called...')\n",
    "\n",
    "obj = Child()\n",
    "obj.m1()  \n",
    "obj.m2()  "
   ]
  },
  {
   "cell_type": "raw",
   "id": "374b4e73",
   "metadata": {},
   "source": [
    "HAS-A Relationship (Composition):\n",
    "The HAS-A relationship is based on composition and involves using instance variables that reference other objects.\n",
    "It represents that one class “has” or “contains” another class as part of its structure.\n",
    "Composition allows for more flexible code reuse than strict inheritance.\n",
    "Example:\n",
    "Consider a Car class that HAS-A reference to an Engine:"
   ]
  },
  {
   "cell_type": "code",
   "execution_count": 3,
   "id": "b0aefc07",
   "metadata": {},
   "outputs": [
    {
     "name": "stdout",
     "output_type": "stream",
     "text": [
      "Engine Started\n"
     ]
    }
   ],
   "source": [
    "class Engine:\n",
    "    def start(self):\n",
    "        print('Engine Started')\n",
    "\n",
    "    def stop(self):\n",
    "        print('Engine Stopped')\n",
    "\n",
    "class Car:\n",
    "    def __init__(self):\n",
    "        self.engine = Engine()\n",
    "\n",
    "my_car = Car()\n",
    "my_car.engine.start()"
   ]
  },
  {
   "cell_type": "code",
   "execution_count": null,
   "id": "4d44416c",
   "metadata": {},
   "outputs": [],
   "source": []
  },
  {
   "cell_type": "markdown",
   "id": "9c7eb5d0-986f-4af2-af18-dbd41191c860",
   "metadata": {},
   "source": [
    "20. Create a Python class hierarchy for a university system. Start with a base class `Person` and create child classes `Student` and `Professor`, each with their own attributes and methods. Provide an example of using these classes in a university context."
   ]
  },
  {
   "cell_type": "code",
   "execution_count": 32,
   "id": "4b35ada2-0354-4c9f-a1b9-1593407887e8",
   "metadata": {},
   "outputs": [],
   "source": [
    "class Person:\n",
    "    def __init__(self, name, age):\n",
    "        self.name = name\n",
    "        self.age = age\n",
    "\n",
    "    def introduce(self):\n",
    "        print(\"Hello, my name is\", self.name)\n",
    "\n",
    "class Student(Person):\n",
    "    def __init__(self, name, age, major, gpa):\n",
    "        super().__init__(name, age)\n",
    "        self.major = major\n",
    "        self.gpa = gpa\n",
    "\n",
    "    def study(self, subject):\n",
    "        print(\"Studying\", subject)\n",
    "\n",
    "    def check_grades(self):\n",
    "        print(\"GPA:\", self.gpa)\n",
    "\n",
    "class Professor(Person):\n",
    "    def __init__(self, name, age, department, courses_taught):\n",
    "        super().__init__(name, age)\n",
    "        self.department = department\n",
    "        self.courses_taught = courses_taught\n",
    "\n",
    "    def teach(self, course):\n",
    "        print(\"Teaching\", course)\n",
    "\n",
    "    def conduct_research(self, topic):\n",
    "        print(\"Researching\", topic)\n"
   ]
  },
  {
   "cell_type": "code",
   "execution_count": null,
   "id": "f28f41f4-d77d-48f9-ae36-9add0656c0a1",
   "metadata": {},
   "outputs": [],
   "source": []
  },
  {
   "cell_type": "markdown",
   "id": "d6e6d304-d396-4ad1-a1e1-0837fb882558",
   "metadata": {},
   "source": [
    "## Encapsulation:"
   ]
  },
  {
   "cell_type": "code",
   "execution_count": null,
   "id": "c1d56a04-f941-4f4f-86d8-80c87c64b8d3",
   "metadata": {},
   "outputs": [],
   "source": []
  },
  {
   "cell_type": "markdown",
   "id": "a1e64fa7-5227-48d1-b228-306ef3bff408",
   "metadata": {},
   "source": [
    "1. Explain the concept of encapsulation in Python. What is its role in object-oriented programming?"
   ]
  },
  {
   "cell_type": "markdown",
   "id": "18f28ff6-c8c9-4b78-b2ec-eeb7d59d9bae",
   "metadata": {},
   "source": [
    "Encapsulation is a fundamental concept in object-oriented programming (OOP). It refers to the bundling of attributes and methods inside a single class. This puts restrictions on accessing variables and methods directly and can prevent the accidental modification of data. To prevent accidental change, an object’s variable can only be changed by an object’s method. Those types of variables are known as private variables. A class is an example of encapsulation as it encapsulates all the data that is member functions, variables, etc. The goal of information hiding is to ensure that an object’s state is always valid by controlling access to attributes that are hidden from the outside world ."
   ]
  },
  {
   "cell_type": "code",
   "execution_count": null,
   "id": "8ea95680-3fe3-4ce6-9a82-520d13448841",
   "metadata": {},
   "outputs": [],
   "source": []
  },
  {
   "cell_type": "markdown",
   "id": "54df680e-7c00-4477-8a15-bc45bf1ca9d7",
   "metadata": {},
   "source": [
    "2. Describe the key principles of encapsulation, including access control and data hiding."
   ]
  },
  {
   "cell_type": "markdown",
   "id": "8207bd68-6122-4711-8790-5df50460546d",
   "metadata": {},
   "source": [
    "Encapsulation is a fundamental principle of object-oriented programming that bundles data and methods together within a class, providing a fundamental building block to create robust and modular code. The key idea behind encapsulation is to hide the internal representation (data) of an object from the outside world. This prevents direct access to the object’s data and ensures that all interactions occur through well-defined methods. This provides several benefits such as improved code organization, enhanced security, and maintainability\n",
    "\n",
    "Python provides access modifiers to indicate the intended visibility of an attribute or method. The access modifiers commonly used in Python are:\n",
    "1.\n",
    "Public (No underscore prefix): Public attributes and methods can be accessed from anywhere, both within and outside the clas\n",
    "s2..\n",
    "Protected (Single underscore prefix): Protected attributes and methods are intended to be accessed only from within the class and its subclasse\n",
    "3.s.\n",
    "Private (Double underscore prefix): Private attributes and methods are intended to be accessed only from within the class itselfes."
   ]
  },
  {
   "cell_type": "code",
   "execution_count": null,
   "id": "5c9de410-35c6-4466-842e-fc19a664d606",
   "metadata": {},
   "outputs": [],
   "source": []
  },
  {
   "cell_type": "markdown",
   "id": "5e636960-6406-4090-97b9-dd79da472af7",
   "metadata": {},
   "source": [
    "3. How can you achieve encapsulation in Python classes? Provide an example."
   ]
  },
  {
   "cell_type": "markdown",
   "id": "6fb1e414-839e-4ff6-8766-6b57cd1e9c34",
   "metadata": {},
   "source": [
    "Encapsulation in Python can be achieved by declaring the data members and methods of a class either as private or protected. Private members are intended to be accessed only from within the class itself, while protected members are intended to be accessed only from within the class and its subclasses. Python does not have direct access modifiers like public, private, and protected. Instead, we can achieve this by using single underscore and double underscores ."
   ]
  },
  {
   "cell_type": "code",
   "execution_count": 17,
   "id": "9a8f2820-6420-438e-8a82-3a5d4a1b4c4d",
   "metadata": {},
   "outputs": [],
   "source": [
    "class Bank:\n",
    "    def __init__(self, account_number,password, balance):\n",
    "        self.__account_number=account_number\n",
    "        self.__password=password\n",
    "        self.__balance= balance\n",
    "\n",
    "    def get_account_number(self):\n",
    "        return self.__account_number\n",
    "\n",
    "    def get_balance(self, password_account):\n",
    "        if password_account == self.__password:\n",
    "            return self.__balance\n",
    "\n",
    "    def deposite(self, amount):\n",
    "        x = self.__balance\n",
    "        self.__balance +=amount\n",
    "        return f\"Your previous balance is: {x} and Your closing balance is: {self.__balance}\"\n",
    "\n",
    "    def withraw(self, amount):\n",
    "        x = self.__balance\n",
    "        if self.__balance >= amount:\n",
    "            self.__balance -=amount\n",
    "            return f\"Your previous balance is: {x} and Your closing balance is: {self.__balance}\"\n",
    "        else:\n",
    "            return \"Insufficient Balance\""
   ]
  },
  {
   "cell_type": "code",
   "execution_count": 18,
   "id": "7905d2f7-1e90-4731-a579-27bedc4716ee",
   "metadata": {},
   "outputs": [],
   "source": [
    "ritik =  Bank(1234, 123, 5000)"
   ]
  },
  {
   "cell_type": "code",
   "execution_count": 19,
   "id": "d285a4f5-3f3e-411b-8ab1-5d85c0dff047",
   "metadata": {},
   "outputs": [
    {
     "data": {
      "text/plain": [
       "'Your previous balance is: 5000 and Your closing balance is: 5050'"
      ]
     },
     "execution_count": 19,
     "metadata": {},
     "output_type": "execute_result"
    }
   ],
   "source": [
    "ritik.deposite(50)"
   ]
  },
  {
   "cell_type": "code",
   "execution_count": 20,
   "id": "0d1f8e83-326b-43eb-b0ad-d760423dd737",
   "metadata": {},
   "outputs": [
    {
     "data": {
      "text/plain": [
       "5050"
      ]
     },
     "execution_count": 20,
     "metadata": {},
     "output_type": "execute_result"
    }
   ],
   "source": [
    "ritik.get_balance(123)"
   ]
  },
  {
   "cell_type": "code",
   "execution_count": 21,
   "id": "47a80351-bc1e-4793-944f-9455f369dc5a",
   "metadata": {},
   "outputs": [
    {
     "data": {
      "text/plain": [
       "'Your previous balance is: 5050 and Your closing balance is: 5040'"
      ]
     },
     "execution_count": 21,
     "metadata": {},
     "output_type": "execute_result"
    }
   ],
   "source": [
    "ritik.withraw(10)"
   ]
  },
  {
   "cell_type": "code",
   "execution_count": null,
   "id": "6d4deae4-5f73-4120-b9f1-d927cfed0575",
   "metadata": {},
   "outputs": [],
   "source": []
  },
  {
   "cell_type": "markdown",
   "id": "0c7de235-81e2-48b6-98fd-334e9b1657d3",
   "metadata": {},
   "source": [
    "4. Discuss the difference between public, private, and protected access modifiers in Python."
   ]
  },
  {
   "cell_type": "markdown",
   "id": "372b6bba-614b-4ad6-9edc-f319d5846a0f",
   "metadata": {},
   "source": [
    "In Python, access modifiers are used to control the visibility and accessibility of class attributes and methods. Python does not have direct access modifiers like public, private, and protected. Instead, we can achieve this by using single underscore and double underscores .\n",
    "Here is a brief summary of the three types of access modifiers in Python:\n",
    "\n",
    "Public (No underscore prefix): Public attributes and methods can be accessed from anywhere, both within and outside the class.\n",
    "Protected (Single underscore prefix): Protected attributes and methods are intended to be accessed only from within the class and its subclasses.\n",
    "Private (Double underscore prefix): Private attributes and methods are intended to be accessed only from within the class itself."
   ]
  },
  {
   "cell_type": "code",
   "execution_count": null,
   "id": "1dd0dbd2-1f33-4368-83af-e9be11091e8c",
   "metadata": {},
   "outputs": [],
   "source": []
  },
  {
   "cell_type": "markdown",
   "id": "88382817-6e3e-4364-9752-274dc0e372e5",
   "metadata": {},
   "source": [
    "5. Create a Python class called `Person` with a private attribute `__name`. Provide methods to get and set the name attribute"
   ]
  },
  {
   "cell_type": "code",
   "execution_count": 28,
   "id": "8b086945-89f2-48b1-914f-3c6127a7d645",
   "metadata": {},
   "outputs": [],
   "source": [
    "class Person:\n",
    "    def __init__(self,name):\n",
    "        self.__name = name\n",
    "\n",
    "    def get_name(self):\n",
    "        return self.__name\n",
    "\n",
    "    def set_name(self, name):\n",
    "        self.__name = name"
   ]
  },
  {
   "cell_type": "code",
   "execution_count": 29,
   "id": "5e8f9791-bb43-4365-bc28-ea8e6ec884e7",
   "metadata": {},
   "outputs": [],
   "source": [
    "p = Person(\"Ritik\")"
   ]
  },
  {
   "cell_type": "code",
   "execution_count": 30,
   "id": "1629f315-d4a4-44ae-a68b-81529bea26f5",
   "metadata": {},
   "outputs": [
    {
     "data": {
      "text/plain": [
       "'Ritik'"
      ]
     },
     "execution_count": 30,
     "metadata": {},
     "output_type": "execute_result"
    }
   ],
   "source": [
    "p.get_name()"
   ]
  },
  {
   "cell_type": "code",
   "execution_count": 31,
   "id": "807d9a44-0e7d-4b71-baaa-cde74d456377",
   "metadata": {},
   "outputs": [],
   "source": [
    "p.set_name(\"Rohit\")"
   ]
  },
  {
   "cell_type": "code",
   "execution_count": 33,
   "id": "f8d3b539-000d-44fa-97da-8cd4197cd149",
   "metadata": {},
   "outputs": [
    {
     "data": {
      "text/plain": [
       "'Rohit'"
      ]
     },
     "execution_count": 33,
     "metadata": {},
     "output_type": "execute_result"
    }
   ],
   "source": [
    "p.get_name()"
   ]
  },
  {
   "cell_type": "code",
   "execution_count": 35,
   "id": "924b868d-71b2-4865-adf9-a29b7835fe69",
   "metadata": {},
   "outputs": [
    {
     "data": {
      "text/plain": [
       "'Rohit'"
      ]
     },
     "execution_count": 35,
     "metadata": {},
     "output_type": "execute_result"
    }
   ],
   "source": [
    "p._Person__name"
   ]
  },
  {
   "cell_type": "markdown",
   "id": "575d233c-0ebe-4455-bec4-4f19599dcf57",
   "metadata": {},
   "source": [
    "6. Explain the purpose of getter and setter methods in encapsulation. Provide examples."
   ]
  },
  {
   "cell_type": "markdown",
   "id": "7c793e61-fe8d-4fd1-aed1-1da9498ef84f",
   "metadata": {},
   "source": [
    "Getter and setter methods are used in encapsulation to control access to the private attributes of a class. They provide a controlled interface to interact with class fields, allowing us to shield the internal state of an object from direct manipulation by external classes. By making fields private and providing public methods to access or modify these fields, we can ensure that the data is accessed and modified in a safe and consistent manner.\n",
    "\n",
    "Getter methods are used to retrieve the value of a private attribute, while setter methods are used to set the value of a private attribute. They are named with a get or set prefix followed by the name of the attribute, with the first letter in uppercase."
   ]
  },
  {
   "cell_type": "code",
   "execution_count": 34,
   "id": "d78585a2-cd38-49fd-ae8b-3c0239e111e7",
   "metadata": {},
   "outputs": [],
   "source": [
    "class Person:\n",
    "    def __init__(self,name):\n",
    "        self.__name = name\n",
    "\n",
    "    def get_name(self):\n",
    "        return self.__name\n",
    "\n",
    "    def set_name(self, name):\n",
    "        self.__name = name"
   ]
  },
  {
   "cell_type": "code",
   "execution_count": null,
   "id": "03432c3e-9ac6-4135-8d04-a42e27b4b99c",
   "metadata": {},
   "outputs": [],
   "source": []
  },
  {
   "cell_type": "markdown",
   "id": "a45844d4-06bf-4bf2-a2fe-08d737073b61",
   "metadata": {},
   "source": [
    "7. What is name mangling in Python, and how does it affect encapsulation?"
   ]
  },
  {
   "cell_type": "markdown",
   "id": "521afe6c-15a8-403a-a94e-75d48c733057",
   "metadata": {},
   "source": [
    "Name mangling is a technique used in Python to make class attributes private by changing their names to include the class name as a prefix. In Python, there are no true private attributes, but name mangling provides a way to simulate private attributes by making them harder to access from outside the class.\n",
    "\n",
    "When an attribute is prefixed with two underscores (e.g., __attribute), Python automatically changes its name to _classname__attribute, where classname is the name of the current class. This makes it harder to access the attribute from outside the class, as the attribute’s name has been changed. However, it is still possible to access the attribute by using its mangled name, so name mangling is not a foolproof way to make attributes private.\n",
    "\n",
    "Name mangling affects encapsulation by making it harder to access class attributes from outside the class. By making attributes private, we can ensure that they are accessed and modified only through well-defined methods, providing a controlled interface to interact with class fields. This helps to ensure that the data is accessed and modified in a safe and consistent manner, improving code organization, security, and maintainability."
   ]
  },
  {
   "cell_type": "code",
   "execution_count": 4,
   "id": "bc4f0c30-ecc4-4c99-9bb0-60de0f0bc003",
   "metadata": {},
   "outputs": [
    {
     "name": "stdout",
     "output_type": "stream",
     "text": [
      "I am a private attribute\n",
      "I am a private attribute\n"
     ]
    }
   ],
   "source": [
    "class MyClass:\n",
    "    def __init__(self):\n",
    "        self.__private_attribute = \"I am a private attribute\"\n",
    "\n",
    "    def get_private_attribute(self):\n",
    "        return self.__private_attribute\n",
    "\n",
    "my_object = MyClass()\n",
    "print(my_object.get_private_attribute()) \n",
    "print(my_object._MyClass__private_attribute)\n"
   ]
  },
  {
   "cell_type": "code",
   "execution_count": null,
   "id": "a2035998-e39c-466a-a15b-1ffaf90c08d7",
   "metadata": {},
   "outputs": [],
   "source": []
  },
  {
   "cell_type": "markdown",
   "id": "a0930f8e-7eed-408c-a943-ec66844d57c4",
   "metadata": {},
   "source": [
    "8. Create a Python class called `BankAccount` with private attributes for the account balance (`__balance`) and account number (`__account_number`). Provide methods for depositing and withdrawing money."
   ]
  },
  {
   "cell_type": "code",
   "execution_count": 43,
   "id": "e29d27a9-89bc-4d2f-8448-0598abfab0a7",
   "metadata": {},
   "outputs": [],
   "source": [
    "class BankAccount:\n",
    "    def __init__(self, account_number,password, balance):\n",
    "        self.__account_number=account_number\n",
    "        self.__password=password\n",
    "        self.__balance= balance\n",
    "\n",
    "    def get_account_number(self):\n",
    "        return self.__account_number\n",
    "\n",
    "    def get_balance(self, password_account):\n",
    "        if password_account == self.__password:\n",
    "            return self.__balance\n",
    "        else:\n",
    "            return \"Wrong Password\"\n",
    "\n",
    "    def deposite(self, amount):\n",
    "        x = self.__balance\n",
    "        self.__balance +=amount\n",
    "        return f\"Your previous balance is: {x} and Your closing balance is: {self.__balance}\"\n",
    "\n",
    "    def withraw(self, amount):\n",
    "        x = self.__balance\n",
    "        if self.__balance >= amount:\n",
    "            self.__balance -=amount\n",
    "            return f\"Your previous balance is: {x} and Your closing balance is: {self.__balance}\"\n",
    "        else:\n",
    "            return \"Insufficient Balance\""
   ]
  },
  {
   "cell_type": "code",
   "execution_count": 44,
   "id": "e9a5968f-96e4-4a88-b974-3ecf6a119c44",
   "metadata": {},
   "outputs": [],
   "source": [
    "ritik = BankAccount(987,123,5000)"
   ]
  },
  {
   "cell_type": "code",
   "execution_count": 45,
   "id": "49cd24f4-3371-4497-97ac-1e8806b4ea04",
   "metadata": {},
   "outputs": [
    {
     "data": {
      "text/plain": [
       "987"
      ]
     },
     "execution_count": 45,
     "metadata": {},
     "output_type": "execute_result"
    }
   ],
   "source": [
    "ritik.get_account_number()"
   ]
  },
  {
   "cell_type": "code",
   "execution_count": 47,
   "id": "bb1c2a49-f3a7-4c59-84b3-086049cdbaae",
   "metadata": {},
   "outputs": [
    {
     "data": {
      "text/plain": [
       "'Wrong Password'"
      ]
     },
     "execution_count": 47,
     "metadata": {},
     "output_type": "execute_result"
    }
   ],
   "source": [
    "ritik.get_balance(1234)"
   ]
  },
  {
   "cell_type": "code",
   "execution_count": 48,
   "id": "2ac60a25-7847-4686-bc3f-4e2886fb52fa",
   "metadata": {},
   "outputs": [
    {
     "data": {
      "text/plain": [
       "5000"
      ]
     },
     "execution_count": 48,
     "metadata": {},
     "output_type": "execute_result"
    }
   ],
   "source": [
    "ritik.get_balance(123)"
   ]
  },
  {
   "cell_type": "code",
   "execution_count": 49,
   "id": "e1c09a30-37df-4f62-9d00-4c516cbd2682",
   "metadata": {},
   "outputs": [
    {
     "data": {
      "text/plain": [
       "'Your previous balance is: 5000 and Your closing balance is: 5050'"
      ]
     },
     "execution_count": 49,
     "metadata": {},
     "output_type": "execute_result"
    }
   ],
   "source": [
    "ritik.deposite(50)"
   ]
  },
  {
   "cell_type": "code",
   "execution_count": 50,
   "id": "5b91ad2f-6084-4eb4-9023-d8a2c1338098",
   "metadata": {},
   "outputs": [
    {
     "data": {
      "text/plain": [
       "'Your previous balance is: 5050 and Your closing balance is: 5040'"
      ]
     },
     "execution_count": 50,
     "metadata": {},
     "output_type": "execute_result"
    }
   ],
   "source": [
    "ritik.withraw(10)"
   ]
  },
  {
   "cell_type": "code",
   "execution_count": 52,
   "id": "123ac715-f6ce-42e6-b34f-0509052122ad",
   "metadata": {},
   "outputs": [
    {
     "data": {
      "text/plain": [
       "'Insufficient Balance'"
      ]
     },
     "execution_count": 52,
     "metadata": {},
     "output_type": "execute_result"
    }
   ],
   "source": [
    "ritik.withraw(5041)"
   ]
  },
  {
   "cell_type": "code",
   "execution_count": null,
   "id": "5029b091-1d00-4ef8-a985-99b88b5677ac",
   "metadata": {},
   "outputs": [],
   "source": []
  },
  {
   "cell_type": "markdown",
   "id": "594b7644-4294-45d9-9d54-e9694d622617",
   "metadata": {},
   "source": [
    "9. Discuss the advantages of encapsulation in terms of code maintainability and security."
   ]
  },
  {
   "cell_type": "markdown",
   "id": "1552e33a-cb08-4079-9800-738f0fdb62fb",
   "metadata": {},
   "source": [
    "Maintainability:\n",
    "\n",
    "Modularity: Encapsulation promotes code modularity by breaking down software into self-contained, independent modules (classes). This makes code easier to understand, test, and manage, as changes within a module often don't impact others.\n",
    "Focused Changes: When modifications are necessary, they're typically isolated within the specific class, reducing the risk of unintended side effects in other parts of the codebase.\n",
    "Simplified Testing: Encapsulated classes can be tested more easily in isolation, as their internal workings are hidden from external dependencies.\n",
    "\n",
    "Security:\n",
    "\n",
    "Data Protection: Encapsulation safeguards sensitive data by restricting direct access to it. This prevents unauthorized modifications, ensuring data integrity and confidentiality.\n",
    "Controlled Access: It enforces a clear interface for interacting with data, allowing only permitted operations through public methods. This reduces the likelihood of accidental or malicious data corruption.\n",
    "Error Prevention: Encapsulation can help prevent errors by validating inputs and enforcing data consistency within methods. This reduces the potential for invalid data states and unexpected behavior."
   ]
  },
  {
   "cell_type": "code",
   "execution_count": null,
   "id": "f9dc1698-ed7f-49a3-8fc5-9d58dbd61aae",
   "metadata": {},
   "outputs": [],
   "source": []
  },
  {
   "cell_type": "markdown",
   "id": "596288c9-3b25-4d49-885d-f1e3bb44b799",
   "metadata": {},
   "source": [
    "10. How can you access private attributes in Python? Provide an example demonstrating the use of name mangling."
   ]
  },
  {
   "cell_type": "code",
   "execution_count": 53,
   "id": "4d39efbf-d17e-4827-8d3c-da8d879e1c1a",
   "metadata": {},
   "outputs": [],
   "source": [
    "class Person:\n",
    "    def __init__(self,name, age):\n",
    "        self.__name = name\n",
    "        self.age=age"
   ]
  },
  {
   "cell_type": "code",
   "execution_count": 54,
   "id": "8e130a8e-1b9d-4f97-a247-07acdea1936b",
   "metadata": {},
   "outputs": [],
   "source": [
    "p=Person(\"Ritik\",22)"
   ]
  },
  {
   "cell_type": "code",
   "execution_count": 55,
   "id": "4fe9d665-5a02-4458-a63d-50abb57ea53d",
   "metadata": {},
   "outputs": [
    {
     "data": {
      "text/plain": [
       "22"
      ]
     },
     "execution_count": 55,
     "metadata": {},
     "output_type": "execute_result"
    }
   ],
   "source": [
    "p.age"
   ]
  },
  {
   "cell_type": "code",
   "execution_count": 56,
   "id": "fc196b5e-9369-4b57-8e34-fb3a7d226979",
   "metadata": {},
   "outputs": [
    {
     "data": {
      "text/plain": [
       "'Ritik'"
      ]
     },
     "execution_count": 56,
     "metadata": {},
     "output_type": "execute_result"
    }
   ],
   "source": [
    "p._Person__name"
   ]
  },
  {
   "cell_type": "code",
   "execution_count": null,
   "id": "9159ccd5-8cc6-41a2-9ce9-33a5cb5e04a2",
   "metadata": {},
   "outputs": [],
   "source": []
  },
  {
   "cell_type": "markdown",
   "id": "b8c0425a-37ee-41b3-9cbd-77ff1af3c694",
   "metadata": {},
   "source": [
    "11. Create a Python class hierarchy for a school system, including classes for students, teachers, and courses, and implement encapsulation principles to protect sensitive information."
   ]
  },
  {
   "cell_type": "code",
   "execution_count": 2,
   "id": "d833bf97-0658-4d83-b36e-6c9f081878f5",
   "metadata": {},
   "outputs": [],
   "source": [
    "class Person:\n",
    "    def __init__(self, name, age):\n",
    "        self._name = name\n",
    "        self._age = age\n",
    "\n",
    "    def get_name(self):\n",
    "        return self._name\n",
    "\n",
    "    def get_age(self):\n",
    "        return self._age\n",
    "\n",
    "class Student(Person):\n",
    "    def __init__(self, name, age, grade, courses=[]):\n",
    "        super().__init__(name, age)\n",
    "        self._grade = grade\n",
    "        self._courses = courses\n",
    "\n",
    "    def get_grade(self):\n",
    "        return self._grade\n",
    "\n",
    "    def add_course(self, course):\n",
    "        self._courses.append(course)\n",
    "\n",
    "    def get_courses(self):\n",
    "        return self._courses\n",
    "\n",
    "class Teacher(Person):\n",
    "    def __init__(self, name, age, subject):\n",
    "        super().__init__(name, age)\n",
    "        self._subject = subject\n",
    "        self._courses_taught = []\n",
    "\n",
    "    def get_subject(self):\n",
    "        return self._subject\n",
    "\n",
    "    def add_course_taught(self, course):\n",
    "        self._courses_taught.append(course)\n",
    "\n",
    "    def get_courses_taught(self):\n",
    "        return self._courses_taught\n",
    "\n",
    "class Course:\n",
    "    def __init__(self, name, teacher):\n",
    "        self._name = name\n",
    "        self._teacher = teacher\n",
    "        self._students = []\n",
    "\n",
    "    def get_name(self):\n",
    "        return self._name\n",
    "\n",
    "    def get_teacher(self):\n",
    "        return self._teacher\n",
    "\n",
    "    def add_student(self, student):\n",
    "        self._students.append(student)\n",
    "\n",
    "    def get_students(self):\n",
    "        return self._students\n"
   ]
  },
  {
   "cell_type": "code",
   "execution_count": 3,
   "id": "dea02b83-48e1-4500-ba1c-d1e71d49771e",
   "metadata": {},
   "outputs": [
    {
     "name": "stdout",
     "output_type": "stream",
     "text": [
      "Alice is taking Math\n",
      "Bob is teaching Math\n"
     ]
    }
   ],
   "source": [
    "student1 = Student(\"Alice\", 15, 9)\n",
    "course1 = Course(\"Math\", Teacher(\"Bob\", 35, \"Math\"))\n",
    "course1.add_student(student1)\n",
    "\n",
    "print(student1.get_name(), \"is taking\", course1.get_name())\n",
    "print(course1.get_teacher().get_name(), \"is teaching\", course1.get_name())\n"
   ]
  },
  {
   "cell_type": "code",
   "execution_count": null,
   "id": "c3bd5a56-4c6d-43c7-a96c-7c8c69374992",
   "metadata": {},
   "outputs": [],
   "source": []
  },
  {
   "cell_type": "markdown",
   "id": "d2ddef68-d519-49e8-a5d8-c7bd3f1d3784",
   "metadata": {},
   "source": [
    "12. Explain the concept of property decorators in Python and how they relate to encapsulation."
   ]
  },
  {
   "cell_type": "markdown",
   "id": "29473b6f-30d0-4363-a00e-d510db8061ba",
   "metadata": {},
   "source": [
    "In Python, property decorators are used to define getter, setter, and deleter methods for class attributes. These methods allow us to encapsulate the internal state of an object and control access to it.\n",
    "\n",
    "The getter method is used to retrieve the value of a private attribute. The setter method is used to set the value of a private attribute. The deleter method is used to delete the value of a private attribute.\n",
    "\n",
    "By using property decorators, we can define these methods without exposing the underlying implementation details of the class. This is an example of encapsulation in object-oriented programming, which is the practice of hiding implementation details and exposing a public interface."
   ]
  },
  {
   "cell_type": "code",
   "execution_count": 5,
   "id": "db593c13-ceec-4aef-a017-b0dcf9f9108e",
   "metadata": {},
   "outputs": [],
   "source": [
    "class Person:\n",
    "    def __init__(self, name):\n",
    "        self._name = name\n",
    "\n",
    "    @property\n",
    "    def name(self):\n",
    "        return self._name\n",
    "\n",
    "    @name.setter\n",
    "    def name(self, value):\n",
    "        self._name = value\n",
    "\n",
    "    @name.deleter\n",
    "    def name(self):\n",
    "        del self._name"
   ]
  },
  {
   "cell_type": "raw",
   "id": "2434343d-a4c9-479b-aa86-1aed0ebf865b",
   "metadata": {},
   "source": []
  },
  {
   "cell_type": "code",
   "execution_count": null,
   "id": "3fcc93da-abbc-46f6-a276-e816a4b841cf",
   "metadata": {},
   "outputs": [],
   "source": [
    "13. What is data hiding, and why is it important in encapsulation? Provide examples."
   ]
  },
  {
   "cell_type": "markdown",
   "id": "5561cd7a-b5ce-4e21-b759-f6be04b0e082",
   "metadata": {},
   "source": [
    "Data hiding is a technique used in object-oriented programming to restrict access to certain class members. It is achieved by making the members private, which means they can only be accessed within the class. This helps prevent unauthorized access and modification of the data members, which can lead to unexpected behavior and errors.\n",
    "\n",
    "Encapsulation is the practice of hiding implementation details and exposing a public interface. It is achieved by bundling data members and methods inside a class. Data hiding is an important aspect of encapsulation because it helps ensure that the data members are not accessed or modified directly from outside the class. or roles."
   ]
  },
  {
   "cell_type": "code",
   "execution_count": 6,
   "id": "d28cb07d-25fc-4be2-bf41-f81ae3387dea",
   "metadata": {},
   "outputs": [],
   "source": [
    "class BankAccount:\n",
    "    def __init__(self, balance):\n",
    "        self.__balance = balance\n",
    "\n",
    "    def deposit(self, amount):\n",
    "        self.__balance += amount\n",
    "\n",
    "    def withdraw(self, amount):\n",
    "        if amount > self.__balance:\n",
    "            raise ValueError(\"Insufficient balance\")\n",
    "        self.__balance -= amount\n",
    "\n",
    "    def get_balance(self):\n",
    "        return self.__balance\n"
   ]
  },
  {
   "cell_type": "code",
   "execution_count": null,
   "id": "cf8b3ef0-f5bc-4aa4-b906-a3e00ed14da7",
   "metadata": {},
   "outputs": [],
   "source": []
  },
  {
   "cell_type": "markdown",
   "id": "89943b42-24f4-446b-a913-24eb4a710b0c",
   "metadata": {},
   "source": [
    "14. Create a Python class called `Employee` with private attributes for salary (`__salary`) and employee ID (`__employee_id`). Provide a method to calculate yearly bonuses."
   ]
  },
  {
   "cell_type": "code",
   "execution_count": 5,
   "id": "c7395798-86fe-4c0e-9b49-d3657f2ec36a",
   "metadata": {},
   "outputs": [
    {
     "name": "stdout",
     "output_type": "stream",
     "text": [
      "Susan Meyers's yearly bonus: $9000.00\n",
      "Mark Jones's yearly bonus: $12000.00\n"
     ]
    }
   ],
   "source": [
    "class Employee:\n",
    "    def __init__(self, name, employee_id, salary):\n",
    "        self.__name = name\n",
    "        self.__employee_id = employee_id\n",
    "        self.__salary = salary\n",
    "\n",
    "    def calculate_yearly_bonus(self):\n",
    "        \"\"\"\n",
    "        Calculates the yearly bonus based on the salary.\n",
    "        Returns the bonus amount.\n",
    "        \"\"\"\n",
    "        if self.__salary < 50000:\n",
    "            bonus_percentage = 0.1  # 10% bonus for salaries below 50000\n",
    "        elif self.__salary < 100000:\n",
    "            bonus_percentage = 0.15  # 15% bonus for salaries between 50000 and 100000\n",
    "        else:\n",
    "            bonus_percentage = 0.2  # 20% bonus for salaries above 100000\n",
    "\n",
    "        bonus_amount = self.__salary * bonus_percentage\n",
    "        return bonus_amount\n",
    "\n",
    "# Example usage:\n",
    "if __name__ == \"__main__\":\n",
    "    emp1 = Employee(\"Susan Meyers\", 47899, 60000)\n",
    "    emp2 = Employee(\"Mark Jones\", 39119, 80000)\n",
    "\n",
    "    print(f\"{emp1._Employee__name}'s yearly bonus: ${emp1.calculate_yearly_bonus():.2f}\")\n",
    "    print(f\"{emp2._Employee__name}'s yearly bonus: ${emp2.calculate_yearly_bonus():.2f}\")\n"
   ]
  },
  {
   "cell_type": "code",
   "execution_count": null,
   "id": "557f4185-9217-4671-826e-b7ffb8a2ebb3",
   "metadata": {},
   "outputs": [],
   "source": []
  },
  {
   "cell_type": "markdown",
   "id": "b9d8bcf4-227a-4c9b-895d-4c67b272e454",
   "metadata": {},
   "source": [
    "15. Discuss the use of accessors and mutators in encapsulation. How do they help maintain control over attribute access?"
   ]
  },
  {
   "cell_type": "markdown",
   "id": "0a6330f0-c750-496d-b92c-9118fe134088",
   "metadata": {},
   "source": [
    "In object-oriented programming, accessors and mutators are methods used to control access to an object’s properties. Accessors, also known as getter methods, are used to retrieve the value of an object’s private instance variables. Mutators, also known as setter methods, are used to modify the value of an object’s private instance variables.\n",
    "\n",
    "By using accessors and mutators, we can ensure that the object’s state is accessed and modified only through a controlled interface. This helps maintain control over attribute access and prevents unauthorized access and modification of the data members, which can lead to unexpected behavior and errors."
   ]
  },
  {
   "cell_type": "code",
   "execution_count": 8,
   "id": "6eef946f-daad-4ab1-9d03-a629fa54df21",
   "metadata": {},
   "outputs": [],
   "source": [
    "class Person:\n",
    "    def __init__(self, name):\n",
    "        self._name = name\n",
    "\n",
    "    def get_name(self):\n",
    "        return self._name\n",
    "\n",
    "    def set_name(self, name):\n",
    "        self._name = name\n"
   ]
  },
  {
   "cell_type": "code",
   "execution_count": null,
   "id": "1fe38539-31bf-4d3e-a43e-49989f87ffe3",
   "metadata": {},
   "outputs": [],
   "source": []
  },
  {
   "cell_type": "markdown",
   "id": "cdee8715-d778-4699-8d56-097916170f37",
   "metadata": {},
   "source": [
    "16. What are the potential drawbacks or disadvantages of using encapsulation in Python?"
   ]
  },
  {
   "cell_type": "markdown",
   "id": "38d6e00a-0290-4e62-ad50-54f869bd59db",
   "metadata": {},
   "source": [
    "Increased Code Size:\n",
    "\n",
    "Encapsulation often requires additional methods and properties for accessing and modifying data, potentially increasing code size.\n",
    "Mitigation: Use clear and concise naming conventions for methods and properties to maintain readability. Consider using property decorators to simplify attribute access when appropriate.\n",
    "Potential Performance Overhead:\n",
    "\n",
    "In performance-critical scenarios, indirect access through methods might have a slight overhead compared to direct attribute access.\n",
    "Mitigation: Profile your code to identify performance bottlenecks and optimize accordingly. If necessary, consider carefully exposing specific attributes for direct access while maintaining data integrity checks.\n",
    "Debugging Complexity:\n",
    "\n",
    "Debugging can become slightly more involved as you might need to step through multiple methods to trace the flow of data.\n",
    "Mitigation: Use a good debugger and leverage logging or print statements to track variable values and method calls effectively.\n",
    "Flexibility Trade-offs:\n",
    "\n",
    "Encapsulation can sometimes limit flexibility in specific cases where direct access to internal data might be desired.\n",
    "Mitigation: Carefully design your classes with appropriate public and private members, considering future needs and potential extensions. Provide clear documentation for intended usage and limitations.\n",
    "Understanding Overhead:\n",
    "\n",
    "Developers new to OOP concepts might need to invest time in understanding encapsulation principles and best practices, potentially increasing the learning curve.\n",
    "Mitigation: Provide clear documentation and code examples, and encourage knowledge sharing within teams to ensure proper understanding of encapsulation."
   ]
  },
  {
   "cell_type": "code",
   "execution_count": null,
   "id": "4bb9454d-8922-40f1-bef7-ec6c93801336",
   "metadata": {},
   "outputs": [],
   "source": []
  },
  {
   "cell_type": "markdown",
   "id": "e78e0311-423b-44f6-a758-24d490ab010a",
   "metadata": {},
   "source": [
    "17. Create a Python class for a library system that encapsulates book information, including titles, authors, and availability status."
   ]
  },
  {
   "cell_type": "markdown",
   "id": "7727eabd-b0dd-43cf-bd1b-51e284de412e",
   "metadata": {},
   "source": [
    "Increased Code Size:\n",
    "\n",
    "Encapsulation often requires additional methods and properties for accessing and modifying data, potentially increasing code size.\n",
    "Mitigation: Use clear and concise naming conventions for methods and properties to maintain readability. Consider using property decorators to simplify attribute access when appropriate.\n",
    "Potential Performance Overhead:\n",
    "\n",
    "In performance-critical scenarios, indirect access through methods might have a slight overhead compared to direct attribute access.\n",
    "Mitigation: Profile your code to identify performance bottlenecks and optimize accordingly. If necessary, consider carefully exposing specific attributes for direct access while maintaining data integrity checks.\n",
    "Debugging Complexity:\n",
    "\n",
    "Debugging can become slightly more involved as you might need to step through multiple methods to trace the flow of data.\n",
    "Mitigation: Use a good debugger and leverage logging or print statements to track variable values and method calls effectively.\n",
    "Flexibility Trade-offs:\n",
    "\n",
    "Encapsulation can sometimes limit flexibility in specific cases where direct access to internal data might be desired.\n",
    "Mitigation: Carefully design your classes with appropriate public and private members, considering future needs and potential extensions. Provide clear documentation for intended usage and limitations.\n",
    "Understanding Overhead:\n",
    "\n",
    "Developers new to OOP concepts might need to invest time in understanding encapsulation principles and best practices, potentially increasing the learning curve.\n",
    "Mitigation: Provide clear documentation and code examples, and encourage knowledge sharing within teams to ensure proper understanding of encapsulation."
   ]
  },
  {
   "cell_type": "code",
   "execution_count": null,
   "id": "72f226ca-053f-4a83-a835-7a10a6aea79c",
   "metadata": {},
   "outputs": [],
   "source": []
  },
  {
   "cell_type": "markdown",
   "id": "c796a34e-fb52-46ae-b56b-f1167c70799e",
   "metadata": {},
   "source": [
    "18. Explain how encapsulation enhances code reusability and modularity in Python programs."
   ]
  },
  {
   "cell_type": "markdown",
   "id": "e9724794-f82d-4a2b-9c64-81cc492b091f",
   "metadata": {},
   "source": [
    "Code Reusability:\n",
    "\n",
    "Encapsulated classes can be easily reused in different contexts without the need to rewrite their logic, saving development time and effort.\n",
    "This promotes code sharing and collaboration.\n",
    "\n",
    "Modularity:\n",
    "\n",
    "Encapsulation encourages breaking down complex problems into smaller, more manageable modules that can be developed and tested independently.\n",
    "This improves code organization, readability, and maintainability."
   ]
  },
  {
   "cell_type": "code",
   "execution_count": null,
   "id": "4d2ce070-7e12-4109-9a33-732f739b4408",
   "metadata": {},
   "outputs": [],
   "source": []
  },
  {
   "cell_type": "markdown",
   "id": "d8e082ed-0f05-410b-a079-dc8b3cb82de9",
   "metadata": {},
   "source": [
    "19. Describe the concept of information hiding in encapsulation. Why is it essential in software development?"
   ]
  },
  {
   "cell_type": "markdown",
   "id": "9da381c7-1934-4a98-aeaa-d1d33e88f264",
   "metadata": {},
   "source": [
    "\n",
    "Information hiding, intertwined with encapsulation, is a critical component of good software development. It refers to the practice of restricting direct access to an object's internal data and implementation details, exposing only necessary functionalities through well-defined interfaces. This concept protects the integrity and stability of your software in several ways:\n",
    "\n",
    "1. Data Integrity: Hiding sensitive data like account balances or user passwords prevents accidental or malicious manipulation, ensuring reliable and consistent internal state.\n",
    "\n",
    "2. Modularity and Reusability: By separating internal structure from external interaction, classes become autonomous units. This leads to cleaner code, easier maintenance, and improved reusability across different projects.\n",
    "\n",
    "3. Increased Flexibility: Changes to internal implementation can be made without affecting external code that utilizes the public interface. This promotes agility and adaptiveness to evolving requirements.\n",
    "\n",
    "4. Reduced Coupling: Components rely only on exposed interfaces, not internal details, creating looser coupling between modules. This simplifies code, minimizes dependencies, and improves fault tolerance.\n",
    "\n",
    "Importance in Software Development:\n",
    "\n",
    "Information hiding is essential for building robust, maintainable, and secure software. It facilitates modular design, reduces coupling, and promotes code reusability. Additionally, it protects sensitive data, improves code resilience to changes, and simplifies debugging and maintenance. By embracing information hiding through encapsulation, developers can create well-structured, reliable, and adaptable software projectare."
   ]
  },
  {
   "cell_type": "code",
   "execution_count": null,
   "id": "795e0003-7bc4-43f7-84d3-9685215ff153",
   "metadata": {},
   "outputs": [],
   "source": []
  },
  {
   "cell_type": "markdown",
   "id": "79ca6968-91da-440c-81bf-7b079ebf8f8e",
   "metadata": {},
   "source": [
    "20. Create a Python class called `Customer` with private attributes for customer details like name, address, and contact information. Implement encapsulation to ensure data integrity and security"
   ]
  },
  {
   "cell_type": "code",
   "execution_count": 6,
   "id": "e678c2b9-8633-47b0-beaf-464f04f6cb73",
   "metadata": {},
   "outputs": [
    {
     "name": "stdout",
     "output_type": "stream",
     "text": [
      "Customer Name: Alice\n",
      "Customer Address: 123 Main St\n",
      "Contact Info: alice@example.com\n",
      "Updated Address: 456 Elm St\n",
      "Updated Contact Info: alice.new@example.com\n"
     ]
    }
   ],
   "source": [
    "class Customer:\n",
    "    def __init__(self, name, address, contact_info):\n",
    "        self.__name = name\n",
    "        self.__address = address\n",
    "        self.__contact_info = contact_info\n",
    "\n",
    "    def get_name(self):\n",
    "        \"\"\"Get the customer's name.\"\"\"\n",
    "        return self.__name\n",
    "\n",
    "    def get_address(self):\n",
    "        \"\"\"Get the customer's address.\"\"\"\n",
    "        return self.__address\n",
    "\n",
    "    def get_contact_info(self):\n",
    "        \"\"\"Get the customer's contact information.\"\"\"\n",
    "        return self.__contact_info\n",
    "\n",
    "    def update_address(self, new_address):\n",
    "        \"\"\"Update the customer's address.\"\"\"\n",
    "        self.__address = new_address\n",
    "\n",
    "    def update_contact_info(self, new_contact_info):\n",
    "        \"\"\"Update the customer's contact information.\"\"\"\n",
    "        self.__contact_info = new_contact_info\n",
    "\n",
    "# Example usage:\n",
    "if __name__ == \"__main__\":\n",
    "    # Create a customer object\n",
    "    customer1 = Customer(name=\"Alice\", address=\"123 Main St\", contact_info=\"alice@example.com\")\n",
    "\n",
    "    # Access private attributes using getter methods\n",
    "    print(f\"Customer Name: {customer1.get_name()}\")\n",
    "    print(f\"Customer Address: {customer1.get_address()}\")\n",
    "    print(f\"Contact Info: {customer1.get_contact_info()}\")\n",
    "\n",
    "    # Update address and contact info\n",
    "    customer1.update_address(\"456 Elm St\")\n",
    "    customer1.update_contact_info(\"alice.new@example.com\")\n",
    "\n",
    "    print(f\"Updated Address: {customer1.get_address()}\")\n",
    "    print(f\"Updated Contact Info: {customer1.get_contact_info()}\")\n"
   ]
  },
  {
   "cell_type": "code",
   "execution_count": null,
   "id": "092a3fb5-d661-4e4d-8f37-840bb3f66f8c",
   "metadata": {},
   "outputs": [],
   "source": []
  },
  {
   "cell_type": "markdown",
   "id": "3e88c5fd-7743-4174-b941-a06a8b15f9ad",
   "metadata": {},
   "source": [
    "## Polymorphism:"
   ]
  },
  {
   "cell_type": "markdown",
   "id": "ff1df3a5-2348-4f82-9215-d27f2553089d",
   "metadata": {},
   "source": [
    "1. What is polymorphism in Python? Explain how it is related to object-oriented programming."
   ]
  },
  {
   "cell_type": "markdown",
   "id": "ff04eab0-ccda-47a6-a349-3b14ddd2981c",
   "metadata": {},
   "source": [
    "Polymorphism is a fundamental concept in object-oriented programming. It refers to the ability of different classes to be treated as instances of the same class through inheritance . In Python, polymorphism is achieved in various ways, including with functions and abstract classes .\n",
    "\n",
    "Polymorphism allows for flexibility and loose coupling so that code can be extended and easily maintained over time . It permits functions/arguments to use entities of different types at different times . This means that a particular object belonging to a particular class can be used in the same way as if it were a different object belonging to a different class "
   ]
  },
  {
   "cell_type": "code",
   "execution_count": null,
   "id": "07b953a1-0021-4812-9ba5-29f3e5e10c1f",
   "metadata": {},
   "outputs": [],
   "source": []
  },
  {
   "cell_type": "markdown",
   "id": "92f3b759-243e-44f0-afda-5c1fb7d8be57",
   "metadata": {},
   "source": [
    "2. Describe the difference between compile-time polymorphism and runtime polymorphism in Python."
   ]
  },
  {
   "cell_type": "markdown",
   "id": "6eee77fe-796d-43f4-9b02-b982d948b4ab",
   "metadata": {},
   "source": [
    "Compile-time polymorphism is also known as static polymorphism or method overloading. It is a type of polymorphism that occurs at compile time. In this type of polymorphism, the compiler determines which method to call based on the number of arguments and their types. The method to be called is determined at the time of compilation, and the same method is called every time the program is executed. Method overloading is an example of compile-time polymorphism.\n",
    "\n",
    "Runtime polymorphism is also known as dynamic polymorphism or method overriding. It is a type of polymorphism that occurs at runtime. In this type of polymorphism, the method to be called is determined at runtime based on the type of the object. The method to be called is determined by the actual object that is referred to by the reference variable. Method overriding is an example of runtime polymorphism."
   ]
  },
  {
   "cell_type": "code",
   "execution_count": null,
   "id": "c0388349-6d51-42db-93d6-24c8b28711b3",
   "metadata": {},
   "outputs": [],
   "source": []
  },
  {
   "cell_type": "code",
   "execution_count": 9,
   "id": "b21c08f1-f3fe-4e30-843b-25e472977ab8",
   "metadata": {},
   "outputs": [],
   "source": [
    "class Pwskills:\n",
    "    def student(self):\n",
    "        pass\n",
    "\n",
    "class Datascience(Pwskills):\n",
    "    def student(self):\n",
    "        print(\"this will give me a details about data science\")\n",
    "\n",
    "class Bigdata(Datascience):\n",
    "    def student(self):\n",
    "        print(\"this will give a details about big data\")\n",
    "\n",
    "ritik=datascience()\n",
    "riya=bigdata()"
   ]
  },
  {
   "cell_type": "code",
   "execution_count": 10,
   "id": "20f2dad8-4766-4d0f-954a-94a9eccc83a5",
   "metadata": {},
   "outputs": [
    {
     "name": "stdout",
     "output_type": "stream",
     "text": [
      "this will give me a details about data science\n",
      "this will give a details about big data\n"
     ]
    }
   ],
   "source": [
    "ritik.student()\n",
    "riya.student()"
   ]
  },
  {
   "cell_type": "code",
   "execution_count": null,
   "id": "f965d2b2-4c07-4633-9722-03d85dae1fa6",
   "metadata": {},
   "outputs": [],
   "source": []
  },
  {
   "cell_type": "markdown",
   "id": "97512ad5-9c78-401f-91f4-0313b835ea1f",
   "metadata": {},
   "source": [
    "3. Create a Python class hierarchy for shapes (e.g., circle, square, triangle) and demonstrate polymorphism through a common method, such as `calculate_area()`."
   ]
  },
  {
   "cell_type": "code",
   "execution_count": 12,
   "id": "7df5cd46-be59-4298-b3cf-bdde166abdeb",
   "metadata": {},
   "outputs": [],
   "source": [
    "class Shape:\n",
    "    def calculate_area(self):\n",
    "        pass\n",
    "\n",
    "class Circle(Shape):\n",
    "    def calculate_area(self,radius):\n",
    "        area = 3.14 *radius*radius\n",
    "        return f\"Area of the circle is: {area}\"\n",
    "\n",
    "class Square(Circle):\n",
    "    def calculate_area(self,breadth,length):\n",
    "        area = breadth*length\n",
    "        return f\"Area of the sqaure is: {area}\"\n",
    "\n",
    "class Triangle(Square):\n",
    "    def calculate_area(self,base,height):\n",
    "        area = 0.5*base*height\n",
    "        return f\"Area of the triangle is: {area}\""
   ]
  },
  {
   "cell_type": "code",
   "execution_count": 13,
   "id": "47e6dcb3-1178-4200-9eaf-d0224a82e94e",
   "metadata": {},
   "outputs": [
    {
     "data": {
      "text/plain": [
       "'Area of the circle is: 78.5'"
      ]
     },
     "execution_count": 13,
     "metadata": {},
     "output_type": "execute_result"
    }
   ],
   "source": [
    "rv=circle()\n",
    "rv.calculate_area(5)"
   ]
  },
  {
   "cell_type": "code",
   "execution_count": 14,
   "id": "0d18d8ce-9ce9-43c3-a358-a18cba5e5171",
   "metadata": {},
   "outputs": [
    {
     "data": {
      "text/plain": [
       "'Area of the sqaure is: 10'"
      ]
     },
     "execution_count": 14,
     "metadata": {},
     "output_type": "execute_result"
    }
   ],
   "source": [
    "r= square()\n",
    "r.calculate_area(5,2)"
   ]
  },
  {
   "cell_type": "code",
   "execution_count": 15,
   "id": "4f1dd253-190c-4c66-ad59-e234fa7e5910",
   "metadata": {},
   "outputs": [
    {
     "data": {
      "text/plain": [
       "'Area of the triangle is: 5.0'"
      ]
     },
     "execution_count": 15,
     "metadata": {},
     "output_type": "execute_result"
    }
   ],
   "source": [
    "rkv = triangle()\n",
    "rkv.calculate_area(2,5)"
   ]
  },
  {
   "cell_type": "code",
   "execution_count": null,
   "id": "3c78d834-ea8b-4759-9ff1-419376e85625",
   "metadata": {},
   "outputs": [],
   "source": []
  },
  {
   "cell_type": "markdown",
   "id": "aa51a88e-58fa-4005-99e2-bc0dc89ef610",
   "metadata": {},
   "source": [
    "4. Explain the concept of method overriding in polymorphism. Provide an example."
   ]
  },
  {
   "cell_type": "markdown",
   "id": "be830c41-6a5b-41bf-a276-8a64c6401001",
   "metadata": {},
   "source": [
    "Method Overriding is a type of polymorphism that allows a subclass (child class) to redefine the implementation of a method inherited from its superclass (parent class). This means that even though both classes have a method with the same name and signature, the actual code executed when that method is called will differ depending on the object's type."
   ]
  },
  {
   "cell_type": "code",
   "execution_count": 2,
   "id": "d32b7368-2cd7-4188-8fed-461af3c45675",
   "metadata": {},
   "outputs": [],
   "source": [
    "class AnimalSound:\n",
    "    def sound(self):\n",
    "        pass\n",
    "\n",
    "class Cat(AnimalSound):\n",
    "    def sound(self):\n",
    "        return \"meow\"\n",
    "\n",
    "class Lion(Cat):\n",
    "    def sound(self):\n",
    "        return \"roar\"\n",
    "\n"
   ]
  },
  {
   "cell_type": "code",
   "execution_count": 4,
   "id": "2f6724d9-4e66-489b-b821-c6b0c52f27b0",
   "metadata": {},
   "outputs": [
    {
     "data": {
      "text/plain": [
       "'meow'"
      ]
     },
     "execution_count": 4,
     "metadata": {},
     "output_type": "execute_result"
    }
   ],
   "source": [
    "cat= Cat()\n",
    "cat.sound()"
   ]
  },
  {
   "cell_type": "code",
   "execution_count": 5,
   "id": "615cdb24-e471-4fe7-8717-fba47c46c1c5",
   "metadata": {},
   "outputs": [
    {
     "data": {
      "text/plain": [
       "'roar'"
      ]
     },
     "execution_count": 5,
     "metadata": {},
     "output_type": "execute_result"
    }
   ],
   "source": [
    "lion=Lion()\n",
    "lion.sound()"
   ]
  },
  {
   "cell_type": "code",
   "execution_count": null,
   "id": "96410049-4b71-4b7a-8795-78d0fdf5d012",
   "metadata": {},
   "outputs": [],
   "source": []
  },
  {
   "cell_type": "markdown",
   "id": "944eee68-abd1-41f3-8a21-92ffc4aab780",
   "metadata": {},
   "source": [
    "5. How is polymorphism different from method overloading in Python? Provide examples for both . "
   ]
  },
  {
   "cell_type": "markdown",
   "id": "0795f786-ba4b-4fc9-aef6-d446f4829ab0",
   "metadata": {},
   "source": [
    "In Python, polymorphism and method overloading are two different concepts. Polymorphism is the ability of an object to take on many forms, while method overloading is the ability to define multiple methods with the same name in a class, but with different parameters .\n",
    "\n",
    "Python does not support method overloading, but it does support method overriding. Method overriding is the ability of a subclass to provide its own implementation of a method that is already defined in its superclass ."
   ]
  },
  {
   "cell_type": "code",
   "execution_count": 6,
   "id": "04920032-6206-4ed4-9498-cc9fbd11cddc",
   "metadata": {},
   "outputs": [
    {
     "name": "stdout",
     "output_type": "stream",
     "text": [
      "5\n",
      "9\n"
     ]
    }
   ],
   "source": [
    "# Example of polymorphism with user-defined functions\n",
    "def add(x, y, z=0):\n",
    "    return x + y + z\n",
    "\n",
    "print(add(2, 3)) # Output: 5\n",
    "print(add(2, 3, 4)) # Output: 9"
   ]
  },
  {
   "cell_type": "code",
   "execution_count": 9,
   "id": "2ce26e88-6545-4c6f-b0bc-f8ddf38df4d6",
   "metadata": {},
   "outputs": [
    {
     "name": "stdout",
     "output_type": "stream",
     "text": [
      "5\n",
      "10\n"
     ]
    }
   ],
   "source": [
    "class Calculator:\n",
    "    def add(self, num1, num2=0):  # Second parameter has a default value\n",
    "        return num1 + num2\n",
    "\n",
    "calc = Calculator()\n",
    "print(calc.add(5))      # Output: 5\n",
    "print(calc.add(4, 6))   # Output: 10"
   ]
  },
  {
   "cell_type": "code",
   "execution_count": null,
   "id": "9bc3fe73-1a64-4439-a435-60e39481b446",
   "metadata": {},
   "outputs": [],
   "source": []
  },
  {
   "cell_type": "markdown",
   "id": "fbea4a9b-41e9-45f7-a9e2-ac09ac35742d",
   "metadata": {},
   "source": [
    "6. Create a Python class called `Animal` with a method `speak()`. Then, create child classes like `Dog`, `Cat`, and `Bird`, each with their own `speak()` method. Demonstrate polymorphism by calling the `speak()` method on objects of different subclasses."
   ]
  },
  {
   "cell_type": "code",
   "execution_count": 11,
   "id": "ce72d2bb-5fa4-429c-b036-231f2c97839f",
   "metadata": {},
   "outputs": [],
   "source": [
    "class Animal:\n",
    "    def method_speak(self):\n",
    "        pass\n",
    "\n",
    "class Dog(Animal):\n",
    "    def method_speak(self):\n",
    "        return \"Bark\"\n",
    "\n",
    "class Cat(Dog):\n",
    "    def method_speak(self):\n",
    "        return \"meow\"\n",
    "\n",
    "class Bird(Cat):\n",
    "    def method_speak(self):\n",
    "        return \"chip\""
   ]
  },
  {
   "cell_type": "code",
   "execution_count": 13,
   "id": "8fcff37e-c63f-4aa8-ad31-a161bc5030ba",
   "metadata": {},
   "outputs": [
    {
     "data": {
      "text/plain": [
       "'Bark'"
      ]
     },
     "execution_count": 13,
     "metadata": {},
     "output_type": "execute_result"
    }
   ],
   "source": [
    "dog=Dog()\n",
    "cat=Cat()\n",
    "bird=Bird()\n",
    "dog.method_speak()"
   ]
  },
  {
   "cell_type": "code",
   "execution_count": 14,
   "id": "94a2a848-801a-4562-bb22-031c6fa832c1",
   "metadata": {},
   "outputs": [
    {
     "data": {
      "text/plain": [
       "'meow'"
      ]
     },
     "execution_count": 14,
     "metadata": {},
     "output_type": "execute_result"
    }
   ],
   "source": [
    "cat.method_speak()\n"
   ]
  },
  {
   "cell_type": "code",
   "execution_count": 15,
   "id": "76d34b22-6062-4a4b-a2f3-9a7c23786e8b",
   "metadata": {},
   "outputs": [
    {
     "data": {
      "text/plain": [
       "'chip'"
      ]
     },
     "execution_count": 15,
     "metadata": {},
     "output_type": "execute_result"
    }
   ],
   "source": [
    "bird.method_speak()"
   ]
  },
  {
   "cell_type": "code",
   "execution_count": null,
   "id": "f50ae872-66e9-42da-b36a-737e7f44590a",
   "metadata": {},
   "outputs": [],
   "source": []
  },
  {
   "cell_type": "markdown",
   "id": "feb7ec4d-d5eb-4e01-86cf-103870d7e2a6",
   "metadata": {},
   "source": [
    "7. Discuss the use of abstract methods and classes in achieving polymorphism in Python. Provide an example using the `abc` module."
   ]
  },
  {
   "cell_type": "markdown",
   "id": "04678a56",
   "metadata": {},
   "source": [
    "Abstract Classes and Methods:\n",
    "\n",
    "An abstract class is a class that cannot be instantiated directly. It serves as a blueprint for other classes.\n",
    "An abstract method is a method declared in an abstract class but does not have an implementation. Subclasses must provide their own implementation for abstract methods.\n",
    "Python provides the abc (Abstract Base Classes) module to define abstract classes and enforce the presence of abstract methods.\n",
    "\n",
    "Polymorphism and Abstract Classes:\n",
    "    \n",
    "Abstract classes allow you to define a common interface that multiple related classes can adhere to.\n",
    "Subclasses of an abstract class can provide their own implementations for the abstract methods, achieving polymorphism.\n",
    "Polymorphism enables you to use a single method name to perform different actions based on the specific object type."
   ]
  },
  {
   "cell_type": "code",
   "execution_count": 7,
   "id": "536286d3-b5bd-4d20-a51e-a24edad9a3a0",
   "metadata": {},
   "outputs": [
    {
     "name": "stdout",
     "output_type": "stream",
     "text": [
      "Rectangle area: 15\n",
      "Circle area: 50.24\n"
     ]
    }
   ],
   "source": [
    "from abc import ABC, abstractmethod\n",
    "\n",
    "class Shape(ABC):\n",
    "    @abstractmethod\n",
    "    def area(self):\n",
    "        \"\"\"Abstract method: Calculate the area of the shape.\"\"\"\n",
    "        pass\n",
    "\n",
    "class Rectangle(Shape):\n",
    "    def __init__(self, width, height):\n",
    "        self.width = width\n",
    "        self.height = height\n",
    "\n",
    "    def area(self):\n",
    "        return self.width * self.height\n",
    "\n",
    "class Circle(Shape):\n",
    "    def __init__(self, radius):\n",
    "        self.radius = radius\n",
    "\n",
    "    def area(self):\n",
    "        return 3.14 * self.radius ** 2\n",
    "\n",
    "# Example usage\n",
    "rect = Rectangle(width=5, height=3)\n",
    "circle = Circle(radius=4)\n",
    "\n",
    "print(f\"Rectangle area: {rect.area()}\")\n",
    "print(f\"Circle area: {circle.area()}\")\n"
   ]
  },
  {
   "cell_type": "code",
   "execution_count": null,
   "id": "109ab838",
   "metadata": {},
   "outputs": [],
   "source": []
  },
  {
   "cell_type": "markdown",
   "id": "0e5de766-161a-4558-b252-0c8b4cf9d76a",
   "metadata": {},
   "source": [
    "8. Create a Python class hierarchy for a vehicle system (e.g., car, bicycle, boat) and implement a polymorphic `start()` method that prints a message specific to each vehicle type. "
   ]
  },
  {
   "cell_type": "code",
   "execution_count": 8,
   "id": "66137644",
   "metadata": {},
   "outputs": [
    {
     "name": "stdout",
     "output_type": "stream",
     "text": [
      "Toyota Camry engine started. Ready to drive!\n",
      "Trek Mountain Bike pedals moving. Let's ride!\n",
      "Sea Ray Speedboat motor running. Setting sail!\n"
     ]
    }
   ],
   "source": [
    "from abc import ABC, abstractmethod\n",
    "\n",
    "class Vehicle(ABC):\n",
    "    def __init__(self, brand, model):\n",
    "        self.brand = brand\n",
    "        self.model = model\n",
    "\n",
    "    @abstractmethod\n",
    "    def start(self):\n",
    "        \"\"\"Abstract method: Start the vehicle.\"\"\"\n",
    "        pass\n",
    "\n",
    "class Car(Vehicle):\n",
    "    def start(self):\n",
    "        print(f\"{self.brand} {self.model} engine started. Ready to drive!\")\n",
    "\n",
    "class Bicycle(Vehicle):\n",
    "    def start(self):\n",
    "        print(f\"{self.brand} {self.model} pedals moving. Let's ride!\")\n",
    "\n",
    "class Boat(Vehicle):\n",
    "    def start(self):\n",
    "        print(f\"{self.brand} {self.model} motor running. Setting sail!\")\n",
    "\n",
    "# Example usage\n",
    "if __name__ == \"__main__\":\n",
    "    my_car = Car(brand=\"Toyota\", model=\"Camry\")\n",
    "    my_bicycle = Bicycle(brand=\"Trek\", model=\"Mountain Bike\")\n",
    "    my_boat = Boat(brand=\"Sea Ray\", model=\"Speedboat\")\n",
    "\n",
    "    my_car.start()\n",
    "    my_bicycle.start()\n",
    "    my_boat.start()\n"
   ]
  },
  {
   "cell_type": "code",
   "execution_count": null,
   "id": "3feb1a5f",
   "metadata": {},
   "outputs": [],
   "source": []
  },
  {
   "cell_type": "markdown",
   "id": "f7752229-b27c-484f-9eb1-30858dd480fd",
   "metadata": {},
   "source": [
    "9. Explain the significance of the `isinstance()` and `issubclass()` functions in Python polymorphism."
   ]
  },
  {
   "cell_type": "markdown",
   "id": "f80d2d23-3836-44e0-b2fa-b7d0f30ac799",
   "metadata": {},
   "source": [
    "1. isinstance(object, classinfo)\n",
    "\n",
    "Purpose: Checks whether a given object is an instance of a specific class or any of its subclasses.\n",
    "\n",
    "Key for polymorphism: It's often used to determine the actual type of an object at runtime and make decisions based on that type, enabling code to work with objects of different classes in a polymorphic way.\n",
    "\n",
    "2. issubclass(class, classinfo)\n",
    "\n",
    "Purpose: Checks whether a given class is a subclass (direct or indirect) of another clas\n",
    "\n",
    ".\n",
    "Useful in polymorphism: It's often used to verify class relationships and ensure compatibility within inheritance hierarchies."
   ]
  },
  {
   "cell_type": "code",
   "execution_count": 20,
   "id": "ee361ae2-4d99-4f10-94c9-c28fb1f76a85",
   "metadata": {},
   "outputs": [
    {
     "name": "stdout",
     "output_type": "stream",
     "text": [
      "This is some kind of animal.\n",
      "This is a dog!\n"
     ]
    }
   ],
   "source": [
    "class Animal: ...\n",
    "class Dog(Animal): ...\n",
    "class Cat(Animal): ...\n",
    "\n",
    "animal = Dog()\n",
    "\n",
    "if isinstance(animal, Animal):\n",
    "    print(\"This is some kind of animal.\")\n",
    "\n",
    "if isinstance(animal, Dog):\n",
    "    print(\"This is a dog!\")\n"
   ]
  },
  {
   "cell_type": "code",
   "execution_count": 21,
   "id": "54b768ae-2011-4082-80b2-ff1fbe3e8e2a",
   "metadata": {},
   "outputs": [
    {
     "name": "stdout",
     "output_type": "stream",
     "text": [
      "Car is a type of vehicle.\n"
     ]
    }
   ],
   "source": [
    "class Vehicle: ...\n",
    "class Car(Vehicle): ...\n",
    "class Motorcycle(Vehicle): ...\n",
    "\n",
    "if issubclass(Car, Vehicle):\n",
    "    print(\"Car is a type of vehicle.\")\n",
    "\n",
    "if issubclass(Motorcycle, Car):\n",
    "    print(\"Motorcycle is a type of car.\")  # False\n"
   ]
  },
  {
   "cell_type": "code",
   "execution_count": null,
   "id": "298852e5-4098-4456-842a-90a949f7f5ba",
   "metadata": {},
   "outputs": [],
   "source": []
  },
  {
   "cell_type": "markdown",
   "id": "a4fce1ae-2905-4e4f-aa8c-bdb198100cd8",
   "metadata": {},
   "source": [
    "10. What is the role of the `@abstractmethod` decorator in achieving polymorphism in Python? Provide an example."
   ]
  },
  {
   "cell_type": "markdown",
   "id": "a90db4e2-3d6e-4575-ba71-2ee8cb1f6c43",
   "metadata": {},
   "source": [
    "Role of @abstractmethod:\n",
    "\n",
    "It's a built-in decorator used to create abstract classes and abstract methods within them.\n",
    "An abstract method is a method that has a declaration but no implementation within the abstract class.\n",
    "It enforces a contract that subclasses must provide concrete implementations for these abstract methods, ensuring consistency and polymorphism within the inheritance hierarchy.\n",
    "How it Enables Polymorphism:\n",
    "\n",
    "Abstract Base Classes:\n",
    "\n",
    "Classes using @abstractmethod are implicitly abstract classes and cannot be directly instantiated.\n",
    "They serve as blueprints for subclasses, defining a common interface that subclasses must adhere to.\n",
    "\n",
    "Mandatory Implementations:\n",
    "\n",
    "Subclasses inheriting from an abstract class must implement all abstract methods inherited from their parent classes.\n",
    "This ensures that all subclasses have the necessary functionality to fulfill the contract defined by the abstract class.\n",
    "\n",
    "Dynamic Method Dispatch:\n",
    "\n",
    "When a method from the abstract class is called on a subclass instance, Python's dynamic method dispatch mechanism ensures that the appropriate implementation from the subclass is executed, based on the object's actual type.\n",
    "This is the core of polymorphism in action."
   ]
  },
  {
   "cell_type": "code",
   "execution_count": 22,
   "id": "b2478881-bb57-456f-8856-07f34b906c00",
   "metadata": {},
   "outputs": [
    {
     "name": "stdout",
     "output_type": "stream",
     "text": [
      "20\n",
      "28.27431\n"
     ]
    }
   ],
   "source": [
    "from abc import ABC, abstractmethod\n",
    "\n",
    "class Shape(ABC):\n",
    "    @abstractmethod\n",
    "    def area(self):\n",
    "        pass\n",
    "\n",
    "class Rectangle(Shape):\n",
    "    def __init__(self, width, height):\n",
    "        self.width = width\n",
    "        self.height = height\n",
    "\n",
    "    def area(self):\n",
    "        return self.width * self.height\n",
    "\n",
    "class Circle(Shape):\n",
    "    def __init__(self, radius):\n",
    "        self.radius = radius\n",
    "\n",
    "    def area(self):\n",
    "        return 3.14159 * self.radius**2\n",
    "\n",
    "# Cannot create instances of the abstract class\n",
    "# shape = Shape()  # TypeError: Can't instantiate abstract class Shape with abstract methods area\n",
    "\n",
    "# Create instances of the concrete subclasses\n",
    "rectangle = Rectangle(4, 5)\n",
    "circle = Circle(3)\n",
    "\n",
    "# Polymorphic calls to the `area()` method\n",
    "print(rectangle.area())  # Output: 20\n",
    "print(circle.area())    # Output: 28.274333882308138\n"
   ]
  },
  {
   "cell_type": "code",
   "execution_count": null,
   "id": "c430a807-038c-4943-94f1-2c2294558c52",
   "metadata": {},
   "outputs": [],
   "source": []
  },
  {
   "cell_type": "markdown",
   "id": "fc9a2229-bb12-4f1c-a652-8637749d8e93",
   "metadata": {},
   "source": [
    "11. Create a Python class called `Shape` with a polymorphic method `area()` that calculates the area of different shapes (e.g., circle, rectangle, triangle) . "
   ]
  },
  {
   "cell_type": "code",
   "execution_count": 33,
   "id": "9eacbfd4-a366-45c6-b7be-c815e5de924d",
   "metadata": {},
   "outputs": [],
   "source": [
    "class Shape:\n",
    "    def __init__(self):\n",
    "        pass\n",
    "\n",
    "    def calculate_area(self):\n",
    "        return \"calculate the area of shape\"\n",
    "\n",
    "class Circle(Shape):\n",
    "    def __init__(self,radius):\n",
    "        self.radius=radius\n",
    "\n",
    "    def calculate_area(self):\n",
    "        area=3.14*self.radius*self.radius\n",
    "        return f\"Area is: {area}\"\n",
    "\n",
    "class Triangle(Shape):\n",
    "    def __init__(self,height,base):\n",
    "        self.height= height\n",
    "        self.base=base\n",
    "\n",
    "    def calculate_area(self):\n",
    "        area= 0.5*self.base*self.height\n",
    "        return f\"Area is: {area}\"\n",
    "\n",
    "class Rectangle(Shape):\n",
    "    def __init__(self,length,breadth):\n",
    "        self.length=length\n",
    "        self.breadth=breadth\n",
    "\n",
    "    def calculate_area(self):\n",
    "        area=self.length*self.breadth\n",
    "        return f\"Area is: {area}\""
   ]
  },
  {
   "cell_type": "code",
   "execution_count": 34,
   "id": "c774e863-210c-4ce9-aa5f-993faa1e19ea",
   "metadata": {},
   "outputs": [],
   "source": [
    "c=Circle(5)\n",
    "t=Triangle(5,2)\n",
    "r=Rectangle(2,1)"
   ]
  },
  {
   "cell_type": "code",
   "execution_count": 37,
   "id": "3a97587f-125a-464c-b8da-79bb4a6dcdfa",
   "metadata": {},
   "outputs": [
    {
     "name": "stdout",
     "output_type": "stream",
     "text": [
      "Area is: 78.5\n",
      "Area is: 5.0\n",
      "Area is: 2\n"
     ]
    }
   ],
   "source": [
    "a= c.calculate_area()\n",
    "b=t.calculate_area()\n",
    "c=r.calculate_area()\n",
    "print(a)\n",
    "print(b)\n",
    "print(c)"
   ]
  },
  {
   "cell_type": "code",
   "execution_count": null,
   "id": "020e88b3-0b58-4a43-8b0d-6867aa5b463c",
   "metadata": {},
   "outputs": [],
   "source": []
  },
  {
   "cell_type": "markdown",
   "id": "57e62347-2ab8-4041-89bc-eadb3e512714",
   "metadata": {},
   "source": [
    "12. Discuss the benefits of polymorphism in terms of code reusability and flexibility in Python programs."
   ]
  },
  {
   "cell_type": "markdown",
   "id": "c4eebf17-fd18-4376-b7e6-d47b22270017",
   "metadata": {},
   "source": [
    "Code Reusability: Polymorphism allows you to reuse the code written for the base class, reducing redundancy and promoting cleaner, more concise code .\n",
    "\n",
    "Flexibility: With polymorphism, you can add new derived classes without modifying existing code. This makes your codebase more flexible and easily extensible ."
   ]
  },
  {
   "cell_type": "code",
   "execution_count": null,
   "id": "2a35c502-aaae-4761-ba22-98fcd41b8a2f",
   "metadata": {},
   "outputs": [],
   "source": []
  },
  {
   "cell_type": "markdown",
   "id": "25bb0fe9-66ba-458b-b675-10375fadd2d3",
   "metadata": {},
   "source": [
    "13. Explain the use of the `super()` function in Python polymorphism. How does it help call methods of parent classes?"
   ]
  },
  {
   "cell_type": "markdown",
   "id": "db95e71b-b582-42d6-89e5-9452f0e3ad74",
   "metadata": {},
   "source": [
    "super() function in Python polymorphism:\n",
    "\n",
    "Purpose:\n",
    "\n",
    "Accesses methods and properties of a parent class (superclass) from within a child class (subclass).\n",
    "Facilitates code reuse and avoids repetition of shared functionality across classes.\n",
    "Essential for method overriding and constructor chaining in inheritance hierarchies.\n",
    "\n",
    "Key Points:\n",
    "\n",
    "Method Overriding: When a subclass redefines a method inherited from its parent class, super() allows you to call the original parent class method within the overridden method, ensuring proper functionality and potential customization.\n",
    "Constructor Chaining: In multiple inheritance, super() ensures that constructors of all parent classes are called in the correct order, guaranteeing proper object initialization."
   ]
  },
  {
   "cell_type": "code",
   "execution_count": null,
   "id": "898a4741-8f0d-49f6-99f4-a180b3795349",
   "metadata": {},
   "outputs": [],
   "source": []
  },
  {
   "cell_type": "markdown",
   "id": "c8a4f55f-8781-4cf5-a919-f3bb26b4d812",
   "metadata": {},
   "source": [
    "14. Create a Python class hierarchy for a banking system with various account types (e.g., savings, checking, credit card) and demonstrate polymorphism by implementing a common `withdraw()` method."
   ]
  },
  {
   "cell_type": "code",
   "execution_count": 9,
   "id": "e2b2139b-87ca-4feb-9f5c-8d2436959cfb",
   "metadata": {},
   "outputs": [
    {
     "name": "stdout",
     "output_type": "stream",
     "text": [
      "Withdrew $200 from Savings Account. New balance: $800.00\n",
      "Withdrew $1500 from Checking Account. New balance: $500.00\n",
      "Charged $300 to Credit Card. Current balance: $-800.00\n"
     ]
    }
   ],
   "source": [
    "from abc import ABC, abstractmethod\n",
    "\n",
    "class BankAccount(ABC):\n",
    "    def __init__(self, account_number, balance):\n",
    "        self.account_number = account_number\n",
    "        self.balance = balance\n",
    "\n",
    "    @abstractmethod\n",
    "    def withdraw(self, amount):\n",
    "        \"\"\"Abstract method: Withdraw money from the account.\"\"\"\n",
    "        pass\n",
    "\n",
    "class SavingsAccount(BankAccount):\n",
    "    def withdraw(self, amount):\n",
    "        if self.balance >= amount:\n",
    "            self.balance -= amount\n",
    "            print(f\"Withdrew ${amount} from Savings Account. New balance: ${self.balance:.2f}\")\n",
    "        else:\n",
    "            print(\"Insufficient balance for withdrawal.\")\n",
    "\n",
    "class CheckingAccount(BankAccount):\n",
    "    def withdraw(self, amount):\n",
    "        if self.balance >= amount:\n",
    "            self.balance -= amount\n",
    "            print(f\"Withdrew ${amount} from Checking Account. New balance: ${self.balance:.2f}\")\n",
    "        else:\n",
    "            print(\"Insufficient balance for withdrawal.\")\n",
    "\n",
    "class CreditCardAccount(BankAccount):\n",
    "    def withdraw(self, amount):\n",
    "        # Credit cards allow negative balance (debt)\n",
    "        self.balance -= amount\n",
    "        print(f\"Charged ${amount} to Credit Card. Current balance: ${self.balance:.2f}\")\n",
    "\n",
    "# Example usage\n",
    "if __name__ == \"__main__\":\n",
    "    savings = SavingsAccount(account_number=\"SA123\", balance=1000)\n",
    "    checking = CheckingAccount(account_number=\"CH456\", balance=2000)\n",
    "    credit_card = CreditCardAccount(account_number=\"CC789\", balance=-500)\n",
    "\n",
    "    savings.withdraw(200)\n",
    "    checking.withdraw(1500)\n",
    "    credit_card.withdraw(300)\n",
    "\n",
    "    # Uncomment the line below to see an insufficient balance scenario:\n",
    "    # savings.withdraw(1200)\n"
   ]
  },
  {
   "cell_type": "code",
   "execution_count": null,
   "id": "93b8764e-ca81-4879-81bb-dd1e69659b9d",
   "metadata": {},
   "outputs": [],
   "source": []
  },
  {
   "cell_type": "markdown",
   "id": "e92fa6a8-cda9-4262-a8d0-8683801dc20c",
   "metadata": {},
   "source": [
    "15. Describe the concept of operator overloading in Python and how it relates to polymorphism. Provide examples using operators like `+` and `*`."
   ]
  },
  {
   "cell_type": "markdown",
   "id": "1eff8caf-e12d-4b62-871d-2b852e9d568e",
   "metadata": {},
   "source": [
    "Concept: It's the ability to redefine the behavior of built-in operators for custom data types (classes). This allows you to use familiar operators with your own objects in a meaningful way."
   ]
  },
  {
   "cell_type": "code",
   "execution_count": 1,
   "id": "e2280152-a045-4661-a2aa-6875f8661992",
   "metadata": {},
   "outputs": [],
   "source": [
    "class Vector:\n",
    "    def __init__(self, x, y):\n",
    "        self.x = x\n",
    "        self.y = y\n",
    "\n",
    "    def __add__(self, other):\n",
    "        return Vector(self.x + other.x, self.y + other.y)\n",
    "\n",
    "# Usage:\n",
    "v1 = Vector(2, 3)\n",
    "v2 = Vector(4, 5)\n",
    "result = v1 + v2  # Calls __add__, resulting in Vector(6, 8)\n"
   ]
  },
  {
   "cell_type": "code",
   "execution_count": 2,
   "id": "09c20ff4-c8e2-411e-a2f1-79455dbd416f",
   "metadata": {},
   "outputs": [],
   "source": [
    "class Repeater:\n",
    "    def __init__(self, text):\n",
    "        self.text = text\n",
    "\n",
    "    def __mul__(self, other):\n",
    "        return self.text * other\n",
    "\n",
    "# Usage:\n",
    "repeater = Repeater(\"Hello \")\n",
    "result = repeater * 3  # Calls __mul__, resulting in \"Hello Hello Hello \"\n"
   ]
  },
  {
   "cell_type": "code",
   "execution_count": null,
   "id": "ca019e3d-0f29-4f57-ab38-69b84d9a0dbe",
   "metadata": {},
   "outputs": [],
   "source": []
  },
  {
   "cell_type": "markdown",
   "id": "11ffb314-9d17-4e7f-aa3c-8e3764da250a",
   "metadata": {},
   "source": [
    "16. What is dynamic polymorphism, and how is it achieved in Python?"
   ]
  },
  {
   "cell_type": "markdown",
   "id": "512b6a17-667b-4c02-9197-8f35edd83818",
   "metadata": {},
   "source": [
    "Dynamic polymorphism, also known as runtime polymorphism or late binding, refers to the ability of a program to determine the method to be called at runtime based on the object's actual type, rather than the type of the reference variable.n:\n",
    "\n",
    "Duck Typing:\n",
    "\n",
    "Python doesn't enforce strict type checking at compile time.\n",
    "Instead, it follows the principle of \"duck typing\": If an object walks like a duck and quacks like a duck, it's considered a duck.\n",
    "This means that if an object has the methods you need, you can use it, regardless of its act.\n",
    "al type.\n",
    "Method Overriding:\n",
    "\n",
    "Subclasses can override methods inherited from their parent classes.\n",
    "When a method is called on an object, Python looks for the most specific implementation of the method in the object's class hierarchy.\n",
    "This means that the method called depends on the object's actual type, not the type of the reference variable."
   ]
  },
  {
   "cell_type": "code",
   "execution_count": null,
   "id": "638ae386-935d-4fa3-8188-45aeb75c1a76",
   "metadata": {},
   "outputs": [],
   "source": []
  },
  {
   "cell_type": "markdown",
   "id": "7d97ffa3",
   "metadata": {},
   "source": [
    "17. Create a Python class hierarchy for employees in a company (e.g., manager, developer, designer) and implement polymorphism through a common `calculate_salary()` method."
   ]
  },
  {
   "cell_type": "code",
   "execution_count": 11,
   "id": "34ea89f0-7124-4546-aa55-0c4bd14dedb7",
   "metadata": {},
   "outputs": [
    {
     "name": "stdout",
     "output_type": "stream",
     "text": [
      "John's total salary: $90000.00\n",
      "Alice's total salary: $8000.00\n",
      "Eva's total salary: $6000.00\n"
     ]
    }
   ],
   "source": [
    "from abc import ABC, abstractmethod\n",
    "\n",
    "class Employee(ABC):\n",
    "    def __init__(self, emp_id, name):\n",
    "        self.emp_id = emp_id\n",
    "        self.name = name\n",
    "\n",
    "    @abstractmethod\n",
    "    def calculate_salary(self):\n",
    "        \"\"\"Abstract method: Calculate the employee's salary.\"\"\"\n",
    "        pass\n",
    "\n",
    "class Manager(Employee):\n",
    "    def __init__(self, emp_id, name, base_salary, bonus):\n",
    "        super().__init__(emp_id, name)\n",
    "        self.base_salary = base_salary\n",
    "        self.bonus = bonus\n",
    "\n",
    "    def calculate_salary(self):\n",
    "        return self.base_salary + self.bonus\n",
    "\n",
    "class Developer(Employee):\n",
    "    def __init__(self, emp_id, name, hourly_rate, hours_worked):\n",
    "        super().__init__(emp_id, name)\n",
    "        self.hourly_rate = hourly_rate\n",
    "        self.hours_worked = hours_worked\n",
    "\n",
    "    def calculate_salary(self):\n",
    "        return self.hourly_rate * self.hours_worked\n",
    "\n",
    "class Designer(Employee):\n",
    "    def __init__(self, emp_id, name, monthly_salary):\n",
    "        super().__init__(emp_id, name)\n",
    "        self.monthly_salary = monthly_salary\n",
    "\n",
    "    def calculate_salary(self):\n",
    "        return self.monthly_salary\n",
    "\n",
    "# Example usage\n",
    "if __name__ == \"__main__\":\n",
    "    manager1 = Manager(emp_id=101, name=\"John\", base_salary=80000, bonus=10000)\n",
    "    developer1 = Developer(emp_id=201, name=\"Alice\", hourly_rate=50, hours_worked=160)\n",
    "    designer1 = Designer(emp_id=301, name=\"Eva\", monthly_salary=6000)\n",
    "\n",
    "    print(f\"{manager1.name}'s total salary: ${manager1.calculate_salary():.2f}\")\n",
    "    print(f\"{developer1.name}'s total salary: ${developer1.calculate_salary():.2f}\")\n",
    "    print(f\"{designer1.name}'s total salary: ${designer1.calculate_salary():.2f}\")\n"
   ]
  },
  {
   "cell_type": "code",
   "execution_count": null,
   "id": "03120fe6-0a8e-42c8-b48c-b7cc3b1788f8",
   "metadata": {},
   "outputs": [],
   "source": []
  },
  {
   "cell_type": "markdown",
   "id": "d30caf30-db42-4281-8533-80922cb5277b",
   "metadata": {},
   "source": [
    "18. Discuss the concept of function pointers and how they can be used to achieve polymorphism in Python."
   ]
  },
  {
   "cell_type": "markdown",
   "id": "b8b142f5-a089-4df0-a998-e7904837107c",
   "metadata": {},
   "source": [
    "In Python, function pointers can be used to achieve polymorphism. Polymorphism is the ability of an object to take on many forms. In programming, it means the same function name (but different signatures) being used for different types. The key difference is the data types and number of arguments used in the function."
   ]
  },
  {
   "cell_type": "code",
   "execution_count": null,
   "id": "5a8fabe2-322a-4d08-a373-fb3216ebc4be",
   "metadata": {},
   "outputs": [],
   "source": []
  },
  {
   "cell_type": "markdown",
   "id": "608cbec4-0a67-43da-b941-f50b1a2187e2",
   "metadata": {},
   "source": [
    "19. Explain the role of interfaces and abstract classes in polymorphism, drawing comparisons between them."
   ]
  },
  {
   "cell_type": "markdown",
   "id": "62b15362-bbbf-4fdf-b054-fa5cbf5dce38",
   "metadata": {},
   "source": [
    "Interfaces:\n",
    "\n",
    "Contract definition: An interface defines a set of methods and constants, essentially outlining a contract that implementing classes must adhere to. It doesn't provide any implementation details.\n",
    "Multiple inheritance: A class can implement multiple interfaces, inheriting all their methods and having to provide implementations for each. This promotes flexibility and modularity.\n",
    "Focus on capabilities: Interfaces define what an object can do, not how it does it. This allows for different implementations (concrete classes) to fulfill the same functionality while maintaining independence.\n",
    "No instantiation: You cannot directly create an instance of an interface. It exists solely as a blueprint for concrete classes.\n",
    "                                                                                                         \n",
    "Abstract Classes:\n",
    "\n",
    "Partial implementation: An abstract class can provide some method implementations and declare others as abstract (requiring implementation in subclasses).\n",
    "Inheritance hierarchy: Abstract classes serve as base classes in inheritance hierarchies, providing shared functionality and structure to their subclasses.\n",
    "Encapsulation and reuse: They encapsulate common code and behavior that can be reused by subclasses, preventing redundancy and promoting consistency.\n",
    "Limited multiple inheritance: While some languages allow it, using multiple abstract classes can become complex and lead to ambiguity."
   ]
  },
  {
   "cell_type": "code",
   "execution_count": null,
   "id": "8bca39eb-aabd-498f-8454-1c2bc33ca4c3",
   "metadata": {},
   "outputs": [],
   "source": []
  },
  {
   "cell_type": "markdown",
   "id": "e395ac37-ea7f-4c98-a4f2-31bf97e77e7a",
   "metadata": {},
   "source": [
    "20. Create a Python class for a zoo simulation, demonstrating polymorphism with different animal types (e.g., mammals, birds, reptiles) and their behavior (e.g., eating, sleeping, making sounds."
   ]
  },
  {
   "cell_type": "code",
   "execution_count": 10,
   "id": "439d87af-6eae-4032-960c-6e49732b30e2",
   "metadata": {},
   "outputs": [
    {
     "name": "stdout",
     "output_type": "stream",
     "text": [
      "Simba (a mammal) is munching on leaves or meat.\n",
      "Simba (a mammal) is curling up for a nap.\n",
      "Simba (a mammal) makes various sounds like growling or chirping.\n",
      "Tweetie (a bird) is pecking at seeds or insects.\n",
      "Tweetie (a bird) is perched on a branch, eyes closed.\n",
      "Tweetie (a bird) sings melodious tunes.\n",
      "Slither (a reptile) is swallowing prey whole or basking in the sun.\n",
      "Slither (a reptile) rests quietly, soaking up warmth.\n",
      "Slither (a reptile) hisses or croaks occasionally.\n"
     ]
    }
   ],
   "source": [
    "from abc import ABC, abstractmethod\n",
    "\n",
    "class Animal(ABC):\n",
    "    def __init__(self, name):\n",
    "        self.name = name\n",
    "\n",
    "    @abstractmethod\n",
    "    def eat(self):\n",
    "        \"\"\"Abstract method: Define how the animal eats.\"\"\"\n",
    "        pass\n",
    "\n",
    "    @abstractmethod\n",
    "    def sleep(self):\n",
    "        \"\"\"Abstract method: Define the animal's sleep behavior.\"\"\"\n",
    "        pass\n",
    "\n",
    "    @abstractmethod\n",
    "    def make_sound(self):\n",
    "        \"\"\"Abstract method: Define the animal's sound.\"\"\"\n",
    "        pass\n",
    "\n",
    "class Mammal(Animal):\n",
    "    def eat(self):\n",
    "        print(f\"{self.name} (a mammal) is munching on leaves or meat.\")\n",
    "\n",
    "    def sleep(self):\n",
    "        print(f\"{self.name} (a mammal) is curling up for a nap.\")\n",
    "\n",
    "    def make_sound(self):\n",
    "        print(f\"{self.name} (a mammal) makes various sounds like growling or chirping.\")\n",
    "\n",
    "class Bird(Animal):\n",
    "    def eat(self):\n",
    "        print(f\"{self.name} (a bird) is pecking at seeds or insects.\")\n",
    "\n",
    "    def sleep(self):\n",
    "        print(f\"{self.name} (a bird) is perched on a branch, eyes closed.\")\n",
    "\n",
    "    def make_sound(self):\n",
    "        print(f\"{self.name} (a bird) sings melodious tunes.\")\n",
    "\n",
    "class Reptile(Animal):\n",
    "    def eat(self):\n",
    "        print(f\"{self.name} (a reptile) is swallowing prey whole or basking in the sun.\")\n",
    "\n",
    "    def sleep(self):\n",
    "        print(f\"{self.name} (a reptile) rests quietly, soaking up warmth.\")\n",
    "\n",
    "    def make_sound(self):\n",
    "        print(f\"{self.name} (a reptile) hisses or croaks occasionally.\")\n",
    "\n",
    "# Example usage\n",
    "if __name__ == \"__main__\":\n",
    "    lion = Mammal(name=\"Simba\")\n",
    "    sparrow = Bird(name=\"Tweetie\")\n",
    "    snake = Reptile(name=\"Slither\")\n",
    "\n",
    "    lion.eat()\n",
    "    lion.sleep()\n",
    "    lion.make_sound()\n",
    "\n",
    "    sparrow.eat()\n",
    "    sparrow.sleep()\n",
    "    sparrow.make_sound()\n",
    "\n",
    "    snake.eat()\n",
    "    snake.sleep()\n",
    "    snake.make_sound()\n"
   ]
  },
  {
   "cell_type": "code",
   "execution_count": null,
   "id": "d05a1d0f-64a1-4761-84f6-2a5ceb9f2d48",
   "metadata": {},
   "outputs": [],
   "source": []
  },
  {
   "cell_type": "markdown",
   "id": "dd5f763a-29bf-48bb-8e90-3da069b83b35",
   "metadata": {},
   "source": [
    "## Abstraction:"
   ]
  },
  {
   "cell_type": "code",
   "execution_count": null,
   "id": "b15db786-296a-4851-b0f9-4e98b499ab31",
   "metadata": {},
   "outputs": [],
   "source": []
  },
  {
   "cell_type": "markdown",
   "id": "b17b9649-22bc-443c-bd92-42821b56d4a9",
   "metadata": {},
   "source": [
    "1. What is abstraction in Python, and how does it relate to object-oriented programming?"
   ]
  },
  {
   "cell_type": "markdown",
   "id": "66d8faa1-1206-4587-b114-5e5d7eb29451",
   "metadata": {},
   "source": [
    "Abstraction is a fundamental concept in object-oriented programming that involves hiding the implementation details of a class and only exposing the essential features to the user. In Python, abstraction can be achieved by creating abstract classes and interfaces that define the methods and properties that a class must implement . Abstract classes are classes that cannot be instantiated and are used as a blueprint for other classes to inherit from . Abstract methods are methods that are declared in an abstract class but do not have an implementation . They must be implemented by any concrete class that inherits from the abstract class . Abstraction is important because it allows programmers to create modular and well-organized code that is easier to understand, maintain, and reuse ."
   ]
  },
  {
   "cell_type": "code",
   "execution_count": null,
   "id": "3c44b158-23d7-4902-b7c9-16003f48e670",
   "metadata": {},
   "outputs": [],
   "source": []
  },
  {
   "cell_type": "markdown",
   "id": "cec5c147-17b3-4122-9bc8-90fa6eb2a323",
   "metadata": {},
   "source": [
    "2. Describe the benefits of abstraction in terms of code organization and complexity reduction ."
   ]
  },
  {
   "cell_type": "markdown",
   "id": "55740ed3-aaff-467d-8625-6c9541856288",
   "metadata": {},
   "source": [
    "\n",
    "Benefits of Abstraction in Code Organization and Complexity Reduction\n",
    "Abstraction is a fundamental principle in object-oriented programming, and it plays a crucial role in organizing and simplifying complex code. Here are some key benefits of abstraction in terms of code organization and complexity reduction:\n",
    "\n",
    "1. Improved code structure and organization:\n",
    "\n",
    "Modularity: Abstraction encourages breaking down functionality into smaller, well-defined units (classes, modules, functions). This makes code more modular and easier to understand, navigate, and maintain.\n",
    "Hierarchical organization: By using inheritance and class hierarchies, complex systems can be organized into logical categories with increasing levels of abstraction. This reduces cognitive load and makes code more manageable.\n",
    "Decoupling of concerns: Different parts of the codebase can be designed to handle specific tasks independently, reducing interdependencies and making changes less likely to cause ripple effects.\n",
    "\n",
    "2. Reduced Complexity:\n",
    "\n",
    "Focus on what matters: With abstraction, users can focus on the essential functionality of code without getting bogged down in implementation details. This simplifies understanding and reasoning about the overall system.\n",
    "Hiding complexity: Low-level, intricate details are encapsulated within abstract classes or interfaces, shielding users from unnecessary complexity. This improves code readability and reduces cognitive overhead.\n",
    "Managing large systems: Abstraction tools like class hierarchies and interfaces enable effective organization and management of large, complex systems, making them more understandable and less prone to errors."
   ]
  },
  {
   "cell_type": "code",
   "execution_count": null,
   "id": "0be349b0-ee5b-4807-819e-18d2f74066e6",
   "metadata": {},
   "outputs": [],
   "source": []
  },
  {
   "cell_type": "markdown",
   "id": "aedafea1-70f0-4502-b9ea-bfdd553c9f61",
   "metadata": {},
   "source": [
    "3. Create a Python class called `Shape` with an abstract method `calculate_area()`. Then, create child classes (e.g., `Circle`, `Rectangle`) that implement the `calculate_area()` method. Provide an example of \n",
    "using these classes."
   ]
  },
  {
   "cell_type": "code",
   "execution_count": 3,
   "id": "9b042fe0-b733-4ed5-b508-d59364051204",
   "metadata": {},
   "outputs": [],
   "source": [
    "from abc import ABC, abstractmethod\n",
    "class Shape(ABC):\n",
    "    @abstractmethod\n",
    "    def calculate_area(self):\n",
    "        pass\n",
    "\n",
    "class Circle(Shape):\n",
    "    def __init__(self,radius):\n",
    "        self.radius = radius\n",
    "    def calculate_area(self):\n",
    "        return 3.14*self.radius*self.radius\n",
    "\n",
    "class Rectangle(Shape):\n",
    "    def __init__(self,length,breadth):\n",
    "        self.length=length\n",
    "        self.breadth=breadth\n",
    "    def calculate_area(self):\n",
    "        return self.length*self.breadth"
   ]
  },
  {
   "cell_type": "code",
   "execution_count": 4,
   "id": "6ba44488-cd39-48f3-865f-e10b79468f41",
   "metadata": {},
   "outputs": [
    {
     "name": "stdout",
     "output_type": "stream",
     "text": [
      "Circle area: 78.5\n",
      "Rectangle area: 12\n"
     ]
    }
   ],
   "source": [
    "circle = Circle(5)\n",
    "rectangle = Rectangle(4, 3)\n",
    "\n",
    "print(f\"Circle area: {circle.calculate_area()}\")\n",
    "print(f\"Rectangle area: {rectangle.calculate_area()}\")"
   ]
  },
  {
   "cell_type": "code",
   "execution_count": null,
   "id": "a4a45d0e-88f9-43c5-bcff-815d941b33ea",
   "metadata": {},
   "outputs": [],
   "source": []
  },
  {
   "cell_type": "markdown",
   "id": "1bf7a260-f827-49da-8304-bdf3070da478",
   "metadata": {},
   "source": [
    "4. Explain the concept of abstract classes in Python and how they are defined using the `abc` module. Provide an example."
   ]
  },
  {
   "cell_type": "markdown",
   "id": "ccf22c5d-2d7c-4e95-9b74-18532b1d380a",
   "metadata": {},
   "source": [
    "\n",
    "Abstract classes in Python:\n",
    "\n",
    "Blueprints for related classes with shared behavior.\n",
    "\n",
    "Defined using the abc module and ABC class.\n",
    "\n",
    "Contain abstract methods (declared with @abstractmethod) that subclasses must implement.\n",
    "\n",
    "Benefits: Code organization, consistent interfaces, flexibility, polymorphism."
   ]
  },
  {
   "cell_type": "code",
   "execution_count": 5,
   "id": "750d954b-3f5f-409f-919c-3424f00595db",
   "metadata": {},
   "outputs": [],
   "source": [
    "from abc import ABC, abstractmethod\n",
    "class Shape(ABC):\n",
    "    @abstractmethod\n",
    "    def calculate_area(self):\n",
    "        pass\n",
    "\n",
    "class Circle(Shape):\n",
    "    def __init__(self,radius):\n",
    "        self.radius = radius\n",
    "    def calculate_area(self):\n",
    "        return 3.14*self.radius*self.radius\n",
    "\n",
    "class Rectangle(Shape):\n",
    "    def __init__(self,length,breadth):\n",
    "        self.length=length\n",
    "        self.breadth=breadth\n",
    "    def calculate_area(self):\n",
    "        return self.length*self.breadth"
   ]
  },
  {
   "cell_type": "code",
   "execution_count": null,
   "id": "f4bf3cfe-8f17-4d43-9475-3ab3727404f8",
   "metadata": {},
   "outputs": [],
   "source": []
  },
  {
   "cell_type": "markdown",
   "id": "679d2acf-2685-4a1a-8ac5-ed5324012fb3",
   "metadata": {},
   "source": [
    "5. How do abstract classes differ from regular classes in Python? Discuss their use cases."
   ]
  },
  {
   "cell_type": "markdown",
   "id": "ed319956-a7f8-44c5-9c66-a3b1ad02591d",
   "metadata": {},
   "source": [
    "Abstract Classes:\n",
    "\n",
    "Shared behavior: Define a common framework for a family of related classes that share certain methods and functionalities. Example: Shape class with calculate_area() for specific shapes like Circle and Rectangle.\n",
    "Interface enforcement: Ensure subclasses implement specific methods in a compatible way, guaranteeing consistent behavior through the shared interface.\n",
    "Code organization and abstraction: Separate the core functionalities from concrete implementations, promoting cleaner and more maintainable code.\n",
    "Polymorphism: Enable treating objects of different subclasses through their common abstract class, facilitating generic operations and reusable code.\n",
    "\n",
    "Regular Classes:\n",
    "\n",
    "Specific functionalities: Implement concrete details and logic for their specific purpose. Example: Circle class calculating area with its radius.\n",
    "Encapsulation: Bundle data and methods related to a specific entity, hiding internal implementation details.\n",
    "Inheritance: Provide blueprints for subclasses to inherit and specialize, promoting code reuse and code organization.\n",
    "Direct use: Can be directly instantiated and used in your program to perform specific tasks.\n",
    "\n",
    "Use an abstract class when you need to define a common interface and set of functionalities for a group of related classes. Use a regular class when you want to implement a specific piece of functionality on its own or as a base for further specialization through inheritance.\n",
    "\n",
    "Remember: Abstract classes cannot be directly used (instantiated) in your program, while regular classes can be used directly and through their subclasses."
   ]
  },
  {
   "cell_type": "code",
   "execution_count": null,
   "id": "e398d682-8118-42f4-a188-c732337cf850",
   "metadata": {},
   "outputs": [],
   "source": []
  },
  {
   "cell_type": "markdown",
   "id": "7abf6f1f-13ef-4590-948f-8049efc1f4ee",
   "metadata": {},
   "source": [
    "6. Create a Python class for a bank account and demonstrate abstraction by hiding the account balance and providing methods to deposit and withdraw funds"
   ]
  },
  {
   "cell_type": "code",
   "execution_count": 28,
   "id": "cfbeb292-68d4-4ac5-8a34-84dcd2388861",
   "metadata": {},
   "outputs": [
    {
     "name": "stdout",
     "output_type": "stream",
     "text": [
      "150\n",
      "124.5\n"
     ]
    }
   ],
   "source": [
    "from abc import ABC, abstractmethod\n",
    "\n",
    "class BankAccount(ABC):\n",
    "    def __init__(self, initial_balance=0):\n",
    "        self._balance = initial_balance \n",
    "\n",
    "    @abstractmethod\n",
    "    def deposit(self, amount):\n",
    "        pass\n",
    "\n",
    "    @abstractmethod\n",
    "    def withdraw(self, amount):\n",
    "        pass\n",
    "\n",
    "class CheckingAccount(BankAccount):\n",
    "    def __init__(self, initial_balance=0, withdrawal_fee=0.5):\n",
    "        super().__init__(initial_balance)\n",
    "        self.withdrawal_fee = withdrawal_fee\n",
    "\n",
    "    def deposit(self, amount):\n",
    "        if amount <= 0:\n",
    "            raise ValueError(\"Deposit amount must be positive\")\n",
    "        self._balance += amount\n",
    "        print(self._balance)\n",
    "\n",
    "    def withdraw(self, amount):\n",
    "        if amount <= 0:\n",
    "            raise ValueError(\"Withdrawal amount must be positive\")\n",
    "        if amount > self._balance:\n",
    "            raise ValueError(\"Insufficient funds\")\n",
    "        self._balance = self._balance - amount - self.withdrawal_fee\n",
    "        print(self._balance)\n",
    "\n",
    "# Example usage\n",
    "account = CheckingAccount(100)\n",
    "account.deposit(50)\n",
    "account.withdraw(25)"
   ]
  },
  {
   "cell_type": "code",
   "execution_count": null,
   "id": "880eee96-4dd2-439c-9b03-3a5cb9c5e457",
   "metadata": {},
   "outputs": [],
   "source": []
  },
  {
   "cell_type": "markdown",
   "id": "1455e0c5-d062-44a6-8152-537637ddc046",
   "metadata": {},
   "source": [
    "7. Discuss the concept of interface classes in Python and their role in achieving abstraction."
   ]
  },
  {
   "cell_type": "markdown",
   "id": "ad5b4e31-06cf-40f0-a89d-b24a175b5228",
   "metadata": {},
   "source": [
    "In Python, interface classes are used to define a set of methods that must be implemented by classes that implement the interface. They provide a way to achieve abstraction by defining a common interface for their subclasses .\n",
    "\n",
    "An abstract class is a blueprint for other classes and may be used to define a collection of methods that are required for all subclasses derived from the abstract class . Abstract classes are used to offer a standard interface for various implementations of a component.\n",
    "\n",
    "The difference between an abstract class and an interface in Python is that an abstract class can have both abstract and concrete methods, while an interface can only have abstract methods .\n",
    "\n",
    "Abstract classes and interfaces are used to achieve abstraction in Python. They define a common interface for their subclasses and provide a way to write code that is independent of the implementation details."
   ]
  },
  {
   "cell_type": "code",
   "execution_count": null,
   "id": "8b8b0be8-29be-4cae-b25f-ddb0b9f26f84",
   "metadata": {},
   "outputs": [],
   "source": []
  },
  {
   "cell_type": "markdown",
   "id": "1e69b461-2871-4cb4-8f16-ebf3df7bf0d5",
   "metadata": {},
   "source": [
    "8. Create a Python class hierarchy for animals and implement abstraction by defining common methods (e.g., `eat()`, `sleep()`) in an abstract base class."
   ]
  },
  {
   "cell_type": "code",
   "execution_count": 8,
   "id": "a2fc600c-c25c-4dbd-992e-c3f6e38e2039",
   "metadata": {},
   "outputs": [],
   "source": [
    "from abc import ABC, abstractmethod\n",
    "class Animal(ABC):\n",
    "    @abstractmethod\n",
    "    def eat(self, food):\n",
    "        pass\n",
    "\n",
    "    @abstractmethod\n",
    "    def sleep(self,time):\n",
    "        pass\n",
    "\n",
    "class Cat(Animal):\n",
    "    def eat(self,food):\n",
    "        self.food=food\n",
    "        print(f\"Cat eat {self.food}\")\n",
    "\n",
    "    def sleep(self,time):\n",
    "        self.time=time\n",
    "        print(f\"Cat sleep in {time}\")\n",
    "\n",
    "class Lizard(Animal):\n",
    "    def eat(self,food):\n",
    "        self.food=food\n",
    "        return f\"Lizard eat {food}\"\n",
    "\n",
    "    def sleep(self,time):\n",
    "        self.time=time\n",
    "        return f\"LIzard sleep in {time}\""
   ]
  },
  {
   "cell_type": "code",
   "execution_count": 9,
   "id": "31104ece-45c1-4bb5-a701-a818d9eb3ccb",
   "metadata": {},
   "outputs": [
    {
     "name": "stdout",
     "output_type": "stream",
     "text": [
      "Cat eat rat\n",
      "Cat sleep in night\n"
     ]
    }
   ],
   "source": [
    "cat= Cat()\n",
    "cat.eat(\"rat\")\n",
    "cat.sleep(\"night\")"
   ]
  },
  {
   "cell_type": "code",
   "execution_count": null,
   "id": "2709600e-2899-47e7-962c-50004187d199",
   "metadata": {},
   "outputs": [],
   "source": []
  },
  {
   "cell_type": "markdown",
   "id": "b9d212eb-5f5e-43c9-80dc-6ef295eb4fdd",
   "metadata": {},
   "source": [
    "9. Explain the significance of encapsulation in achieving abstraction. Provide examples."
   ]
  },
  {
   "cell_type": "markdown",
   "id": "dfddd8ae-3802-4233-8977-7cb11a855f22",
   "metadata": {},
   "source": [
    "\n",
    "Encapsulation plays a crucial role in achieving abstraction, and combining these two concepts forms the heart of good object-oriented programming. Here's a breakdown of their significance and how they work together:\n",
    "\n",
    "Abstraction:\n",
    "\n",
    "Focuses on exposing essential functionalities and hiding unnecessary details from the users.\n",
    "Simplifies complex systems by providing user-friendly interfaces.\n",
    "Improves code maintainability and reusability.\n",
    "\n",
    "Encapsulation:\n",
    "\n",
    "Bundles data and its corresponding operations into a single unit (typically a class).\n",
    "Controls access to the data through access modifiers (private, public, protected).\n",
    "Protects data from accidental or malicious modification.\n",
    "\n",
    "Significance of Encapsulation in Achieving Abstraction:\n",
    "\n",
    "Information Hiding: Encapsulation allows you to effectively hide the internal implementation details of how an object works while still providing access to its functionalities through well-defined interfaces (public methods). This ensures users only interact with the essential aspects of the object, promoting abstraction.\n",
    "Data Protection: By making data members private and exposing them only through controlled methods, encapsulation safeguards critical data from unintended modifications. This ensures the object's internal state remains consistent and adheres to its intended operations, contributing to abstraction.\n",
    "Modular Design: Encapsulation promotes modularity by creating self-contained units (classes) responsible for their own data and behavior. This allows for independent development, testing, and modification, reducing dependencies and complexity, which aligns with the principles of abstraction.\n",
    "Improved Maintainability: When changes are needed, encapsulation allows you to modify the internal workings of an object without impacting its external behavior as long as the public interface remains the same. This simplifies maintenance and updates, upholding the idea of abstraction."
   ]
  },
  {
   "cell_type": "code",
   "execution_count": null,
   "id": "585fc8e9-23b2-4b5c-8fc2-dfa18a507e26",
   "metadata": {},
   "outputs": [],
   "source": []
  },
  {
   "cell_type": "markdown",
   "id": "24c1686b-1a8e-4836-9753-4e6253ce6081",
   "metadata": {},
   "source": [
    "10. What is the purpose of abstract methods, and how do they enforce abstraction in Python classes?"
   ]
  },
  {
   "cell_type": "markdown",
   "id": "1ae3c5d5-4f53-4795-8f44-74583dec3ef5",
   "metadata": {},
   "source": [
    "Purpose of Abstract Methods:\n",
    "\n",
    "Enforcing Shared Interfaces: Abstract methods mandate that subclasses provide concrete implementations for certain behaviors, ensuring consistency and predictability across different classes that share a common conceptual framework.\n",
    "Preventing Direct Instantiation: Abstract classes containing abstract methods cannot be instantiated directly, guaranteeing that only concrete subclasses with appropriate implementations are used, promoting code robustness.\n",
    "Design Blueprints: Abstract classes serve as blueprints for defining essential methods and relationships without committing to specific implementations prematurely, fostering better code organization and design flexibility.\n",
    "\n",
    "Enforcing Abstraction in Python Classes:\n",
    "\n",
    "Using the abc Module:\n",
    "\n",
    "Import the abc module to access tools for creating abstract classes and methods.\n",
    "Inherit from abc.ABCMeta to establish an abstract class.\n",
    "Decorate abstract methods with @abc.abstractmethod.\n",
    "\n",
    "Declaring Abstract Methods:\n",
    "\n",
    "Define methods within the abstract class using the @abc.abstractmethod decorator.\n",
    "These methods have a signature (name, arguments) but no implementation.\n",
    "\n",
    "Preventing Instantiation:\n",
    "\n",
    "Attempts to create instances of abstract classes directly raise a TypeError, enforcing the requirement for concrete implementations in subclasses.\n",
    "\n",
    "Requiring Implementations in Subclasses:\n",
    "\n",
    "Subclasses must define concrete implementations for all inherited abstract methods to become instantiable.\n",
    "This ensures adherence to the shared interface and provides specific behavior."
   ]
  },
  {
   "cell_type": "code",
   "execution_count": null,
   "id": "5e219dc5-ee7b-445a-a91b-77ab077a527c",
   "metadata": {},
   "outputs": [],
   "source": []
  },
  {
   "cell_type": "markdown",
   "id": "fd63b1a2-8cf6-488c-bc1d-60a2e23dac04",
   "metadata": {},
   "source": [
    "11. Create a Python class for a vehicle system and demonstrate abstraction by defining common methods (e.g., `start()`, `stop()`) in an abstract base class."
   ]
  },
  {
   "cell_type": "code",
   "execution_count": 6,
   "id": "2aaf8823-8329-4152-9cc8-2e73e3b38a47",
   "metadata": {},
   "outputs": [],
   "source": [
    "from abc import ABC , abstractmethod\n",
    "class Vehicle(ABC):\n",
    "    @abstractmethod\n",
    "    def start(self):\n",
    "        pass\n",
    "\n",
    "    @abstractmethod\n",
    "    def stop(self):\n",
    "        pass\n",
    "\n",
    "class Bike(Vehicle):\n",
    "    def start(self):\n",
    "        print(\"Bike start with the kick\")\n",
    "\n",
    "    def stop(self):\n",
    "        print(\"Bike stop with the help of brake\")\n",
    "\n",
    "class Car(Vehicle):\n",
    "    def start(self):\n",
    "        print('Car start with self-start')\n",
    "\n",
    "    def stop(self):\n",
    "        print('Car stop with brake')"
   ]
  },
  {
   "cell_type": "code",
   "execution_count": 7,
   "id": "466751a5-3e5a-40ef-ab5b-b88fb8f6a24e",
   "metadata": {},
   "outputs": [
    {
     "name": "stdout",
     "output_type": "stream",
     "text": [
      "Bike start with the kick\n",
      "Bike stop with the help of brake\n",
      "Car start with self-start\n",
      "Car stop with brake\n"
     ]
    }
   ],
   "source": [
    "bike=Bike()\n",
    "bike.start()\n",
    "bike.stop()\n",
    "car=Car()\n",
    "car.start()\n",
    "car.stop()"
   ]
  },
  {
   "cell_type": "code",
   "execution_count": null,
   "id": "99d4e414-cc14-4113-99df-abf76238e6dc",
   "metadata": {},
   "outputs": [],
   "source": []
  },
  {
   "cell_type": "markdown",
   "id": "d8168f1e-11cb-48c0-833d-eab2dc3e7887",
   "metadata": {},
   "source": [
    "12. Describe the use of abstract properties in Python and how they can be employed in abstract classes."
   ]
  },
  {
   "cell_type": "markdown",
   "id": "3d18714c-e117-4ae4-a527-a30cc95bf8df",
   "metadata": {},
   "source": [
    "In Python, abstract properties are attributes defined in an abstract base class that must be implemented as properties (getter and/or setter methods) by subclasses .\n",
    "\n",
    "To create an abstract property, you can use the @property decorator in combination with the @abstractmethod decorator 1. Here’s an example of how to define an abstract property in an abstract class:\n",
    "\n",
    "In this example, MyAbstractClass is an abstract class that defines an abstract property called my_abstract_property. Any subclass of MyAbstractClass must implement my_abstract_property as a property (getter and/or setter methods) .\n",
    "\n",
    "Abstract properties can be useful when you want to enforce a certain behavior or attribute in all subclasses of an abstract cla .ss"
   ]
  },
  {
   "cell_type": "code",
   "execution_count": 5,
   "id": "cdd0d248-687c-4f2b-a615-400fc809ac1c",
   "metadata": {},
   "outputs": [],
   "source": [
    "from abc import ABC, abstractmethod, abstractproperty\n",
    "\n",
    "class MyAbstractClass(ABC):\n",
    "    @abstractproperty\n",
    "    def my_abstract_property(self):\n",
    "        pass\n"
   ]
  },
  {
   "cell_type": "code",
   "execution_count": null,
   "id": "af8da370-2da6-4914-876b-b98874fb25ec",
   "metadata": {},
   "outputs": [],
   "source": []
  },
  {
   "cell_type": "markdown",
   "id": "c3d1eb84-f411-4131-a0d5-c56ab38fc47d",
   "metadata": {},
   "source": [
    "13. Create a Python class hierarchy for employees in a company (e.g., manager, developer, designer) and implement abstraction by defining a common `get_salary()` method."
   ]
  },
  {
   "cell_type": "code",
   "execution_count": 12,
   "id": "2df6bc23-4753-41f5-9078-e51326636a86",
   "metadata": {},
   "outputs": [],
   "source": [
    "from abc import ABC, abstractmethod\n",
    "\n",
    "class Employee(ABC):\n",
    "\n",
    "    def __init__(self, name, id_number):\n",
    "        self.name = name\n",
    "        self.id_number = id_number\n",
    "\n",
    "    @abstractmethod\n",
    "    def get_salary(self):\n",
    "        pass\n",
    "\n",
    "class Manager(Employee):\n",
    "\n",
    "    def __init__(self, name, id_number, base_salary, bonus):\n",
    "        super().__init__(name, id_number)\n",
    "        self.base_salary = base_salary\n",
    "        self.bonus = bonus\n",
    "\n",
    "    def get_salary(self):\n",
    "        return self.base_salary + self.bonus\n",
    "    \n",
    "\n",
    "class Developer(Employee):\n",
    "\n",
    "    def __init__(self, name, id_number, hourly_rate, hours_worked):\n",
    "        super().__init__(name, id_number)\n",
    "        self.hourly_rate = hourly_rate\n",
    "        self.hours_worked = hours_worked\n",
    "\n",
    "    def get_salary(self):\n",
    "        return self.hourly_rate * self.hours_worked\n",
    "\n",
    "class Designer(Employee):\n",
    "\n",
    "    def __init__(self, name, id_number, fixed_salary, project_bonus):\n",
    "        super().__init__(name, id_number)\n",
    "        self.fixed_salary = fixed_salary\n",
    "        self.project_bonus = project_bonus\n",
    "\n",
    "    def get_salary(self):\n",
    "        return self.fixed_salary + self.project_bonus\n"
   ]
  },
  {
   "cell_type": "code",
   "execution_count": 13,
   "id": "cd2d65a9-9fa2-47f6-bd0c-f39e84ade79c",
   "metadata": {},
   "outputs": [],
   "source": [
    "man=Manager(\"Ritik\",1,25000,5000)"
   ]
  },
  {
   "cell_type": "code",
   "execution_count": 14,
   "id": "cabb897a-3223-4c53-be55-6e6fb63faba6",
   "metadata": {},
   "outputs": [
    {
     "data": {
      "text/plain": [
       "30000"
      ]
     },
     "execution_count": 14,
     "metadata": {},
     "output_type": "execute_result"
    }
   ],
   "source": [
    "man.get_salary()"
   ]
  },
  {
   "cell_type": "code",
   "execution_count": 15,
   "id": "cc731969-376c-4f2d-8e75-e1944b49aa4d",
   "metadata": {},
   "outputs": [
    {
     "data": {
      "text/plain": [
       "40000"
      ]
     },
     "execution_count": 15,
     "metadata": {},
     "output_type": "execute_result"
    }
   ],
   "source": [
    "dev=Developer(\"varsha\",2,5000,8)\n",
    "dev.get_salary()"
   ]
  },
  {
   "cell_type": "code",
   "execution_count": 16,
   "id": "ced8c94b-082c-44dd-89a4-83a5d65d254a",
   "metadata": {},
   "outputs": [
    {
     "data": {
      "text/plain": [
       "20000"
      ]
     },
     "execution_count": 16,
     "metadata": {},
     "output_type": "execute_result"
    }
   ],
   "source": [
    "des=Designer(\"Puneet\",3,15000,5000)\n",
    "des.get_salary()"
   ]
  },
  {
   "cell_type": "code",
   "execution_count": null,
   "id": "491c2e52-f05c-4e48-a815-b3bfbc382aec",
   "metadata": {},
   "outputs": [],
   "source": []
  },
  {
   "cell_type": "markdown",
   "id": "d0655267-6333-47ea-8875-2537d718da66",
   "metadata": {},
   "source": [
    "14. Discuss the differences between abstract classes and concrete classes in Python, including their instantiation ."
   ]
  },
  {
   "cell_type": "raw",
   "id": "3e41583a-3e14-4201-b5f9-86a9d8b2c669",
   "metadata": {},
   "source": [
    "Abstract Classes:\n",
    "\n",
    "Purpose: Define a blueprint for subclasses, outlining mandatory methods and properties without providing complete implementations.\n",
    "Key Traits:\n",
    "Contain at least one @abstractmethod-decorated method or getter/setter within a property.\n",
    "Cannot be directly instantiated (attempting to do so raises a TypeError).\n",
    "Enforce consistent interfaces and behavior across subclasses.\n",
    "Instantiation: Not possible directly due to abstract methods.\n",
    "Examples: Abstract shapes class defining a get_area() method; a base animal class with an abstract make_sound() method.\n",
    "\n",
    "Concrete Classes:\n",
    "\n",
    "Purpose: Provide complete implementations of all inherited methods and properties, ready to be instantiated and used.\n",
    "Key Traits:\n",
    "Contain no abstract methods (all methods have full implementations).\n",
    "Can be directly instantiated to create objects.\n",
    "Offer specific functionalities based on their design.\n",
    "Instantiation: Possible without errors, leading to usable objects.\n",
    "Examples: Rectangle class inheriting from Shape and implementing get_area(); Dog class inheriting from Animal and implementing make_sound() with \"Woof!\"."
   ]
  },
  {
   "cell_type": "code",
   "execution_count": null,
   "id": "569885ab-515f-4bf2-97a0-c5fb2981c9b0",
   "metadata": {},
   "outputs": [],
   "source": []
  },
  {
   "cell_type": "markdown",
   "id": "5fe17ab1-7b3e-4ceb-8ed9-71e497a43919",
   "metadata": {},
   "source": [
    "15. Explain the concept of abstract data types (ADTs) and their role in achieving abstraction in Python ."
   ]
  },
  {
   "cell_type": "markdown",
   "id": "93b4ca1d-0a83-4c46-933b-f5610343a8de",
   "metadata": {},
   "source": [
    "Abstract Data Types (ADTs):\n",
    "\n",
    "An ADT is a theoretical concept defining a data structure and its associated operations without specifying the underlying implementation details.\n",
    "It focuses on what the data does and how it behaves, not how it's stored or manipulated internally.\n",
    "Common examples include lists, stacks, queues, trees, and sets, each with well-defined behaviors and operations (e.g., adding elements, searching, sorting).\n",
    "\n",
    "Achieving Abstraction with ADTs in Python:\n",
    "\n",
    "Python doesn't have built-in ADTs, but we can achieve similar functionality using classes and objects.\n",
    "A class defines the blueprint for an ADT, specifying its attributes (data) and methods (operations).\n",
    "By encapsulating data and operations within a class, we hide the internal implementation details, promoting abstraction.\n",
    "Users interact with the ADT through the defined public methods, simplifying their understanding and use."
   ]
  },
  {
   "cell_type": "code",
   "execution_count": null,
   "id": "99be960a-1c14-41d0-8e55-38d769b49752",
   "metadata": {},
   "outputs": [],
   "source": []
  },
  {
   "cell_type": "markdown",
   "id": "9fc504e3-16be-4d76-aba1-770b13b61310",
   "metadata": {},
   "source": [
    "16. Create a Python class for a computer system, demonstrating abstraction by defining common methods (e.g., `power_on()`, `shutdown()`) in an abstract base class."
   ]
  },
  {
   "cell_type": "code",
   "execution_count": 23,
   "id": "7773b9d3-ecb2-4f10-9d12-fb3ed303adc4",
   "metadata": {},
   "outputs": [],
   "source": [
    "from abc import ABC, abstractmethod\n",
    "\n",
    "class ComputerSystem(ABC):\n",
    "    \"\"\"\n",
    "    Abstract base class for computer systems.\n",
    "    \"\"\"\n",
    "\n",
    "    def __init__(self):\n",
    "        self.is_powered_on = False\n",
    "\n",
    "    def power_on(self):\n",
    "        \"\"\"\n",
    "        Turns on the computer system.\n",
    "        \"\"\"\n",
    "        if self.is_powered_on:\n",
    "            print(\"The system is already powered on.\")\n",
    "        else:\n",
    "            self.is_powered_on = True\n",
    "            print(\"Powering on the system...\")\n",
    "\n",
    "    def shutdown(self):\n",
    "        \"\"\"\n",
    "        Shuts down the computer system.\n",
    "        \"\"\"\n",
    "        if not self.is_powered_on:\n",
    "            print(\"The system is already powered off.\")\n",
    "        else:\n",
    "            self.is_powered_on = False\n",
    "            print(\"Shutting down the system...\")\n",
    "\n",
    "    @abstractmethod\n",
    "    def perform_task(self):\n",
    "        \"\"\"\n",
    "        Abstract method to be implemented by subclasses, representing system-specific tasks.\n",
    "        \"\"\"\n",
    "        pass\n",
    "\n",
    "\n",
    "class DesktopComputer(ComputerSystem):\n",
    "    \"\"\"\n",
    "    Represents a desktop computer.\n",
    "    \"\"\"\n",
    "\n",
    "    def perform_task(self):\n",
    "        \"\"\"\n",
    "        Performs a task specific to a desktop computer.\n",
    "        \"\"\"\n",
    "        if self.is_powered_on:\n",
    "            print(\"Using the desktop computer for general tasks.\")\n",
    "        else:\n",
    "            print(\"The desktop computer is powered off and cannot perform tasks.\")\n",
    "\n",
    "\n",
    "class LaptopComputer(ComputerSystem):\n",
    "    \"\"\"\n",
    "    Represents a laptop computer.\n",
    "    \"\"\"\n",
    "\n",
    "    def perform_task(self):\n",
    "        \"\"\"\n",
    "        Performs a task specific to a laptop computer.\n",
    "        \"\"\"\n",
    "        if self.is_powered_on:\n",
    "            print(\"Using the laptop computer for mobile tasks.\")\n",
    "        else:\n",
    "            print(\"The laptop computer is powered off and cannot perform tasks.\")\n",
    "\n"
   ]
  },
  {
   "cell_type": "code",
   "execution_count": null,
   "id": "2d41b4f1-adb8-49af-bafc-2e94f46c0cde",
   "metadata": {},
   "outputs": [],
   "source": []
  },
  {
   "cell_type": "markdown",
   "id": "9bfe1783-7e7b-4e5f-a084-5a2a5d3cedb5",
   "metadata": {},
   "source": [
    "17. Discuss the benefits of using abstraction in large-scale software development projects."
   ]
  },
  {
   "cell_type": "markdown",
   "id": "28ec4f65-671c-477a-bcf7-b518c39e90eb",
   "metadata": {},
   "source": [
    "The benefits of abstraction in large-scale software development:\n",
    "\n",
    "Easier to manage: Breaks down complexity into smaller, understandable pieces.\n",
    "    \n",
    "More modular and maintainable: Code becomes more like building blocks, making updates and fixes simpler.\n",
    "    \n",
    "Adaptable and flexible: Changes can be made without affecting the entire system.\n",
    "\n",
    "Better communication: Team members can use shared concepts to collaborate efficiently.\n",
    "    \n",
    "Potential performance gains: Optimizations can be hidden within specific components."
   ]
  },
  {
   "cell_type": "code",
   "execution_count": null,
   "id": "fe31c785-5dfa-447d-8f28-2be10c9b10b8",
   "metadata": {},
   "outputs": [],
   "source": []
  },
  {
   "cell_type": "markdown",
   "id": "3ac456b3-29d3-4577-9ae4-4b9cc675272a",
   "metadata": {},
   "source": [
    "18. Explain how abstraction enhances code reusability and modularity in Python programs."
   ]
  },
  {
   "cell_type": "markdown",
   "id": "5aa7573a-8d3f-4bbb-9dde-382248bb721a",
   "metadata": {},
   "source": [
    "Abstraction in Python boosts reusability and modularity by:\n",
    "\n",
    "Hiding details, sharing functions: Like packing tools in boxes, abstraction bundles functions and data, hiding internals while offering clear interfaces for reuse (e.g., a Shape class offers area calculation without revealing formulas).\n",
    "\n",
    "Blueprints and inheritors: Abstract classes define common behaviors like a vehicle blueprint, and subclasses like Car or Truck inherit and adapt it (e.g., inheriting start/stop from Vehicle and adding specific actions).\n",
    "\n",
    "Modules and functions: Think of modules as toolkits organized by function—you import and use specific tools as needed, avoiding duplicate code (e.g., importing math functions).\n",
    "\n",
    "Building on existing code: Inheritance lets you create new classes (e.g., SavingsAccount) by \"inheriting\" from existing ones (BankAccount), sharing common code and adding unique features.\n",
    "\n",
    "Benefits: Less code duplication, easier maintenance, clearer understanding, adaptable systems."
   ]
  },
  {
   "cell_type": "code",
   "execution_count": null,
   "id": "3aa9b76a-66ee-4697-8815-bcfbcc7e691d",
   "metadata": {},
   "outputs": [],
   "source": []
  },
  {
   "cell_type": "markdown",
   "id": "494152a4-26ec-486a-8ca0-fe6afed7252b",
   "metadata": {},
   "source": [
    "19. Create a Python class for a library system, implementing abstraction by defining common methods (e.g., `add_book()`, `borrow_book()`) in an abstract base class."
   ]
  },
  {
   "cell_type": "code",
   "execution_count": 24,
   "id": "8f8b7fd2-edd6-42aa-bf3f-e90c051e54ef",
   "metadata": {},
   "outputs": [
    {
     "name": "stdout",
     "output_type": "stream",
     "text": [
      "Borrowing 'The Lord of the Rings' by J.R.R. Tolkien.\n",
      "Borrowing 'The Shawshank Redemption'.\n",
      "Returning 'The Lord of the Rings' by J.R.R. Tolkien.\n",
      "Returning 'The Shawshank Redemption'.\n"
     ]
    }
   ],
   "source": [
    "from abc import ABC, abstractmethod\n",
    "\n",
    "class LibraryItem(ABC):\n",
    "    \"\"\"\n",
    "    Abstract base class for library items (books, DVDs, etc.).\n",
    "    \"\"\"\n",
    "\n",
    "    def __init__(self, title, author=None):\n",
    "        self.title = title\n",
    "        self.author = author\n",
    "        self.is_available = True\n",
    "\n",
    "    def __str__(self):\n",
    "        return f\"{self.title} by {self.author if self.author else 'Unknown'}\"\n",
    "\n",
    "    @abstractmethod\n",
    "    def borrow(self):\n",
    "        \"\"\"\n",
    "        Abstract method to handle borrowing the library item.\n",
    "        \"\"\"\n",
    "        pass\n",
    "\n",
    "    @abstractmethod\n",
    "    def return_item(self):\n",
    "        \"\"\"\n",
    "        Abstract method to handle returning the library item.\n",
    "        \"\"\"\n",
    "        pass\n",
    "\n",
    "\n",
    "class Book(LibraryItem):\n",
    "    \"\"\"\n",
    "    Represents a book in the library.\n",
    "    \"\"\"\n",
    "\n",
    "    def borrow(self):\n",
    "        if self.is_available:\n",
    "            self.is_available = False\n",
    "            print(f\"Borrowing '{self.title}' by {self.author}.\")\n",
    "        else:\n",
    "            print(f\"{self.title} is currently unavailable.\")\n",
    "\n",
    "    def return_item(self):\n",
    "        if not self.is_available:\n",
    "            self.is_available = True\n",
    "            print(f\"Returning '{self.title}' by {self.author}.\")\n",
    "        else:\n",
    "            print(f\"{self.title} is already available.\")\n",
    "\n",
    "\n",
    "class Dvd(LibraryItem):\n",
    "    \"\"\"\n",
    "    Represents a DVD in the library.\n",
    "    \"\"\"\n",
    "\n",
    "    def borrow(self):\n",
    "        if self.is_available:\n",
    "            self.is_available = False\n",
    "            print(f\"Borrowing '{self.title}'.\")\n",
    "        else:\n",
    "            print(f\"{self.title} is currently unavailable.\")\n",
    "\n",
    "    def return_item(self):\n",
    "        if not self.is_available:\n",
    "            self.is_available = True\n",
    "            print(f\"Returning '{self.title}'.\")\n",
    "        else:\n",
    "            print(f\"{self.title} is already available.\")\n",
    "\n",
    "\n",
    "# Example usage\n",
    "book1 = Book(\"The Lord of the Rings\", \"J.R.R. Tolkien\")\n",
    "dvd1 = Dvd(\"The Shawshank Redemption\")\n",
    "\n",
    "book1.borrow()  # Output: Borrowing 'The Lord of the Rings' by J.R.R. Tolkien.\n",
    "dvd1.borrow()  # Output: Borrowing 'The Shawshank Redemption'.\n",
    "\n",
    "book1.return_item()  # Output: Returning 'The Lord of the Rings' by J.R.R. Tolkien.\n",
    "dvd1.return_item()  # Output: Returning 'The Shawshank Redemption'.\n"
   ]
  },
  {
   "cell_type": "code",
   "execution_count": null,
   "id": "7d322d31-4bd5-45c6-a8de-67b286766bae",
   "metadata": {},
   "outputs": [],
   "source": []
  },
  {
   "cell_type": "markdown",
   "id": "b81d688d-7b37-4b40-b7ee-590ff6203f62",
   "metadata": {},
   "source": [
    "20. Describe the concept of method abstraction in Python and how it relates to polymorphism."
   ]
  },
  {
   "cell_type": "markdown",
   "id": "9a36da26-eaf2-4356-8209-4ef5dad0a735",
   "metadata": {},
   "source": [
    "Method abstraction in Python defines methods without implementation (like a recipe without steps), using @abstractmethod. This sets the stage for polymorphism, where different objects with the same method name (like \"cook\") can provide different behaviors (like baking or grilling) based on their type.\n",
    "\n",
    "Think of it like shapes: an abstract \"Shape\" has an abstract \"area()\" method. A \"Square\" and \"Circle\" inherit it, each with their own way to calculate the area. When you call \"area()\" on different shapes, you get different results based on their unique implementations.\n",
    "\n",
    "Benefits:\n",
    "\n",
    "Flexible code that adapts to different object types.\n",
    "\n",
    "Reusable code thanks to shared interfaces.\n",
    "\n",
    "Easier maintenance and clearer design."
   ]
  },
  {
   "cell_type": "code",
   "execution_count": null,
   "id": "34450ef1-1aa3-4d34-855f-fa77184115e2",
   "metadata": {},
   "outputs": [],
   "source": []
  },
  {
   "cell_type": "markdown",
   "id": "1f2cb566-3ba5-4ff8-95bf-2f63892514b2",
   "metadata": {},
   "source": [
    "## Composition:"
   ]
  },
  {
   "cell_type": "code",
   "execution_count": null,
   "id": "dc8a60fb-f31b-43b4-81d1-3052e504ad68",
   "metadata": {},
   "outputs": [],
   "source": []
  },
  {
   "cell_type": "markdown",
   "id": "f11962fc-6b8a-4e35-9cf1-eb9b110bf12a",
   "metadata": {},
   "source": [
    "1. Explain the concept of composition in Python and how it is used to build complex objects from simpler ones."
   ]
  },
  {
   "cell_type": "markdown",
   "id": "c2bdd9d2-14c2-4673-9483-4965e7cdd4d2",
   "metadata": {},
   "source": [
    "In Python, composition refers to a technique in object-oriented programming (OOP) where you create complex objects by combining simpler objects as parts. Unlike inheritance, which establishes an \"is-a\" relationship, composition creates a \"has-a\" relationship."
   ]
  },
  {
   "cell_type": "code",
   "execution_count": null,
   "id": "6ff3b1fb-4321-4189-9df6-05887a85c676",
   "metadata": {},
   "outputs": [],
   "source": []
  },
  {
   "cell_type": "markdown",
   "id": "e4cbdc2f-8aff-4053-b6d0-e4a4b3ad9603",
   "metadata": {},
   "source": [
    "2. Describe the difference between composition and inheritance in object-oriented programming."
   ]
  },
  {
   "cell_type": "markdown",
   "id": "56c17dfb-dd8d-474b-8a0e-e605de7d4e37",
   "metadata": {},
   "source": [
    "Composition:\n",
    "\n",
    "\"Has-a\" relationship: complex object owns simpler objects as parts.\n",
    "\n",
    "Flexible, modular, independent components.\n",
    "\n",
    "Use when relationships and flexibility matter.\n",
    "\n",
    "Inheritance:\n",
    "\n",
    "\"Is-a\" relationship: subclass inherits from a base class.\n",
    "\n",
    "Code reuse, but less flexible and tightly coupled.\n",
    "\n",
    "Use when specialization and code reuse are key."
   ]
  },
  {
   "cell_type": "code",
   "execution_count": null,
   "id": "6ef56758-922c-4df2-b759-8a9b4a2a4d2b",
   "metadata": {},
   "outputs": [],
   "source": []
  },
  {
   "cell_type": "markdown",
   "id": "39080d93-52eb-496b-8c0a-9b2cf9b06eb9",
   "metadata": {},
   "source": [
    "3. Create a Python class called `Author` with attributes for name and birthdate. Then, create a `Book` class that contains an instance of `Author` as a composition. Provide an example of creating a `Book` object."
   ]
  },
  {
   "cell_type": "code",
   "execution_count": 5,
   "id": "3bd8e52a-cad8-4554-a3f7-967f45e763a3",
   "metadata": {},
   "outputs": [
    {
     "name": "stdout",
     "output_type": "stream",
     "text": [
      "Book Title: To Kill a Mockingbird\n",
      "Author Name: Harper Lee\n",
      "Author Birthdate: 1926-04-28\n"
     ]
    }
   ],
   "source": [
    "class Author:\n",
    "    def __init__(self, name, birthdate):\n",
    "        self.name = name\n",
    "        self.birthdate = birthdate\n",
    "\n",
    "class Book:\n",
    "    def __init__(self, title, author, publication_date):\n",
    "        self.title = title\n",
    "        self.author = author  # Composition: Book has an Author\n",
    "        self.publication_date = publication_date\n",
    "\n",
    "# Example of creating a Book object:\n",
    "author = Author(\"Harper Lee\", \"1926-04-28\")\n",
    "book = Book(\"To Kill a Mockingbird\", author, \"1960-07-11\")\n",
    "\n",
    "# Accessing information:\n",
    "print(\"Book Title:\", book.title)\n",
    "print(\"Author Name:\", book.author.name)  # Accessing Author's name\n",
    "print(\"Author Birthdate:\", book.author.birthdate)\n"
   ]
  },
  {
   "cell_type": "code",
   "execution_count": null,
   "id": "53516283-2b34-40ff-bd8e-a22919fddef6",
   "metadata": {},
   "outputs": [],
   "source": []
  },
  {
   "cell_type": "markdown",
   "id": "2cbf4e05-95c5-46ba-adba-f4325877808a",
   "metadata": {},
   "source": [
    "4. Discuss the benefits of using composition over inheritance in Python, especially in terms of code flexibility and reusability."
   ]
  },
  {
   "cell_type": "raw",
   "id": "d28096bc-2906-4711-974c-eebdbf0c633b",
   "metadata": {},
   "source": [
    "Flexibility:\n",
    "\n",
    "Mix and match: Compose objects by injecting different dependencies as needed, leading to more versatile designs.\n",
    "Adaptable behavior: Change functionality by swapping composed objects, unlike fixed relationships in inheritance.\n",
    "Multiple parents: No single inheritance limitation allows objects to draw from various functionalities.\n",
    "\n",
    "Reusability:\n",
    "\n",
    "Clearer relationships: Compositions express \"has-a\" relationships, promoting better code understanding and reuse.\n",
    "Independent modules: Composed objects can be reused in different contexts without relying on a specific hierarchy.\n",
    "Testing ease: Compositions isolate functionalities, making unit testing simpler and independent."
   ]
  },
  {
   "cell_type": "code",
   "execution_count": null,
   "id": "9c461195-fc90-4cd5-a123-910ea7a218c1",
   "metadata": {},
   "outputs": [],
   "source": []
  },
  {
   "cell_type": "markdown",
   "id": "ff7647e4-6b14-4eff-a42e-4bc2f8006dcf",
   "metadata": {},
   "source": [
    "5. How can you implement composition in Python classes? Provide examples of using composition to create complex objects."
   ]
  },
  {
   "cell_type": "code",
   "execution_count": 1,
   "id": "571b5296-fda7-4c0c-8684-d6e7f8cddc1c",
   "metadata": {},
   "outputs": [],
   "source": [
    "class Pwskills:\n",
    "    def student(self):\n",
    "        return \"student details\"\n",
    "\n",
    "class Datascience:\n",
    "    def __init__(self):\n",
    "        self.student = Pwskills()"
   ]
  },
  {
   "cell_type": "code",
   "execution_count": 2,
   "id": "15e0929f-8a99-44ad-8f79-f8348f1c2fbc",
   "metadata": {},
   "outputs": [
    {
     "data": {
      "text/plain": [
       "'student details'"
      ]
     },
     "execution_count": 2,
     "metadata": {},
     "output_type": "execute_result"
    }
   ],
   "source": [
    "ds=Datascience()\n",
    "ds.student.student()"
   ]
  },
  {
   "cell_type": "code",
   "execution_count": null,
   "id": "75e2ba84-dfb7-4c41-b988-afdca005b124",
   "metadata": {},
   "outputs": [],
   "source": []
  },
  {
   "cell_type": "markdown",
   "id": "762d40fe-ac05-42e2-916a-b8642e250630",
   "metadata": {},
   "source": [
    "6. Create a Python class hierarchy for a music player system, using composition to represent playlists and songs."
   ]
  },
  {
   "cell_type": "code",
   "execution_count": null,
   "id": "8c21e6cc-0de8-4d95-9a2b-408950fe841d",
   "metadata": {},
   "outputs": [],
   "source": [
    "class Song:\n",
    "    def __init__(self, title, artist, album, duration, genre):\n",
    "        self.title = title\n",
    "        self.artist = artist\n",
    "        self.album = album\n",
    "        self.duration = duration\n",
    "        self.genre = genre\n",
    "\n",
    "class Playlist:\n",
    "    def __init__(self, name):\n",
    "        self.name = name\n",
    "        self.songs = []\n",
    "\n",
    "    def add_song(self, song):\n",
    "        self.songs.append(song)\n",
    "\n",
    "    def remove_song(self, song):\n",
    "        self.songs.remove(song)\n",
    "\n",
    "    def play(self):\n",
    "        for song in self.songs:\n",
    "            song.play()\n",
    "\n",
    "class MusicPlayer:\n",
    "    def __init__(self):\n",
    "        self.playlists = {}\n",
    "        self.current_playlist = None\n",
    "\n",
    "    def create_playlist(self, name):\n",
    "        if name not in self.playlists:\n",
    "            self.playlists[name] = Playlist(name)\n",
    "\n",
    "    def add_song_to_playlist(self, playlist_name, song):\n",
    "        if playlist_name in self.playlists:\n",
    "            self.playlists[playlist_name].add_song(song)\n",
    "\n",
    "    def remove_song_from_playlist(self, playlist_name, song):\n",
    "        if playlist_name in self.playlists:\n",
    "            self.playlists[playlist_name].remove_song(song)\n",
    "\n",
    "    def play_playlist(self, playlist_name):\n",
    "        if playlist_name in self.playlists:\n",
    "            self.playlists[playlist_name].play()\n",
    "            self.current_playlist = playlist_name\n",
    "\n",
    "    def shuffle_playlist(self):\n",
    "        if self.current_playlist:\n",
    "            random.shuffle(self.playlists[self.current_playlist].songs)\n",
    "\n",
    "    def repeat_playlist(self):\n",
    "        if self.current_playlist:\n",
    "            self.play_playlist(self.current_playlist)\n",
    "\n",
    "    def search_songs(self, query):\n",
    "        matches = []\n",
    "        for playlist in self.playlists.values():\n",
    "            for song in playlist.songs:\n",
    "                if query.lower() in song.title.lower() or query.lower() in song.artist.lower():\n",
    "                    matches.append(song)\n",
    "        if matches:\n",
    "            for match in matches:\n",
    "                print(f\"- {match}\")\n"
   ]
  },
  {
   "cell_type": "markdown",
   "id": "7aae21b7",
   "metadata": {},
   "source": [
    "7. Explain the concept of \"has-a\" relationships in composition and how it helps design software systems."
   ]
  },
  {
   "cell_type": "markdown",
   "id": "68af343a",
   "metadata": {},
   "source": [
    "\"Has-a\" relationships in composition mean one object (whole) owns and contains another object (part). This helps design software by:\n",
    "\n",
    "Breaking down complexity: Smaller, more manageable objects.\n",
    "Clearer relationships: Shows ownership and lifecycle of objects.\n",
    "Flexibility: Objects can be dynamically composed at runtime.\n",
    "Easier testing: Smaller objects are easier to isolate and test.\n",
    "\n",
    "Think of it like building blocks - you can create complex structures by composing smaller, well-defined pieces. It's a key concept for modular, reusable, and maintainable software systems."
   ]
  },
  {
   "cell_type": "code",
   "execution_count": null,
   "id": "d9bc828f-3044-4a7c-bdf6-4525c4e968f9",
   "metadata": {},
   "outputs": [],
   "source": []
  },
  {
   "cell_type": "markdown",
   "id": "3f0dbcdd",
   "metadata": {},
   "source": [
    "8. Create a Python class for a computer system, using composition to represent components like CPU, RAM, and storage devices."
   ]
  },
  {
   "cell_type": "code",
   "execution_count": 26,
   "id": "8918e7e9-c240-4737-ac21-03e956f3568d",
   "metadata": {},
   "outputs": [
    {
     "name": "stdout",
     "output_type": "stream",
     "text": [
      "Name: My Gaming PC\n",
      "CPU: Ryzen 7 5800X, 8 cores, 3.8 GHz\n",
      "RAM: HyperX Fury RGB, 16 GB\n",
      "Storage: Seagate Barracuda, Samsung 970 EVO Plus\n",
      "\n"
     ]
    }
   ],
   "source": [
    "class Component:\n",
    "    \"\"\"\n",
    "    Represents a base component of a computer system.\n",
    "    \"\"\"\n",
    "\n",
    "    def __init__(self, name):\n",
    "        self.name = name\n",
    "\n",
    "    def __str__(self):\n",
    "        return self.name\n",
    "\n",
    "\n",
    "class CPU(Component):\n",
    "    \"\"\"\n",
    "    Represents a central processing unit (CPU).\n",
    "    \"\"\"\n",
    "\n",
    "    def __init__(self, name, cores, clock_speed):\n",
    "        super().__init__(name)\n",
    "        self.cores = cores\n",
    "        self.clock_speed = clock_speed\n",
    "\n",
    "\n",
    "class RAM(Component):\n",
    "    \"\"\"\n",
    "    Represents random access memory (RAM).\n",
    "    \"\"\"\n",
    "\n",
    "    def __init__(self, name, capacity):\n",
    "        super().__init__(name)\n",
    "        self.capacity = capacity\n",
    "\n",
    "\n",
    "class StorageDevice(Component):\n",
    "    \"\"\"\n",
    "    Represents a base class for storage devices (HDD, SSD).\n",
    "    \"\"\"\n",
    "\n",
    "    def __init__(self, name, capacity):\n",
    "        super().__init__(name)\n",
    "        self.capacity = capacity\n",
    "\n",
    "\n",
    "class HDD(StorageDevice):\n",
    "    \"\"\"\n",
    "    Represents a hard disk drive (HDD).\n",
    "    \"\"\"\n",
    "\n",
    "    pass\n",
    "\n",
    "\n",
    "class SSD(StorageDevice):\n",
    "    \"\"\"\n",
    "    Represents a solid-state drive (SSD).\n",
    "    \"\"\"\n",
    "\n",
    "    pass\n",
    "\n",
    "\n",
    "class ComputerSystem:\n",
    "    \"\"\"\n",
    "    Represents a computer system with various components.\n",
    "    \"\"\"\n",
    "\n",
    "    def __init__(self, name):\n",
    "        self.name = name\n",
    "        self.cpu = None\n",
    "        self.ram = None\n",
    "        self.storage = []\n",
    "\n",
    "    def add_cpu(self, cpu):\n",
    "        \"\"\"\n",
    "        Adds a CPU to the computer system.\n",
    "        \"\"\"\n",
    "        self.cpu = cpu\n",
    "\n",
    "    def add_ram(self, ram):\n",
    "        \"\"\"\n",
    "        Adds RAM to the computer system.\n",
    "        \"\"\"\n",
    "        self.ram = ram\n",
    "\n",
    "    def add_storage(self, storage):\n",
    "        \"\"\"\n",
    "        Adds a storage device to the computer system.\n",
    "        \"\"\"\n",
    "        self.storage.append(storage)\n",
    "\n",
    "    def get_specs(self):\n",
    "        \"\"\"\n",
    "        Returns a summary of the computer system's specifications.\n",
    "        \"\"\"\n",
    "        specs = f\"Name: {self.name}\\n\"\n",
    "        if self.cpu:\n",
    "            specs += f\"CPU: {self.cpu.name}, {self.cpu.cores} cores, {self.cpu.clock_speed} GHz\\n\"\n",
    "        if self.ram:\n",
    "            specs += f\"RAM: {self.ram.name}, {self.ram.capacity} GB\\n\"\n",
    "        if self.storage:\n",
    "            storage_info = \", \".join([str(device) for device in self.storage])\n",
    "            specs += f\"Storage: {storage_info}\\n\"\n",
    "        return specs\n",
    "\n",
    "\n",
    "# Example usage\n",
    "cpu = CPU(\"Ryzen 7 5800X\", 8, 3.8)\n",
    "ram = RAM(\"HyperX Fury RGB\", 16)\n",
    "hdd = HDD(\"Seagate Barracuda\", 2)\n",
    "ssd = SSD(\"Samsung 970 EVO Plus\", 1)\n",
    "\n",
    "system = ComputerSystem(\"My Gaming PC\")\n",
    "system.add_cpu(cpu)\n",
    "system.add_ram(ram)\n",
    "system.add_storage(hdd)\n",
    "system.add_storage(ssd)\n",
    "\n",
    "print(system.get_specs())"
   ]
  },
  {
   "cell_type": "code",
   "execution_count": null,
   "id": "60fcb220-5e2f-424b-92f4-fc8396067c96",
   "metadata": {},
   "outputs": [],
   "source": []
  },
  {
   "cell_type": "markdown",
   "id": "4dac2878",
   "metadata": {},
   "source": [
    "9. Describe the concept of \"delegation\" in composition and how it simplifies the design of complex systems."
   ]
  },
  {
   "cell_type": "markdown",
   "id": "e20c5a25",
   "metadata": {},
   "source": [
    "Delegation, within the context of composition, refers to the practice of assigning specific tasks or behaviors to specialized objects within a composed system. By delegating responsibilities, the overall design becomes:\n",
    "\n",
    "1. Modular and maintainable: Each object focuses on a well-defined purpose, making code easier to understand and modify. Changes in one object have less impact on others.\n",
    "\n",
    "2. Reusable: Objects with delegated functionalities can be reused in different contexts, promoting code efficiency and flexibility.\n",
    "\n",
    "3. Clearer responsibilities: Delegation clarifies who does what, reducing code complexity and potential conflicts."
   ]
  },
  {
   "cell_type": "code",
   "execution_count": null,
   "id": "22a4e89b-ab1f-4ab3-bc39-e364bc1ed1de",
   "metadata": {},
   "outputs": [],
   "source": []
  },
  {
   "cell_type": "markdown",
   "id": "318177d4",
   "metadata": {},
   "source": [
    "10. Create a Python class for a car, using composition to represent components like the engine, wheels, and transmission."
   ]
  },
  {
   "cell_type": "code",
   "execution_count": 4,
   "id": "b3450fa2-926c-4203-9ee3-976dc2e46f38",
   "metadata": {},
   "outputs": [
    {
     "name": "stdout",
     "output_type": "stream",
     "text": [
      "Engine started.\n",
      "Shifted up to a higher gear.\n",
      "Wheels rotating (size: 18 inches, material: alloy).\n",
      "Car is ready to drive.\n"
     ]
    }
   ],
   "source": [
    "class Engine:\n",
    "    def start(self):\n",
    "        print(\"Engine started.\")\n",
    "\n",
    "    def stop(self):\n",
    "        print(\"Engine stopped.\")\n",
    "\n",
    "    def accelerate(self):\n",
    "        print(\"Car accelerating.\")\n",
    "\n",
    "class Wheels:\n",
    "    def __init__(self, size, material):\n",
    "        self.size = size\n",
    "        self.material = material\n",
    "\n",
    "    def rotate(self):\n",
    "        print(f\"Wheels rotating (size: {self.size}, material: {self.material}).\")\n",
    "\n",
    "class Transmission:\n",
    "    def shift_up(self):\n",
    "        print(\"Shifted up to a higher gear.\")\n",
    "\n",
    "    def shift_down(self):\n",
    "        print(\"Shifted down to a lower gear.\")\n",
    "\n",
    "    def neutral(self):\n",
    "        print(\"Transmission in neutral.\")\n",
    "\n",
    "class Car:\n",
    "    def __init__(self):\n",
    "        # Composition: Car has an Engine, Wheels, and Transmission\n",
    "        self.engine = Engine()\n",
    "        self.wheels = Wheels(size=\"18 inches\", material=\"alloy\")\n",
    "        self.transmission = Transmission()\n",
    "\n",
    "    def drive(self):\n",
    "        self.engine.start()\n",
    "        self.transmission.shift_up()\n",
    "        self.wheels.rotate()\n",
    "        print(\"Car is ready to drive.\")\n",
    "\n",
    "# Example usage\n",
    "my_car = Car()\n",
    "my_car.drive()\n"
   ]
  },
  {
   "cell_type": "code",
   "execution_count": null,
   "id": "6981d7c3-1934-463f-b048-09a07c96532b",
   "metadata": {},
   "outputs": [],
   "source": []
  },
  {
   "cell_type": "markdown",
   "id": "02f5dcb2",
   "metadata": {},
   "source": [
    "11. How can you encapsulate and hide the details of composed objects in Python classes to maintain abstraction?"
   ]
  },
  {
   "cell_type": "markdown",
   "id": "7e456665",
   "metadata": {},
   "source": [
    "1. Class design:\n",
    "\n",
    "Identify private data: Determine which data within the composed objects needs to be hidden from external access. These can be internal variables or methods used for calculations or specific functionalities.\n",
    "Define class attributes and methods: Public attributes and methods will represent the interface for interacting with the class. These shouldn't directly access the private data of composed objects.\n",
    "\n",
    "2. Data hiding techniques:\n",
    "\n",
    "Private attributes: Use the __ prefix before attribute names (e.g., __internal_data) to signal them as private. While technically accessible outside the class, this convention discourages direct access.\n",
    "Property methods: Create getter (get_data()) and setter (set_data(value)) methods to control access and potentially validate changes before modifying private data. This allows you to add logic and maintain data integrity.\n",
    "Encapsulation within composed objects: If the composed objects themselves have internal state, apply these techniques within their classes as well."
   ]
  },
  {
   "cell_type": "code",
   "execution_count": 2,
   "id": "666c3558-b16e-4c1c-8874-10167dd99eac",
   "metadata": {},
   "outputs": [
    {
     "name": "stdout",
     "output_type": "stream",
     "text": [
      "[<__main__.Product object at 0x0000018285979590>, <__main__.Product object at 0x0000018285979F50>]\n",
      "50\n"
     ]
    }
   ],
   "source": [
    "class Product:\n",
    "    def __init__(self, name, price):\n",
    "        self._name = name\n",
    "        self._price = price \n",
    "\n",
    "    def get_name(self):\n",
    "        return self._name\n",
    "\n",
    "    def get_price(self):\n",
    "        return self._price\n",
    "\n",
    "    def set_price(self, new_price):\n",
    "        self._price = new_price\n",
    "\n",
    "class Order:\n",
    "    def __init__(self, customer, products):\n",
    "        self.customer = customer\n",
    "        self._products = products \n",
    "\n",
    "    def get_products(self):\n",
    "        return self._products[:]\n",
    "\n",
    "    def get_total_price(self):\n",
    "        total = 0\n",
    "        for product in self._products:\n",
    "            total += product.get_price()\n",
    "        return total\n",
    "\n",
    "\n",
    "product1 = Product(\"Shirt\", 20)\n",
    "product2 = Product(\"Jeans\", 30)\n",
    "order1 = Order(\"John Doe\", [product1, product2])\n",
    "\n",
    "print(order1.get_products())\n",
    "print(order1.get_total_price())"
   ]
  },
  {
   "cell_type": "code",
   "execution_count": null,
   "id": "efe59171-75e8-4cb8-91a2-29920612a234",
   "metadata": {},
   "outputs": [],
   "source": []
  },
  {
   "cell_type": "markdown",
   "id": "ab6f7fef",
   "metadata": {},
   "source": [
    "12. Create a Python class for a university course, using composition to represent students, instructors, and course materials."
   ]
  },
  {
   "cell_type": "code",
   "execution_count": 3,
   "id": "2e0d2c7b-87d8-4008-acea-11bb2b45f573",
   "metadata": {},
   "outputs": [
    {
     "name": "stdout",
     "output_type": "stream",
     "text": [
      "Course: Introduction to Programming (CS101)\n",
      "Instructor: Instructor: Dr. Smith (Computer Science)\n",
      "\n",
      "Students:\n",
      "- Student: Alice Johnson (12345)\n",
      "\n",
      "Materials:\n",
      "- Course Material: Lecture Slides (PDF)\n",
      "- Course Material: Practice Problems (Word document)\n",
      "\n"
     ]
    }
   ],
   "source": [
    "class Person:\n",
    "    def __init__(self, name, email):\n",
    "        self.name = name\n",
    "        self.email = email\n",
    "\n",
    "\n",
    "class Student(Person):\n",
    "    def __init__(self, name, email, student_id):\n",
    "        super().__init__(name, email)\n",
    "        self.student_id = student_id\n",
    "\n",
    "    def __str__(self):\n",
    "        return f\"Student: {self.name} ({self.student_id})\"\n",
    "\n",
    "\n",
    "class Instructor(Person):\n",
    "    def __init__(self, name, email, department):\n",
    "        super().__init__(name, email)\n",
    "        self.department = department\n",
    "\n",
    "    def __str__(self):\n",
    "        return f\"Instructor: {self.name} ({self.department})\"\n",
    "\n",
    "\n",
    "class CourseMaterial:\n",
    "    def __init__(self, name, format):\n",
    "        self.name = name\n",
    "        self.format = format\n",
    "\n",
    "    def __str__(self):\n",
    "        return f\"Course Material: {self.name} ({self.format})\"\n",
    "\n",
    "\n",
    "class UniversityCourse:\n",
    "    def __init__(self, name, course_code, instructor, students, materials):\n",
    "        self.name = name\n",
    "        self.course_code = course_code\n",
    "        self.instructor = instructor\n",
    "        self.students = students\n",
    "        self.materials = materials\n",
    "\n",
    "    def add_student(self, student):\n",
    "        self.students.append(student)\n",
    "\n",
    "    def remove_student(self, student_id):\n",
    "        for student in self.students:\n",
    "            if student.student_id == student_id:\n",
    "                self.students.remove(student)\n",
    "                return\n",
    "\n",
    "        print(f\"Student with ID {student_id} not found.\")\n",
    "\n",
    "    def __str__(self):\n",
    "        info = f\"Course: {self.name} ({self.course_code})\\n\"\n",
    "        info += f\"Instructor: {self.instructor}\\n\"\n",
    "        info += \"\\nStudents:\\n\"\n",
    "        for student in self.students:\n",
    "            info += f\"- {student}\\n\"\n",
    "        info += \"\\nMaterials:\\n\"\n",
    "        for material in self.materials:\n",
    "            info += f\"- {material}\\n\"\n",
    "        return info\n",
    "\n",
    "\n",
    "# Example usage\n",
    "instructor = Instructor(\"Dr. Smith\", \"smith@uni.edu\", \"Computer Science\")\n",
    "student1 = Student(\"Alice Johnson\", \"alice@uni.edu\", 12345)\n",
    "student2 = Student(\"Bob Smith\", \"bob@uni.edu\", 54321)\n",
    "material1 = CourseMaterial(\"Lecture Slides\", \"PDF\")\n",
    "material2 = CourseMaterial(\"Practice Problems\", \"Word document\")\n",
    "\n",
    "course = UniversityCourse(\n",
    "    \"Introduction to Programming\", \"CS101\", instructor, [student1], [material1, material2]\n",
    ")\n",
    "\n",
    "course.add_student(student2)\n",
    "course.remove_student(54321)\n",
    "\n",
    "print(course)\n"
   ]
  },
  {
   "cell_type": "code",
   "execution_count": null,
   "id": "498c173d-1602-4e0f-b0a0-6e438631e9a3",
   "metadata": {},
   "outputs": [],
   "source": []
  },
  {
   "cell_type": "markdown",
   "id": "553d9c48",
   "metadata": {},
   "source": [
    "13. Discuss the challenges and drawbacks of composition, such as increased complexity and potential for tight coupling between objects"
   ]
  },
  {
   "cell_type": "markdown",
   "id": "7d71e648",
   "metadata": {},
   "source": [
    "Increased Complexity:\n",
    "\n",
    "More classes and objects: Composing complex systems with numerous functionalities inevitably leads to creating more classes and objects. This can increase the overall complexity of the codebase, making it harder to understand and maintain.\n",
    "Understanding relationships: Tracing interactions and data flow between composed objects can be challenging, especially in intricate systems. Developers need to understand the dependencies and connections between various objects to avoid unintended side effects.\n",
    "\n",
    "Tight Coupling:\n",
    "\n",
    "Changes impacting multiple objects: Modifying a composed object's internal implementation can have unintended consequences on other objects using it. This tight coupling makes code less flexible and increases the risk of regressions during modifications.\n",
    "\n",
    "Testing complexity: Testing composed objects can be more complex than isolated units. Mocking or stubbing out dependencies might be necessary, adding another layer of complexity to the testing process.\n",
    "Other Potential Drawbacks:\n",
    "\n",
    "Performance Overhead: Creating and managing numerous objects can impact performance, especially in resource-constrained environments. Memory allocation and garbage collection add overhead compared to simpler procedural approaches.\n",
    "Debugging difficulties: Tracking down issues in complex, composed systems can be time-consuming due to the interconnected nature of objects and potential for cascading errors.\n",
    "\n",
    "Mitigating these challenges:\n",
    "\n",
    "Favor loose coupling: Use interfaces and abstract classes to define contracts and create looser dependencies between objects. This allows for easier modifications and replacements without breaking code elsewhere.\n",
    "\n",
    "Document clearly: Document the relationships and interactions between composed objects to aid understanding and collaboration.\n",
    "Favor smaller, focused objects: Decompose complex objects into smaller, well-defined ones with clear responsibilities. This reduces complexity and improves manageability.\n",
    "\n",
    "Consider alternatives: When appropriate, consider alternatives like inheritance or procedural approaches if they offer simpler solutions without sacrificing key benefits of composition."
   ]
  },
  {
   "cell_type": "code",
   "execution_count": null,
   "id": "5dd68a43-0ac1-4242-89ca-5ba2605811a7",
   "metadata": {},
   "outputs": [],
   "source": []
  },
  {
   "cell_type": "markdown",
   "id": "3a2ce6e9",
   "metadata": {},
   "source": [
    "14. Create a Python class hierarchy for a restaurant system, using composition to represent menus, dishes, and ingredients."
   ]
  },
  {
   "cell_type": "code",
   "execution_count": 4,
   "id": "a87be0cb",
   "metadata": {},
   "outputs": [
    {
     "name": "stdout",
     "output_type": "stream",
     "text": [
      "\n",
      "Menu: Lunch Specials (Italian)\n",
      "Margherita Pizza - Delicious pizza with tomato sauce and mozzarella (10.50)\n",
      "Ingredients:\n",
      "- Tomato (0.50 per unit)\n",
      "- Mozzarella (1.20 per unit)\n",
      "\n",
      "Caesar Salad - Fresh salad with romaine lettuce, chicken, and dressing (8.00)\n",
      "Ingredients:\n",
      "- Lettuce (0.30 per unit)\n",
      "- Chicken (2.00 per unit)\n",
      "\n",
      "\n"
     ]
    }
   ],
   "source": [
    "class Ingredient:\n",
    "    def __init__(self, name, unit_price):\n",
    "        self.name = name\n",
    "        self.unit_price = unit_price\n",
    "\n",
    "    def __str__(self):\n",
    "        return f\"{self.name} ({self.unit_price:.2f} per unit)\"\n",
    "\n",
    "\n",
    "class Dish:\n",
    "    def __init__(self, name, description, price, ingredients):\n",
    "        self.name = name\n",
    "        self.description = description\n",
    "        self.price = price\n",
    "        self.ingredients = ingredients  # list of Ingredient objects\n",
    "\n",
    "    def get_cost(self):\n",
    "        ingredient_cost = 0\n",
    "        for ingredient in self.ingredients:\n",
    "            ingredient_cost += ingredient.unit_price\n",
    "        return ingredient_cost\n",
    "\n",
    "    def __str__(self):\n",
    "        info = f\"{self.name} - {self.description} ({self.price:.2f})\\n\"\n",
    "        info += \"Ingredients:\\n\"\n",
    "        for ingredient in self.ingredients:\n",
    "            info += f\"- {ingredient}\\n\"\n",
    "        return info\n",
    "\n",
    "\n",
    "class Menu:\n",
    "    def __init__(self, name, category):\n",
    "        self.name = name\n",
    "        self.category = category\n",
    "        self.dishes = []  # list of Dish objects\n",
    "\n",
    "    def add_dish(self, dish):\n",
    "        self.dishes.append(dish)\n",
    "\n",
    "    def get_dishes(self):\n",
    "        return self.dishes\n",
    "\n",
    "    def __str__(self):\n",
    "        info = f\"\\nMenu: {self.name} ({self.category})\\n\"\n",
    "        for dish in self.dishes:\n",
    "            info += f\"{dish}\\n\"\n",
    "        return info\n",
    "\n",
    "\n",
    "# Example usage\n",
    "ingredient1 = Ingredient(\"Tomato\", 0.5)\n",
    "ingredient2 = Ingredient(\"Mozzarella\", 1.2)\n",
    "pizza = Dish(\n",
    "    \"Margherita Pizza\", \"Delicious pizza with tomato sauce and mozzarella\", 10.5, [ingredient1, ingredient2]\n",
    ")\n",
    "\n",
    "ingredient3 = Ingredient(\"Lettuce\", 0.3)\n",
    "ingredient4 = Ingredient(\"Chicken\", 2.0)\n",
    "salad = Dish(\n",
    "    \"Caesar Salad\", \"Fresh salad with romaine lettuce, chicken, and dressing\", 8.0, [ingredient3, ingredient4]\n",
    ")\n",
    "\n",
    "lunch_menu = Menu(\"Lunch Specials\", \"Italian\")\n",
    "lunch_menu.add_dish(pizza)\n",
    "lunch_menu.add_dish(salad)\n",
    "\n",
    "print(lunch_menu)\n"
   ]
  },
  {
   "cell_type": "code",
   "execution_count": null,
   "id": "4af9b2ba",
   "metadata": {},
   "outputs": [],
   "source": []
  },
  {
   "cell_type": "markdown",
   "id": "a228204e",
   "metadata": {},
   "source": [
    "15. Explain how composition enhances code maintainability and modularity in Python programs."
   ]
  },
  {
   "cell_type": "markdown",
   "id": "991d5329",
   "metadata": {},
   "source": [
    "Composition in Python:\n",
    "\n",
    "Pros:\n",
    "\n",
    "Easier to maintain individual objects (smaller, focused)\n",
    "More flexible and reusable code\n",
    "Clearer code structure and separation of concerns\n",
    "\n",
    "Cons:\n",
    "\n",
    "Can increase complexity if overused\n",
    "Requires attention to tight coupling\n",
    "Use composition strategically for:\n",
    "\n",
    "Reusable components\n",
    "Independent development and testing\n",
    "Scalability\n",
    "Flexibility and modularity"
   ]
  },
  {
   "cell_type": "code",
   "execution_count": null,
   "id": "6b4a802b",
   "metadata": {},
   "outputs": [],
   "source": []
  },
  {
   "cell_type": "markdown",
   "id": "ee87da64",
   "metadata": {},
   "source": [
    "16. Create a Python class for a computer game character, using composition to represent attributes like weapons, armor, and inventory."
   ]
  },
  {
   "cell_type": "code",
   "execution_count": null,
   "id": "9457d829",
   "metadata": {},
   "outputs": [],
   "source": [
    "class Item:\n",
    "    def __init__(self, name, value):\n",
    "        self.name = name\n",
    "        self.value = value\n",
    "\n",
    "    def __str__(self):\n",
    "        return f\"{self.name} (Value: {self.value})\"\n",
    "\n",
    "\n",
    "class Weapon(Item):\n",
    "    def __init__(self, name, value, damage):\n",
    "        super().__init__(name, value)\n",
    "        self.damage = damage\n",
    "\n",
    "\n",
    "class Armor(Item):\n",
    "    def __init__(self, name, value, defense):\n",
    "        super().__init__(name, value)\n",
    "        self.defense = defense\n",
    "\n",
    "\n",
    "class Inventory:\n",
    "    def __init__(self, max_weight):\n",
    "        self.max_weight = max_weight\n",
    "        self.items = []\n",
    "        self.current_weight = 0\n",
    "\n",
    "    def add_item(self, item):\n",
    "        if self.current_weight + item.value <= self.max_weight:\n",
    "            self.items.append(item)\n",
    "            self.current_weight += item.value\n",
    "        else:\n",
    "            print(f\"Inventory is full! Cannot add {item.name}.\")\n",
    "\n",
    "    def remove_item(self, item_name):\n",
    "        for item in self.items:\n",
    "            if item.name == item_name:\n",
    "                self.items.remove(item)\n",
    "                self.current_weight -= item.value\n",
    "                return\n",
    "        print(f\"Item {item_name} not found in inventory.\")\n",
    "\n",
    "    def __str__(self):\n",
    "        info = f\"\\nInventory:\\n\"\n",
    "        for item in self.items:\n",
    "            info += f\"- {item}\\n\"\n",
    "        return info\n",
    "\n",
    "\n",
    "class Character:\n",
    "    def __init__(\n",
    "        self, name, health, attack, defense, weapon=None, armor=None, inventory=None\n",
    "    ):\n",
    "        self.name = name\n",
    "        self.health = health\n",
    "        self.attack = attack\n",
    "        self.defense = defense\n",
    "        self.weapon = weapon  # Weapon object\n",
    "        self.armor = armor  # Armor object\n",
    "        self.inventory = inventory or Inventory(50)  # Optional inventory\n",
    "\n",
    "    def equip_weapon(self, weapon):\n",
    "        if self.weapon:\n",
    "            self.inventory.add_item(self.weapon)\n",
    "        self.weapon = weapon\n",
    "        self.attack += weapon.damage\n",
    "\n",
    "    def equip_armor(self, armor):\n",
    "        if self.armor:\n",
    "            self.inventory.add_item(self.armor)\n",
    "        self.armor = armor\n",
    "        self.defense += armor.defense\n",
    "\n",
    "    def unequip(self, item_name):\n",
    "        if item_name == \"weapon\":\n",
    "            self.inventory.add_item(self.weapon)\n",
    "            self.weapon = None\n",
    "            self.attack -= self.weapon.damage if self.weapon else 0\n",
    "        elif item_name == \"armor\":\n",
    "            self.inventory.add_item(self.armor)\n",
    "            self.armor = None\n",
    "            self.defense -= self.armor.defense if self.armor else 0\n",
    "        else:\n",
    "            print(f\"Invalid item name. Can only unequip weapon or armor.\")\n",
    "\n",
    "    def __str__(self):\n",
    "        info = f\"\\nCharacter: {self.name}\\n\"\n",
    "        info += f\"Health: {self.health}\\n\"\n",
    "        info += f\"Attack: {self.attack}\\n\"\n",
    "        info += f\"Defense: {self.defense}\\n\"\n",
    "        if self.weapon:\n",
    "            info += f\"Weapon: {self.weapon}\\n\"\n",
    "        if self.armor:\n",
    "            info += f\"Armor: {self.armor}\\n\"\n",
    "        info += self.inventory.__str__()\n",
    "        return info\n",
    "\n",
    "\n",
    "# Example usage\n",
    "iron_sword = Weapon(\"Iron Sword\", 10, 5)\n",
    "leather_armor = Armor(\"Leather Armor\", 15, 2)\n",
    "\n",
    "hero = Character(\"Aragorn\", 100, 8, 3, iron_sword, leather_armor)\n",
    "\n",
    "print(hero)  # Print character details\n",
    "\n",
    "hero.unequip(\"armor\")  # Unequip armor\n",
    "\n",
    "print(hero)  # Print character details again\n",
    "\n",
    "health_potion = Item(\"Health Potion\", 5)\n",
    "hero.inventory.add_item(health_potion)\n",
    "\n",
    "print(hero)  # Print character details with inventory\n",
    "\n"
   ]
  },
  {
   "cell_type": "code",
   "execution_count": null,
   "id": "a5f4817e",
   "metadata": {},
   "outputs": [],
   "source": []
  },
  {
   "cell_type": "markdown",
   "id": "62a83093",
   "metadata": {},
   "source": [
    "17. Describe the concept of \"aggregation\" in composition and how it differs from simple composition."
   ]
  },
  {
   "cell_type": "raw",
   "id": "bdc1ec6e",
   "metadata": {},
   "source": [
    "Composition:\n",
    "\n",
    "Part is-a whole (strong dependency)\n",
    "Part's lifetime tied to whole (e.g., car and engine)\n",
    "Aggregation:\n",
    "\n",
    "Part has-a whole (weaker dependency)\n",
    "Part's lifetime independent (e.g., student and laptop)\n",
    "Choose:\n",
    "\n",
    "Composition for dependent parts\n",
    "Aggregation for independent parts with \"has-a\" relationship"
   ]
  },
  {
   "cell_type": "code",
   "execution_count": null,
   "id": "777a745d",
   "metadata": {},
   "outputs": [],
   "source": []
  },
  {
   "cell_type": "code",
   "execution_count": null,
   "id": "dbc9bdb2",
   "metadata": {},
   "outputs": [],
   "source": [
    "18. Create a Python class for a house, using composition to represent rooms, furniture, and appliances."
   ]
  },
  {
   "cell_type": "code",
   "execution_count": 5,
   "id": "4c328659",
   "metadata": {},
   "outputs": [
    {
     "name": "stdout",
     "output_type": "stream",
     "text": [
      "Living room contains: Sofa, TV\n"
     ]
    }
   ],
   "source": [
    "class Room:\n",
    "    def __init__(self, name, area):\n",
    "        self.name = name\n",
    "        self.area = area\n",
    "        self.furniture = []\n",
    "\n",
    "    def add_furniture(self, furniture):\n",
    "        self.furniture.append(furniture)\n",
    "\n",
    "    def __str__(self):\n",
    "        return f\"{self.name} (Area: {self.area} sq. ft)\"\n",
    "\n",
    "class Furniture:\n",
    "    def __init__(self, name):\n",
    "        self.name = name\n",
    "\n",
    "    def __str__(self):\n",
    "        return self.name\n",
    "\n",
    "class Appliance:\n",
    "    def __init__(self, name):\n",
    "        self.name = name\n",
    "\n",
    "    def __str__(self):\n",
    "        return self.name\n",
    "\n",
    "# Example usage:\n",
    "if __name__ == \"__main__\":\n",
    "    living_room = Room(\"Living Room\", 200)\n",
    "    sofa = Furniture(\"Sofa\")\n",
    "    tv = Appliance(\"TV\")\n",
    "\n",
    "    living_room.add_furniture(sofa)\n",
    "    living_room.add_furniture(tv)\n",
    "\n",
    "    print(f\"Living room contains: {', '.join(str(item) for item in living_room.furniture)}\")\n"
   ]
  },
  {
   "cell_type": "code",
   "execution_count": null,
   "id": "444b158f",
   "metadata": {},
   "outputs": [],
   "source": []
  },
  {
   "cell_type": "markdown",
   "id": "a407e9a6",
   "metadata": {},
   "source": [
    "19. How can you achieve flexibility in composed objects by allowing them to be replaced or modified dynamically at runtime?"
   ]
  },
  {
   "cell_type": "markdown",
   "id": "05fc7192",
   "metadata": {},
   "source": [
    "Interfaces/abstract classes: Define what the object does, not how. Change the \"how\" part later.\n",
    "    \n",
    "Dependency injection: Inject different object implementations for dynamic behavior.\n",
    "    \n",
    "Strategy pattern: Switch between different \"strategies\" (behaviors) within the object.\n",
    "    \n",
    "Dynamic creation patterns: Create objects with different configurations on the fly.\n",
    "    \n",
    "Configuration and reflection: Use external data to modify objects at runtime (carefully!)."
   ]
  },
  {
   "cell_type": "code",
   "execution_count": null,
   "id": "3d5b3d0a",
   "metadata": {},
   "outputs": [],
   "source": []
  },
  {
   "cell_type": "markdown",
   "id": "4280f365",
   "metadata": {},
   "source": [
    "20. Create a Python class for a social media application, using composition to represent users, posts, and comments."
   ]
  },
  {
   "cell_type": "code",
   "execution_count": 6,
   "id": "4954630d",
   "metadata": {},
   "outputs": [
    {
     "name": "stdout",
     "output_type": "stream",
     "text": [
      "User: alice123 (Nature lover)\n",
      "Post: Enjoying the sunset \n",
      "Comment: Beautiful photo!\n"
     ]
    }
   ],
   "source": [
    "class User:\n",
    "    def __init__(self, username, bio):\n",
    "        self.username = username\n",
    "        self.bio = bio\n",
    "        self.posts = []\n",
    "        self.followers = 0\n",
    "\n",
    "    def create_post(self, content):\n",
    "        post = Post(content)\n",
    "        self.posts.append(post)\n",
    "\n",
    "    def add_follower(self):\n",
    "        self.followers += 1\n",
    "\n",
    "    def __str__(self):\n",
    "        return f\"User: {self.username} ({self.bio})\"\n",
    "\n",
    "class Post:\n",
    "    def __init__(self, content):\n",
    "        self.content = content\n",
    "        self.comments = []\n",
    "\n",
    "    def add_comment(self, comment):\n",
    "        self.comments.append(comment)\n",
    "\n",
    "    def __str__(self):\n",
    "        return f\"Post: {self.content}\"\n",
    "\n",
    "class Comment:\n",
    "    def __init__(self, text):\n",
    "        self.text = text\n",
    "\n",
    "    def __str__(self):\n",
    "        return f\"Comment: {self.text}\"\n",
    "\n",
    "# Example usage:\n",
    "if __name__ == \"__main__\":\n",
    "    user1 = User(\"alice123\", \"Nature lover\")\n",
    "    user1.create_post(\"Enjoying the sunset \")\n",
    "    user1.create_post(\"Hiking in the mountains \")\n",
    "\n",
    "    comment1 = Comment(\"Beautiful photo!\")\n",
    "    user1.posts[0].add_comment(comment1)\n",
    "\n",
    "    print(user1)\n",
    "    print(user1.posts[0])\n",
    "    print(user1.posts[0].comments[0])\n"
   ]
  },
  {
   "cell_type": "code",
   "execution_count": null,
   "id": "4812e614",
   "metadata": {},
   "outputs": [],
   "source": []
  }
 ],
 "metadata": {
  "kernelspec": {
   "display_name": "Python 3 (ipykernel)",
   "language": "python",
   "name": "python3"
  },
  "language_info": {
   "codemirror_mode": {
    "name": "ipython",
    "version": 3
   },
   "file_extension": ".py",
   "mimetype": "text/x-python",
   "name": "python",
   "nbconvert_exporter": "python",
   "pygments_lexer": "ipython3",
   "version": "3.11.5"
  }
 },
 "nbformat": 4,
 "nbformat_minor": 5
}
